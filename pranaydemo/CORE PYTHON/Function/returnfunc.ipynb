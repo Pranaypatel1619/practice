{
 "cells": [
  {
   "cell_type": "code",
   "execution_count": null,
   "metadata": {},
   "outputs": [
    {
     "name": "stdout",
     "output_type": "stream",
     "text": [
      "None\n",
      "None\n"
     ]
    }
   ],
   "source": [
    "def func():\n",
    "    return\n",
    "temp=func()\n",
    "print(temp)\n",
    "print(func())    #default the 'return' type results is 'None'"
   ]
  },
  {
   "cell_type": "code",
   "execution_count": 14,
   "metadata": {},
   "outputs": [
    {
     "name": "stdout",
     "output_type": "stream",
     "text": [
      "8\n"
     ]
    }
   ],
   "source": [
    "def num(a,b):\n",
    "    sum=a+b\n",
    "    return sum\n",
    "    sum=a-b #It will not be considered for execution bcz return keyword will terminate the code after return\n",
    "    print(sum)\n",
    "print(num(2,6))    "
   ]
  },
  {
   "cell_type": "code",
   "execution_count": 16,
   "metadata": {},
   "outputs": [
    {
     "name": "stdout",
     "output_type": "stream",
     "text": [
      "8\n",
      "even\n"
     ]
    }
   ],
   "source": [
    "def num(a,b):\n",
    "    sum=a+b\n",
    "    return sum\n",
    "temp=num(2,6)\n",
    "print(temp)\n",
    "if temp%2==0:\n",
    "    print('even')\n",
    "else:\n",
    "    print('odd')    "
   ]
  },
  {
   "cell_type": "code",
   "execution_count": 28,
   "metadata": {},
   "outputs": [
    {
     "name": "stdout",
     "output_type": "stream",
     "text": [
      "True\n",
      "False\n"
     ]
    }
   ],
   "source": [
    "# create a fun to return true if the given num is even;else return false\n",
    "\n",
    "# def num(a):\n",
    "#     if a%2==0:\n",
    "#         return True\n",
    "#     else:\n",
    "#         return False\n",
    "# print(num(4)) \n",
    "# print(num(3))   \n",
    "#  OR we can write in small\n",
    "\n",
    "def num(a):\n",
    "    return a%2==0\n",
    "print(num(4)) \n",
    "print(num(3)) "
   ]
  },
  {
   "cell_type": "code",
   "execution_count": 29,
   "metadata": {},
   "outputs": [
    {
     "name": "stdout",
     "output_type": "stream",
     "text": [
      "6\n"
     ]
    }
   ],
   "source": [
    "# 3 int arguments and fun will return product of 3 values\n",
    "def num(a,b,c):\n",
    "    return a*b*c\n",
    "print(num(1,2,3))"
   ]
  },
  {
   "cell_type": "code",
   "execution_count": 50,
   "metadata": {},
   "outputs": [
    {
     "name": "stdout",
     "output_type": "stream",
     "text": [
      "9\n"
     ]
    }
   ],
   "source": [
    "# create a fun to return the product of odd digits from gvn string \n",
    "def str(s):\n",
    "    p=1\n",
    "    for i in s:\n",
    "        if i>='0' and i<='9' and int(i)%2==1:\n",
    "            p*=int(i)\n",
    "    return p\n",
    "print(str('pranay@1619') )  \n"
   ]
  },
  {
   "cell_type": "code",
   "execution_count": 51,
   "metadata": {},
   "outputs": [
    {
     "name": "stdout",
     "output_type": "stream",
     "text": [
      "True\n",
      "False\n"
     ]
    }
   ],
   "source": [
    "# wap to return True if the gvn num is prime else return false \n",
    "def prime(a):\n",
    "    c=0\n",
    "    i=1\n",
    "    while i<=a:\n",
    "        if a%i==0:\n",
    "            c+=1\n",
    "        i+=1\n",
    "    return c==2\n",
    "print(prime(7))\n",
    "print(prime(6))\n",
    "        "
   ]
  },
  {
   "cell_type": "code",
   "execution_count": 54,
   "metadata": {},
   "outputs": [
    {
     "name": "stdout",
     "output_type": "stream",
     "text": [
      "arp\n"
     ]
    }
   ],
   "source": [
    "# create a func the reverse of first half of the gvn string \n",
    "def str(s):\n",
    "    rev=''\n",
    "    for i in range(len(s)//2):\n",
    "        rev=s[i]+rev\n",
    "    return rev\n",
    "print(str('pranay'))"
   ]
  },
  {
   "cell_type": "code",
   "execution_count": 73,
   "metadata": {},
   "outputs": [
    {
     "name": "stdout",
     "output_type": "stream",
     "text": [
      "rny\n",
      "rny\n"
     ]
    }
   ],
   "source": [
    "# create a fun to return the odd indexd character from gvn string \n",
    "def str(s):\n",
    "    res=''\n",
    "    for i in range(1,len(s),2):\n",
    "          res+=s[i]\n",
    "    return res\n",
    "print(str('pranay'))\n",
    "\n",
    "# OR \n",
    "\n",
    "def str(s):\n",
    "    res=''\n",
    "    for i in range(len(s)):\n",
    "          if i%2==1:\n",
    "            res+=s[i]\n",
    "    return res\n",
    "print(str('pranay'))\n",
    "         "
   ]
  },
  {
   "cell_type": "code",
   "execution_count": 77,
   "metadata": {},
   "outputs": [
    {
     "name": "stdout",
     "output_type": "stream",
     "text": [
      "1\n"
     ]
    }
   ],
   "source": [
    "# create a func to return the smallest digit from gvn number \n",
    "def num(n):\n",
    "    sd=9\n",
    "    while n>0:\n",
    "        ld=n%10\n",
    "        if ld<sd:\n",
    "            sd=ld\n",
    "        n//=10\n",
    "    return sd\n",
    "print(num(389149217))         "
   ]
  },
  {
   "cell_type": "code",
   "execution_count": 81,
   "metadata": {},
   "outputs": [
    {
     "name": "stdout",
     "output_type": "stream",
     "text": [
      "True\n"
     ]
    }
   ],
   "source": [
    "# create a fun to return true if the gvn num is strong num else return false \n",
    "def strongNum(n):\n",
    "    sum=0\n",
    "    temp=n\n",
    "    while n>0:\n",
    "        ld=n%10\n",
    "        fact=1\n",
    "        i=1\n",
    "        while i<=ld:\n",
    "            fact*=i\n",
    "            i+=1\n",
    "        sum+=fact\n",
    "        n//=10\n",
    "    return sum==temp\n",
    "print(strongNum(145))        "
   ]
  }
 ],
 "metadata": {
  "kernelspec": {
   "display_name": "Python 3",
   "language": "python",
   "name": "python3"
  },
  "language_info": {
   "codemirror_mode": {
    "name": "ipython",
    "version": 3
   },
   "file_extension": ".py",
   "mimetype": "text/x-python",
   "name": "python",
   "nbconvert_exporter": "python",
   "pygments_lexer": "ipython3",
   "version": "3.13.1"
  }
 },
 "nbformat": 4,
 "nbformat_minor": 2
}
