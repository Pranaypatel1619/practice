{
 "cells": [
  {
   "cell_type": "code",
   "execution_count": 1,
   "metadata": {},
   "outputs": [
    {
     "name": "stdout",
     "output_type": "stream",
     "text": [
      "50.24\n"
     ]
    }
   ],
   "source": [
    "# create a fun to return the area of circle .\n",
    "def radius(n):\n",
    "    return(3.14*n**2)\n",
    "print(radius(4))"
   ]
  },
  {
   "cell_type": "code",
   "execution_count": 14,
   "metadata": {},
   "outputs": [
    {
     "name": "stdout",
     "output_type": "stream",
     "text": [
      "6\n"
     ]
    }
   ],
   "source": [
    "# create 2 function to find the sum of odd digits in a num \n",
    "def odd(n):\n",
    "    if n%2==0:\n",
    "        return True\n",
    "    else:\n",
    "        return False\n",
    "def sum(n):\n",
    "    sum=0\n",
    "    while n>0:\n",
    "        ld=n%10\n",
    "        if odd(ld)==True:\n",
    "           sum+=ld\n",
    "        n//=10\n",
    "    return sum\n",
    "print(sum(12345))          "
   ]
  },
  {
   "cell_type": "code",
   "execution_count": 5,
   "metadata": {},
   "outputs": [
    {
     "name": "stdout",
     "output_type": "stream",
     "text": [
      "48\n"
     ]
    }
   ],
   "source": [
    "# create 2 function to find the product of even digits in a num \n",
    "def even(n):\n",
    "    if n%2==0:\n",
    "        return True\n",
    "    else:\n",
    "        return False\n",
    "def product(n):\n",
    "    p=1\n",
    "    while n>0:\n",
    "        ld=n%10\n",
    "        if even(ld)==True:\n",
    "            p*=ld\n",
    "        n//=10\n",
    "    return p\n",
    "print(product(123456))        \n"
   ]
  },
  {
   "cell_type": "code",
   "execution_count": 17,
   "metadata": {},
   "outputs": [
    {
     "name": "stdout",
     "output_type": "stream",
     "text": [
      "it is a prime number\n"
     ]
    }
   ],
   "source": [
    "# create two functions to check the gvn num is prime num or not \n",
    "def prime(n):\n",
    "    i=1\n",
    "    c=0\n",
    "    while i<=n:\n",
    "        if n%i==0:\n",
    "            c+=1\n",
    "        i+=1\n",
    "    return c\n",
    "def isPrime(n):\n",
    "    if (prime(n))==2:\n",
    "        return('it is a prime number')\n",
    "    else:\n",
    "        return(\"No\")    \n",
    "print(isPrime(7))       "
   ]
  },
  {
   "cell_type": "code",
   "execution_count": null,
   "metadata": {},
   "outputs": [
    {
     "name": "stdout",
     "output_type": "stream",
     "text": [
      "True\n"
     ]
    }
   ],
   "source": [
    "# strongNumber \n",
    "def strongNum(n):\n",
    "    sum=0\n",
    "    temp=n\n",
    "    while n>0:\n",
    "        ld=n%10\n",
    "        sum+=fact(ld)\n",
    "        n//=10\n",
    "    return temp==sum\n",
    "def fact(n): \n",
    "    i=1\n",
    "    fc=1 \n",
    "    while i<=n:\n",
    "        fc*=i \n",
    "        i+=1     \n",
    "    return fc\n",
    "print(strongNum(145))  "
   ]
  },
  {
   "cell_type": "code",
   "execution_count": 38,
   "metadata": {},
   "outputs": [
    {
     "name": "stdout",
     "output_type": "stream",
     "text": [
      "spy\n",
      "no\n"
     ]
    }
   ],
   "source": [
    "# spy number\n",
    "def spy(n):\n",
    "    sum=0\n",
    "    p=1\n",
    "    while n>0:\n",
    "        ld=n%10\n",
    "        sum+=ld\n",
    "        p*=ld\n",
    "        n//=10\n",
    "    return sum==p\n",
    "def isSpy(n):\n",
    "    if spy(n):\n",
    "        return \"spy\" \n",
    "    else:\n",
    "        return \"no\"\n",
    "print(isSpy(123))  \n",
    "print(isSpy(122))           "
   ]
  },
  {
   "cell_type": "code",
   "execution_count": 65,
   "metadata": {},
   "outputs": [
    {
     "name": "stdout",
     "output_type": "stream",
     "text": [
      "palidrome\n"
     ]
    }
   ],
   "source": [
    "# palidrome number\n",
    "def palidrome(n):\n",
    "    rev=0\n",
    "    temp=n\n",
    "    while n>0:\n",
    "        ld=n%10\n",
    "        rev=rev*10+ld\n",
    "        n//=10\n",
    "    return rev==temp\n",
    "def isPalidrome(n):\n",
    "    if palidrome(n):\n",
    "        return 'palidrome'\n",
    "    else:\n",
    "        return \"Not a palidrome\"   \n",
    "           \n",
    "print(isPalidrome(121))         "
   ]
  },
  {
   "cell_type": "code",
   "execution_count": 69,
   "metadata": {},
   "outputs": [
    {
     "data": {
      "text/plain": [
       "'yanarp'"
      ]
     },
     "execution_count": 69,
     "metadata": {},
     "output_type": "execute_result"
    }
   ],
   "source": [
    "def str(s):\n",
    "    rev=''\n",
    "    for i in s:\n",
    "        rev=i+rev\n",
    "    return rev  \n",
    "str(\"pranay\")  "
   ]
  }
 ],
 "metadata": {
  "kernelspec": {
   "display_name": "Python 3",
   "language": "python",
   "name": "python3"
  },
  "language_info": {
   "codemirror_mode": {
    "name": "ipython",
    "version": 3
   },
   "file_extension": ".py",
   "mimetype": "text/x-python",
   "name": "python",
   "nbconvert_exporter": "python",
   "pygments_lexer": "ipython3",
   "version": "3.13.1"
  }
 },
 "nbformat": 4,
 "nbformat_minor": 2
}
