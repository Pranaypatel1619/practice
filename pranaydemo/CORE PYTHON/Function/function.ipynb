{
 "cells": [
  {
   "cell_type": "code",
   "execution_count": 1,
   "metadata": {},
   "outputs": [
    {
     "name": "stdout",
     "output_type": "stream",
     "text": [
      "pranay patel\n"
     ]
    }
   ],
   "source": [
    "def name():\n",
    "    print('pranay patel')\n",
    "name()    "
   ]
  },
  {
   "cell_type": "code",
   "execution_count": null,
   "metadata": {},
   "outputs": [
    {
     "name": "stdout",
     "output_type": "stream",
     "text": [
      "even\n"
     ]
    }
   ],
   "source": [
    "#even\n",
    "def even():\n",
    "    num=int(input())\n",
    "    if num%2==0:\n",
    "        print(\"even\")\n",
    "    else:\n",
    "        print(\"odd\")    \n",
    "even()        "
   ]
  },
  {
   "cell_type": "code",
   "execution_count": 10,
   "metadata": {},
   "outputs": [
    {
     "name": "stdout",
     "output_type": "stream",
     "text": [
      "prime\n"
     ]
    }
   ],
   "source": [
    "# prime or not \n",
    "def prime():\n",
    "    n=int(input())\n",
    "    i=1\n",
    "    c=0\n",
    "    while i<=n:\n",
    "        if n%i==0:\n",
    "            c+=1\n",
    "        i+=1\n",
    "    if c==2:\n",
    "        print('prime')\n",
    "    else:\n",
    "        print('not') \n",
    "prime()               "
   ]
  },
  {
   "cell_type": "code",
   "execution_count": 13,
   "metadata": {},
   "outputs": [
    {
     "name": "stdout",
     "output_type": "stream",
     "text": [
      "yanarp\n"
     ]
    }
   ],
   "source": [
    "# reverse a string \n",
    "def reverse():\n",
    "    s=input()\n",
    "    rev=''\n",
    "    for i in s:\n",
    "        rev=i+rev\n",
    "    print(rev)   \n",
    "reverse()     "
   ]
  },
  {
   "cell_type": "code",
   "execution_count": null,
   "metadata": {},
   "outputs": [],
   "source": [
    "# functions with arguments/parameters"
   ]
  },
  {
   "cell_type": "code",
   "execution_count": null,
   "metadata": {},
   "outputs": [
    {
     "name": "stdout",
     "output_type": "stream",
     "text": [
      "my self I am:pranay\n",
      "my self I am:npaHexa\n"
     ]
    }
   ],
   "source": [
    "def wish(name):\n",
    "    print(f\"my self I am:{name}\")\n",
    "wish(\"pranay\")  \n",
    "wish(\"npaHexa\")  \n",
    "# wish() //this line throws an error"
   ]
  },
  {
   "cell_type": "code",
   "execution_count": 33,
   "metadata": {},
   "outputs": [
    {
     "name": "stdout",
     "output_type": "stream",
     "text": [
      "divisible\n",
      "divisible\n",
      "not divisible\n"
     ]
    }
   ],
   "source": [
    "# check the num is divisible by 2 0r 5\n",
    "def num(a):\n",
    "    if a%2==0 or a%5==0:\n",
    "        print(\"divisible\")\n",
    "    else:\n",
    "        print(\"not divisible\") \n",
    "num(2)\n",
    "num(10)\n",
    "num(13)           "
   ]
  },
  {
   "cell_type": "code",
   "execution_count": 34,
   "metadata": {},
   "outputs": [
    {
     "name": "stdout",
     "output_type": "stream",
     "text": [
      "6\n",
      "682\n"
     ]
    }
   ],
   "source": [
    "# creating a fun with 3 arguments\n",
    "def product(a,b,c):\n",
    "    prod=a*b*c\n",
    "    print(prod)\n",
    "product(1,2,3) \n",
    "product(11,2,31)   "
   ]
  },
  {
   "cell_type": "code",
   "execution_count": 45,
   "metadata": {},
   "outputs": [
    {
     "name": "stdout",
     "output_type": "stream",
     "text": [
      "16\n",
      "19\n"
     ]
    }
   ],
   "source": [
    "# creating 2 functions\n",
    "def sum(a,b):\n",
    "    print(a+b)\n",
    "def sub(c):\n",
    "    print(c-2)  \n",
    "sum(8,8)\n",
    "sub(21)      "
   ]
  },
  {
   "cell_type": "code",
   "execution_count": null,
   "metadata": {},
   "outputs": [
    {
     "name": "stdout",
     "output_type": "stream",
     "text": [
      "6\n",
      "6\n",
      "spy\n",
      "9\n",
      "27\n",
      "no\n"
     ]
    }
   ],
   "source": [
    "# spy num or not  ex:123 ==>1+2+3=6 and 1*2*3=6 ===>sum==product\n",
    "def spy(a):\n",
    "    sum=0\n",
    "    p=1\n",
    "    while a>0:\n",
    "        ld=a%10\n",
    "        sum+=ld\n",
    "        p*=ld\n",
    "        a//=10\n",
    "    print(sum)\n",
    "    print(p)\n",
    "    if sum==p:\n",
    "        print(\"spy\")\n",
    "    else:\n",
    "        print(\"no\")   \n",
    "spy(123)  "
   ]
  },
  {
   "cell_type": "code",
   "execution_count": 68,
   "metadata": {},
   "outputs": [
    {
     "name": "stdout",
     "output_type": "stream",
     "text": [
      "6\n",
      "28\n",
      "496\n"
     ]
    }
   ],
   "source": [
    "# perfect numbers in a given range\n",
    "# ex:n=6 factors of 6=1,2,3,6 ==>proper factors 1,2,3 so 1+2+3=n it is perfect\n",
    "def isPerfect(m,n):\n",
    "    while m<=n:\n",
    "        sum=0\n",
    "        i=1\n",
    "        while i<m:\n",
    "            if m%i==0:\n",
    "                sum+=i\n",
    "            i+=1\n",
    "        if sum==m:\n",
    "            print(m)     \n",
    "        m+=1\n",
    "# isPerfect(6)     \n",
    "isPerfect(1,1000)           "
   ]
  },
  {
   "cell_type": "code",
   "execution_count": 72,
   "metadata": {},
   "outputs": [
    {
     "name": "stdout",
     "output_type": "stream",
     "text": [
      "101\n",
      "111\n",
      "121\n",
      "131\n",
      "141\n",
      "151\n",
      "161\n",
      "171\n",
      "181\n",
      "191\n"
     ]
    }
   ],
   "source": [
    "# palidrome number in a given range \n",
    "def palidrome(m,n):\n",
    "    for i in range(m,n+1):\n",
    "        rev=0\n",
    "        temp=i\n",
    "        while i>0: \n",
    "            ld=i%10\n",
    "            rev=rev*10+ld\n",
    "            i//=10\n",
    "        if rev==temp:\n",
    "            print(temp)\n",
    "palidrome(100,200)                "
   ]
  },
  {
   "cell_type": "code",
   "execution_count": 1,
   "metadata": {},
   "outputs": [
    {
     "name": "stdout",
     "output_type": "stream",
     "text": [
      "6\n"
     ]
    }
   ],
   "source": [
    "def sum(a):\n",
    "    add=0\n",
    "    while a>0:\n",
    "        ld=a%10\n",
    "        add+=ld\n",
    "        a//=10\n",
    "    print(add)\n",
    "sum(123)        "
   ]
  },
  {
   "cell_type": "code",
   "execution_count": 2,
   "metadata": {},
   "outputs": [
    {
     "name": "stdout",
     "output_type": "stream",
     "text": [
      "even\n"
     ]
    }
   ],
   "source": [
    "def even (a):\n",
    "    if a%2==0:\n",
    "        print('even')\n",
    "    else:\n",
    "        print('No')\n",
    "even(2)        "
   ]
  }
 ],
 "metadata": {
  "kernelspec": {
   "display_name": "Python 3",
   "language": "python",
   "name": "python3"
  },
  "language_info": {
   "codemirror_mode": {
    "name": "ipython",
    "version": 3
   },
   "file_extension": ".py",
   "mimetype": "text/x-python",
   "name": "python",
   "nbconvert_exporter": "python",
   "pygments_lexer": "ipython3",
   "version": "3.13.1"
  }
 },
 "nbformat": 4,
 "nbformat_minor": 2
}
