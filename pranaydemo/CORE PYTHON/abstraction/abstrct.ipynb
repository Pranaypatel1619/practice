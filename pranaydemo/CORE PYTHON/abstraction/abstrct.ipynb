{
 "cells": [
  {
   "cell_type": "code",
   "execution_count": 1,
   "metadata": {},
   "outputs": [
    {
     "name": "stdout",
     "output_type": "stream",
     "text": [
      "virat 35\n",
      "virat role is developer\n",
      "virat sal is 80000\n",
      "virat loc is hyd\n"
     ]
    }
   ],
   "source": [
    "from abc import ABC,abstractmethod\n",
    "class Employee(ABC):\n",
    "    def __init__(self,name,age):\n",
    "        self.name=name\n",
    "        self.age=age\n",
    "    def display(self):\n",
    "        print(self.name,self.age)\n",
    "    def role(self):\n",
    "        print(f\"{self.name} role is developer\")  \n",
    "    @abstractmethod\n",
    "    def loc(self):\n",
    "        print(f\"{self.name} loc is hyd\")\n",
    "    @abstractmethod\n",
    "    def sal(self):\n",
    "        print(f\"{self.name} sal is 80000\")\n",
    "class Developer(Employee):\n",
    "    def loc(self):\n",
    "        super().loc() \n",
    "    def sal(self):\n",
    "        super().sal()\n",
    "d1=Developer(\"virat\",35)\n",
    "d1.display()\n",
    "d1.role()\n",
    "d1.sal()\n",
    "d1.loc()                                 "
   ]
  }
 ],
 "metadata": {
  "kernelspec": {
   "display_name": "Python 3",
   "language": "python",
   "name": "python3"
  },
  "language_info": {
   "codemirror_mode": {
    "name": "ipython",
    "version": 3
   },
   "file_extension": ".py",
   "mimetype": "text/x-python",
   "name": "python",
   "nbconvert_exporter": "python",
   "pygments_lexer": "ipython3",
   "version": "3.13.1"
  }
 },
 "nbformat": 4,
 "nbformat_minor": 2
}
