{
 "cells": [
  {
   "cell_type": "code",
   "execution_count": null,
   "metadata": {},
   "outputs": [
    {
     "ename": "TypeError",
     "evalue": "Employee.display() missing 1 required positional argument: 'self'",
     "output_type": "error",
     "traceback": [
      "\u001b[0;31m---------------------------------------------------------------------------\u001b[0m",
      "\u001b[0;31mTypeError\u001b[0m                                 Traceback (most recent call last)",
      "Cell \u001b[0;32mIn[11], line 39\u001b[0m\n\u001b[1;32m     35\u001b[0m e3 \u001b[38;5;241m=\u001b[39m Employee(\u001b[38;5;124m\"\u001b[39m\u001b[38;5;124mkpsp\u001b[39m\u001b[38;5;124m\"\u001b[39m, \u001b[38;5;241m35\u001b[39m, \u001b[38;5;241m75000\u001b[39m, \u001b[38;5;124m\"\u001b[39m\u001b[38;5;124mBangalore\u001b[39m\u001b[38;5;124m\"\u001b[39m)\n\u001b[1;32m     36\u001b[0m Employee\u001b[38;5;241m.\u001b[39mupdate(\u001b[38;5;124m\"\u001b[39m\u001b[38;5;124m5c22\u001b[39m\u001b[38;5;124m\"\u001b[39m, \u001b[38;5;124m\"\u001b[39m\u001b[38;5;124mSenior Developer\u001b[39m\u001b[38;5;124m\"\u001b[39m)\n\u001b[0;32m---> 39\u001b[0m \u001b[43me1\u001b[49m\u001b[38;5;241;43m.\u001b[39;49m\u001b[43mdisplay\u001b[49m\u001b[43m(\u001b[49m\u001b[43m)\u001b[49m\n\u001b[1;32m     40\u001b[0m e2\u001b[38;5;241m.\u001b[39mdisplay()\n\u001b[1;32m     41\u001b[0m e3\u001b[38;5;241m.\u001b[39mdisplay()\n",
      "\u001b[0;31mTypeError\u001b[0m: Employee.display() missing 1 required positional argument: 'self'"
     ]
    }
   ],
   "source": [
    "class Employee:\n",
    "    id=\"1619p\"\n",
    "    role=\"Web Developer\"\n",
    "    def __init__(self,name,age,sal,loc):\n",
    "        if len(name) < 3 or len(name) > 15:\n",
    "            print(\"Name must be between 3 and 15 characters.\")\n",
    "        if  age>=45 or age<=20:\n",
    "            print(\"age must be grater than equal to 20 and less than equal to 45\")   \n",
    "        if len(str(sal)) < 4:\n",
    "            print(\"Salary must be at least 4 digits.\")\n",
    "        self.name=name\n",
    "        self.age=age\n",
    "        self.sal=sal\n",
    "        self.loc=loc\n",
    "    @classmethod\n",
    "    def update(cls, new_id, new_role):\n",
    "        cls.id = new_id\n",
    "        cls.role = new_role\n",
    "\n",
    "    @staticmethod\n",
    "    def display(self):\n",
    "        print(self.name,self.age,self.sal,self.loc,self.id,self.role)\n",
    "\n",
    "\n",
    "e1 = Employee(\"abcd\", 25, 50000, \"hyd\")\n",
    "e2 = Employee(\"xyza\", 30, 60000, \"kphb\")\n",
    "e3 = Employee(\"kpsp\", 35, 75000, \"Bangalore\")\n",
    "Employee.update(\"5c22\", \"Senior Developer\")\n",
    "e1.display()\n",
    "e2.display()\n",
    "e3.display()\n"
   ]
  },
  {
   "cell_type": "code",
   "execution_count": null,
   "metadata": {},
   "outputs": [],
   "source": []
  }
 ],
 "metadata": {
  "kernelspec": {
   "display_name": "Python 3",
   "language": "python",
   "name": "python3"
  },
  "language_info": {
   "codemirror_mode": {
    "name": "ipython",
    "version": 3
   },
   "file_extension": ".py",
   "mimetype": "text/x-python",
   "name": "python",
   "nbconvert_exporter": "python",
   "pygments_lexer": "ipython3",
   "version": "3.13.1"
  }
 },
 "nbformat": 4,
 "nbformat_minor": 2
}
