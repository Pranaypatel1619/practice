{
 "cells": [
  {
   "cell_type": "code",
   "execution_count": null,
   "metadata": {},
   "outputs": [
    {
     "ename": "TypeError",
     "evalue": "Laptop2.__init__() missing 1 required positional argument: 'use'",
     "output_type": "error",
     "traceback": [
      "\u001b[0;31m---------------------------------------------------------------------------\u001b[0m",
      "\u001b[0;31mTypeError\u001b[0m                                 Traceback (most recent call last)",
      "Cell \u001b[0;32mIn[4], line 29\u001b[0m\n\u001b[1;32m     27\u001b[0m     \u001b[38;5;28;01mdef\u001b[39;00m\u001b[38;5;250m \u001b[39m\u001b[38;5;21m__init__\u001b[39m(\u001b[38;5;28mself\u001b[39m,newname,newram,newrom,colour,model,price,use): \n\u001b[1;32m     28\u001b[0m         \u001b[38;5;28msuper\u001b[39m()\u001b[38;5;241m.\u001b[39m\u001b[38;5;21m__init__\u001b[39m()   \n\u001b[0;32m---> 29\u001b[0m L2\u001b[38;5;241m=\u001b[39m\u001b[43mLaptop2\u001b[49m\u001b[43m(\u001b[49m\u001b[38;5;124;43m\"\u001b[39;49m\u001b[38;5;124;43mHp\u001b[39;49m\u001b[38;5;124;43m\"\u001b[39;49m\u001b[43m,\u001b[49m\u001b[38;5;124;43m\"\u001b[39;49m\u001b[38;5;124;43m6gb\u001b[39;49m\u001b[38;5;124;43m\"\u001b[39;49m\u001b[43m,\u001b[49m\u001b[38;5;124;43m\"\u001b[39;49m\u001b[38;5;124;43m120gb\u001b[39;49m\u001b[38;5;124;43m\"\u001b[39;49m\u001b[43m,\u001b[49m\u001b[38;5;124;43m'\u001b[39;49m\u001b[38;5;124;43mblack\u001b[39;49m\u001b[38;5;124;43m'\u001b[39;49m\u001b[43m,\u001b[49m\u001b[38;5;241;43m2023\u001b[39;49m\u001b[43m,\u001b[49m\u001b[38;5;241;43m40000\u001b[39;49m\u001b[43m)\u001b[49m \n\u001b[1;32m     30\u001b[0m L2\u001b[38;5;241m.\u001b[39mdisplay()                  \n",
      "\u001b[0;31mTypeError\u001b[0m: Laptop2.__init__() missing 1 required positional argument: 'use'"
     ]
    }
   ],
   "source": [
    "class Laptop:\n",
    "    name=\"Mac\"\n",
    "    ram=\"8gb\"\n",
    "    rom=\"256gb\"\n",
    "    colour=None\n",
    "    model=None\n",
    "    price=None\n",
    "    def __init__(self,colour,model,price): \n",
    "        self.colour=colour\n",
    "        self.model=model\n",
    "        self.price=price\n",
    "    def display(self):\n",
    "        print(self.name,self.ram,self.rom,self.colour,self.model,self.price)\n",
    "class Laptop1(Laptop):\n",
    "    def __init__(self,colour,model,price,use):\n",
    "        self.use=use\n",
    "    super().__init__(colour,model,price) \n",
    "    @classmethod\n",
    "    def update(cls,newname,newram,newrom): \n",
    "         cls.name=newname\n",
    "         cls.ram=newram\n",
    "         cls.rom=newrom \n",
    "class Laptop2(Laptop1): \n",
    "    def __init__(self,newname,newram,newrom,colour,model,price,use): \n",
    "        super().__init__()   \n",
    "L2=Laptop2(\"Hp\",\"6gb\",\"120gb\",'black',2023,40000) \n",
    "L2.display()                  \n",
    "\n"
   ]
  }
 ],
 "metadata": {
  "kernelspec": {
   "display_name": "Python 3",
   "language": "python",
   "name": "python3"
  },
  "language_info": {
   "codemirror_mode": {
    "name": "ipython",
    "version": 3
   },
   "file_extension": ".py",
   "mimetype": "text/x-python",
   "name": "python",
   "nbconvert_exporter": "python",
   "pygments_lexer": "ipython3",
   "version": "3.13.1"
  }
 },
 "nbformat": 4,
 "nbformat_minor": 2
}
