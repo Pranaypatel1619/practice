{
 "cells": [
  {
   "cell_type": "code",
   "execution_count": null,
   "metadata": {},
   "outputs": [
    {
     "name": "stdout",
     "output_type": "stream",
     "text": [
      "virat 35 cse mriet hyd 5c2\n"
     ]
    }
   ],
   "source": [
    "class Student:\n",
    "    name=\"virat\"\n",
    "    age=\"35\"\n",
    "    branch=\"cse\"\n",
    "    def __init__(self,clg,loc,id):\n",
    "        self.clg=clg\n",
    "        self.loc=loc\n",
    "        self.id=id\n",
    "    def get_info(self):\n",
    "        print(self.name,self.age,self.branch,self.clg,self.loc,self.id)\n",
    "    @classmethod\n",
    "    def change(cls,newname,newage):\n",
    "        self.newname=name\n",
    "        self.newage=age    \n",
    "\n",
    "s1=Student(\"mriet\",\"hyd\",\"5c2\") \n",
    "s1.get_info()"
   ]
  }
 ],
 "metadata": {
  "kernelspec": {
   "display_name": "Python 3",
   "language": "python",
   "name": "python3"
  },
  "language_info": {
   "codemirror_mode": {
    "name": "ipython",
    "version": 3
   },
   "file_extension": ".py",
   "mimetype": "text/x-python",
   "name": "python",
   "nbconvert_exporter": "python",
   "pygments_lexer": "ipython3",
   "version": "3.13.1"
  }
 },
 "nbformat": 4,
 "nbformat_minor": 2
}
