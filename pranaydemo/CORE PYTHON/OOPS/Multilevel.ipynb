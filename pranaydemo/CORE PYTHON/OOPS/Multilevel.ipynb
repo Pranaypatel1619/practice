{
 "cells": [
  {
   "cell_type": "code",
   "execution_count": 1,
   "metadata": {},
   "outputs": [
    {
     "name": "stdout",
     "output_type": "stream",
     "text": [
      "student1 is sleeping\n",
      "Student3 is writing\n",
      "student is studing\n"
     ]
    }
   ],
   "source": [
    "class Student:\n",
    "    def study(self):\n",
    "        print(\"student is studing\")\n",
    "class Student1(Student):\n",
    "    def sleep(self):\n",
    "        print(\"student1 is sleeping\") \n",
    "class Student3(Student1):\n",
    "    def write(self):\n",
    "        print(\"Student3 is writing\")               \n",
    "S=Student3()\n",
    "S.sleep()\n",
    "S.write()\n",
    "S.study()"
   ]
  },
  {
   "cell_type": "code",
   "execution_count": 10,
   "metadata": {},
   "outputs": [
    {
     "name": "stdout",
     "output_type": "stream",
     "text": [
      "pranay 22 5C2\n",
      "pranay is sleeping\n",
      "pranay is writing\n",
      "pranay is studing\n"
     ]
    }
   ],
   "source": [
    "class Student:\n",
    "    def __init__(self,name,age):\n",
    "        self.name=name\n",
    "        self.age=age\n",
    "    def display(self):\n",
    "         print(self.name,self.age,self.Id)   \n",
    "    def study(self):\n",
    "        print(f\"{self.name} is studing\")\n",
    "class Student1(Student):\n",
    "    def sleep(self):\n",
    "        print(f\"{self.name} is sleeping\") \n",
    "class Student3(Student1):\n",
    "    def __init__(self,name,age,Id):\n",
    "        super().__init__(name,age)\n",
    "        self.Id=Id\n",
    "    def write(self):\n",
    "        print(f\"{self.name} is writing\")               \n",
    "S=Student3(\"pranay\",22,\"5C2\")\n",
    "S.display()\n",
    "S.sleep()\n",
    "S.write()\n",
    "S.study()"
   ]
  },
  {
   "cell_type": "code",
   "execution_count": 5,
   "metadata": {},
   "outputs": [
    {
     "name": "stdout",
     "output_type": "stream",
     "text": [
      "pranay 22 5C2\n",
      "pranay is studying.......\n",
      "pranaypatel is studying....\n"
     ]
    }
   ],
   "source": [
    "# with respect to polymorphisam\n",
    "\n",
    "\n",
    "class Student:\n",
    "    def __init__(self,name,age):\n",
    "        self.name=name\n",
    "        self.age=age\n",
    "    def display(self):\n",
    "         print(self.name,self.age,self.Id)   \n",
    "    def study(self):\n",
    "        pass\n",
    "class Student1(Student):\n",
    "    def study(self):\n",
    "        print(f\"{self.name} is studying....\") \n",
    "class Student3(Student1):\n",
    "    def __init__(self,name,age,Id):\n",
    "        super().__init__(name,age)\n",
    "        self.Id=Id\n",
    "    def study(self):\n",
    "        print(f\"{self.name} is studying.......\")              \n",
    "S=Student3(\"pranay\",22,\"5C2\")\n",
    "S.display()\n",
    "S.study()\n",
    "S1=Student1(\"pranaypatel\",21)\n",
    "# S1.display()\n",
    "S1.study()"
   ]
  }
 ],
 "metadata": {
  "kernelspec": {
   "display_name": "Python 3",
   "language": "python",
   "name": "python3"
  },
  "language_info": {
   "codemirror_mode": {
    "name": "ipython",
    "version": 3
   },
   "file_extension": ".py",
   "mimetype": "text/x-python",
   "name": "python",
   "nbconvert_exporter": "python",
   "pygments_lexer": "ipython3",
   "version": "3.13.1"
  }
 },
 "nbformat": 4,
 "nbformat_minor": 2
}
