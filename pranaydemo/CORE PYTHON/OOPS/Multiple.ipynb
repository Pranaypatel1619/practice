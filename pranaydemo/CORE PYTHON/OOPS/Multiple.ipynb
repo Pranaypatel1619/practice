{
 "cells": [
  {
   "cell_type": "code",
   "execution_count": null,
   "metadata": {},
   "outputs": [
    {
     "name": "stdout",
     "output_type": "stream",
     "text": [
      "Student3 is writing\n"
     ]
    }
   ],
   "source": [
    "class Student:\n",
    "    def study(self):\n",
    "        print(\"student is studing\")\n",
    "class Student1:\n",
    "    def study(self):\n",
    "        print(\"student1 is sleeping\") \n",
    "class Student3(Student1,Student):   \n",
    "    def study(self):\n",
    "        print(\"Student3 is writing\")               \n",
    "S3=Student3()\n",
    "S3.study() #only student3 study method will execute bcz of overriding with same method name"
   ]
  },
  {
   "cell_type": "code",
   "execution_count": null,
   "metadata": {},
   "outputs": [
    {
     "name": "stdout",
     "output_type": "stream",
     "text": [
      "Student3 is writing\n",
      "student1 is sleeping\n"
     ]
    }
   ],
   "source": [
    "class Student:\n",
    "    def study(self):\n",
    "        print(\"student is studing\")\n",
    "class Student1:\n",
    "    def study(self):\n",
    "        print(\"student1 is sleeping\") \n",
    "class Student3(Student1,Student):      #we called 1st student1\n",
    "    def write(self):\n",
    "        print(\"Student3 is writing\")               \n",
    "S3=Student3()\n",
    "S3.write()\n",
    "S3.study()   #here student1 study method will execute bcz we called 1st student1 "
   ]
  },
  {
   "cell_type": "code",
   "execution_count": 10,
   "metadata": {},
   "outputs": [
    {
     "name": "stdout",
     "output_type": "stream",
     "text": [
      "Student3 is writing\n",
      "student is studing\n"
     ]
    }
   ],
   "source": [
    "class Student:\n",
    "    def study(self):\n",
    "        print(\"student is studing\")\n",
    "class Student1:\n",
    "    def study(self):\n",
    "        print(\"student1 is sleeping\") \n",
    "class Student3(Student,Student1):      #we called 1st student\n",
    "    def write(self):\n",
    "        print(\"Student3 is writing\")               \n",
    "S3=Student3()\n",
    "S3.write()\n",
    "S3.study()   #here student study method will execute bcz we called 1st student "
   ]
  },
  {
   "cell_type": "code",
   "execution_count": 6,
   "metadata": {},
   "outputs": [
    {
     "name": "stdout",
     "output_type": "stream",
     "text": [
      "Mac 8GB 256 Grey 2024\n"
     ]
    }
   ],
   "source": [
    "class Laptop:\n",
    "    def __init__(self,name,ram):\n",
    "        self.name=name\n",
    "        self.ram=ram\n",
    "    def display(self):\n",
    "        print(self.name,self.ram) \n",
    "class Laptop1:\n",
    "    def __init__(self,rom,color):\n",
    "        self.rom=rom\n",
    "        self.color=color\n",
    "    def display(self):\n",
    "        print(self.rom,self.color)  \n",
    "class Laptop2(Laptop,Laptop1):\n",
    "    def __init__(self,name,ram,rom,color,year):\n",
    "        self.year=year\n",
    "        Laptop.__init__(self,name,ram)\n",
    "        Laptop1.__init__(self,rom,color)\n",
    "    def display(self):\n",
    "        print(self.name,self.ram,self.rom,self.color,self.year)\n",
    "L2=Laptop2(\"Mac\",\"8GB\",256,\"Grey\",2024)\n",
    "L2.display()        "
   ]
  },
  {
   "cell_type": "code",
   "execution_count": 10,
   "metadata": {},
   "outputs": [
    {
     "name": "stdout",
     "output_type": "stream",
     "text": [
      "virat 22\n",
      "virat is ready to study.....\n"
     ]
    }
   ],
   "source": [
    "# with respect to polymorphisam\n",
    "\n",
    "class Student:\n",
    "    def __init__(self,name,age):\n",
    "        self.name=name\n",
    "        self.age=age\n",
    "    def display(self):\n",
    "        print(self.name,self.age) \n",
    "    def study(self):\n",
    "        pass\n",
    "class Student1:\n",
    "    def study(self):\n",
    "        print(f\"{self.name} is studying.....\") \n",
    "class Student2(Student,Student1):   \n",
    "    def study(self):\n",
    "        print(f\"{self.name} is ready to study.....\")               \n",
    "S2=Student2(\"virat\",22)\n",
    "S2.display()\n",
    "S2.study()\n",
    "# S1=Student1(\"kohli\",22)\n",
    "# S1.display()\n",
    "# S1.study()\n"
   ]
  }
 ],
 "metadata": {
  "kernelspec": {
   "display_name": "Python 3",
   "language": "python",
   "name": "python3"
  },
  "language_info": {
   "codemirror_mode": {
    "name": "ipython",
    "version": 3
   },
   "file_extension": ".py",
   "mimetype": "text/x-python",
   "name": "python",
   "nbconvert_exporter": "python",
   "pygments_lexer": "ipython3",
   "version": "3.13.1"
  }
 },
 "nbformat": 4,
 "nbformat_minor": 2
}
