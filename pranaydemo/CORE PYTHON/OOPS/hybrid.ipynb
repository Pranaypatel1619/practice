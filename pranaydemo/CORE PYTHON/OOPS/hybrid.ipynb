{
 "cells": [
  {
   "cell_type": "code",
   "execution_count": 1,
   "metadata": {},
   "outputs": [
    {
     "name": "stdout",
     "output_type": "stream",
     "text": [
      "pranay 22 5C2\n",
      "pranay is sleeping\n",
      "pranay is writing\n",
      "pranay is studing\n",
      "virat hyd 30000\n",
      "kohli hyd 30000\n",
      "kohli is teaching\n",
      "kohli is studing\n"
     ]
    }
   ],
   "source": [
    "class Student:\n",
    "    def __init__(self,name,age):\n",
    "        self.name=name\n",
    "        self.age=age\n",
    "    def display(self):\n",
    "         print(self.name,self.age,self.Id)   \n",
    "    def study(self):\n",
    "        print(f\"{self.name} is studing\")\n",
    "class Student1(Student):\n",
    "    def sleep(self):\n",
    "        print(f\"{self.name} is sleeping\") \n",
    "class Student3(Student1):\n",
    "    def __init__(self,name,age,Id):\n",
    "        super().__init__(name,age)\n",
    "        self.Id=Id\n",
    "    def write(self):\n",
    "        print(f\"{self.name} is writing\")               \n",
    "class Employee:\n",
    "    name=\"virat\"\n",
    "    def __init__(self,loc,sal):\n",
    "        self.loc=loc\n",
    "        self.sal=sal\n",
    "    def display(self):\n",
    "        print(self.name,self.loc,self.sal)\n",
    "    def eat(self):\n",
    "        print(f'${self.name} is eating')    \n",
    "    @classmethod \n",
    "    def change(cls,newname):\n",
    "        cls.name=newname\n",
    "class Trainer(Employee):\n",
    "    def Teach(self):\n",
    "        print(f'{self.name} is teaching')         \n",
    "class Student(Trainer):\n",
    "    def study(self):\n",
    "        print(f'{self.name} is studing')\n",
    "S=Student3(\"pranay\",22,\"5C2\")\n",
    "S.display()\n",
    "S.sleep()\n",
    "S.write()\n",
    "S.study()\n",
    "s1=Student(\"hyd\",30000)        \n",
    "s1.display()\n",
    "s1.change(\"kohli\")\n",
    "s1.display()\n",
    "s1.Teach()\n",
    "s1.study()"
   ]
  }
 ],
 "metadata": {
  "kernelspec": {
   "display_name": "Python 3",
   "language": "python",
   "name": "python3"
  },
  "language_info": {
   "codemirror_mode": {
    "name": "ipython",
    "version": 3
   },
   "file_extension": ".py",
   "mimetype": "text/x-python",
   "name": "python",
   "nbconvert_exporter": "python",
   "pygments_lexer": "ipython3",
   "version": "3.13.1"
  }
 },
 "nbformat": 4,
 "nbformat_minor": 2
}
