{
 "cells": [
  {
   "cell_type": "code",
   "execution_count": 10,
   "metadata": {},
   "outputs": [
    {
     "name": "stdout",
     "output_type": "stream",
     "text": [
      "virat 23 5C2\n",
      "virat is studing\n",
      "virat is eating\n",
      "kohli 25 2000000\n",
      "kohli is teacing\n",
      "kohli is eating\n"
     ]
    }
   ],
   "source": [
    "class Person:\n",
    "    def __init__(self,name,age):\n",
    "        self.name=name\n",
    "        self.age=age\n",
    "    def display(self):\n",
    "        print(self.name,self.age)\n",
    "    def eat(self):\n",
    "        print(f'{self.name} is eating')\n",
    "class Trainer(Person):\n",
    "    def __init__(self,name,age,sal):\n",
    "          super().__init__(name,age)\n",
    "          self.sal=sal\n",
    "    def teach(self):\n",
    "        print(f'{self.name} is teacing') \n",
    "    def display(self):\n",
    "        print(self.name,self.age,self.sal)  \n",
    "class Student(Person):\n",
    "    def __init__(self,name,age,id):\n",
    "          super().__init__(name,age)\n",
    "          self.id=id\n",
    "    def study(self):\n",
    "        print(f'{self.name} is studing') \n",
    "    def display(self):\n",
    "        print(self.name,self.age,self.id)    \n",
    "s1=Student(\"virat\",23,\"5C2\")\n",
    "s1.display()\n",
    "s1.study() \n",
    "s1.eat()\n",
    "t1=Trainer(\"kohli\",25,2000000) \n",
    "t1.display() \n",
    "t1.teach()     \n",
    "t1.eat()                        \n"
   ]
  },
  {
   "cell_type": "code",
   "execution_count": 5,
   "metadata": {},
   "outputs": [
    {
     "name": "stdout",
     "output_type": "stream",
     "text": [
      "Student3 is writing\n",
      "student is studing\n",
      "student is studing\n",
      "student1 is sleeping\n"
     ]
    }
   ],
   "source": [
    "class Student:\n",
    "    def study(self):\n",
    "        print(\"student is studing\")\n",
    "class Student1(Student):\n",
    "    def sleep(self):\n",
    "        print(\"student1 is sleeping\") \n",
    "class Student3(Student1):\n",
    "    def write(self):\n",
    "        print(\"Student3 is writing\")               \n",
    "S=Student3()\n",
    "S.write()\n",
    "S.study()\n",
    "S1=Student1()\n",
    "S.study()\n",
    "S.sleep()"
   ]
  },
  {
   "cell_type": "code",
   "execution_count": 1,
   "metadata": {},
   "outputs": [
    {
     "name": "stdout",
     "output_type": "stream",
     "text": [
      "abc 22 hyd 25000\n",
      "abc is going to work\n",
      "pranay 21 hyd 75000\n",
      "pranay is not working\n",
      "xyz 23 Bang 45000\n",
      "xyz is working\n"
     ]
    }
   ],
   "source": [
    "# with respect to polymorphisam\n",
    "\n",
    "class Employee:\n",
    "    def __init__(self,name,age,loc,sal):\n",
    "        self.name=name\n",
    "        self.age=age\n",
    "        self.loc=loc\n",
    "        self.sal=sal\n",
    "    def display(self):\n",
    "        print(self.name,self.age,self.loc,self.sal) \n",
    "    def work(self):\n",
    "        pass\n",
    "class Developer(Employee):\n",
    "    def work(self):\n",
    "        print(f\"{self.name} is working\")  \n",
    "class SoftwareDeveloper(Employee):\n",
    "    def work(self):\n",
    "        print(f\"{self.name} is not working\") \n",
    "class AssociativeEngineer(Employee):\n",
    "    def work(self):\n",
    "        print(f\"{self.name} is going to work\")\n",
    "A1=AssociativeEngineer(\"abc\",22,\"hyd\",25000)  \n",
    "A1.display()\n",
    "A1.work()                               \n",
    "S1=SoftwareDeveloper(\"pranay\",21,\"hyd\",75000)\n",
    "S1.display()\n",
    "S1.work() \n",
    "D1=Developer(\"xyz\",23,\"Bang\",45000)\n",
    "D1.display()\n",
    "D1.work() "
   ]
  },
  {
   "cell_type": "code",
   "execution_count": null,
   "metadata": {},
   "outputs": [],
   "source": []
  }
 ],
 "metadata": {
  "kernelspec": {
   "display_name": "Python 3",
   "language": "python",
   "name": "python3"
  },
  "language_info": {
   "codemirror_mode": {
    "name": "ipython",
    "version": 3
   },
   "file_extension": ".py",
   "mimetype": "text/x-python",
   "name": "python",
   "nbconvert_exporter": "python",
   "pygments_lexer": "ipython3",
   "version": "3.13.1"
  }
 },
 "nbformat": 4,
 "nbformat_minor": 2
}
