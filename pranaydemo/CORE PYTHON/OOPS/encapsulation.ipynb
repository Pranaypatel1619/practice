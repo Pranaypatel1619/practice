{
 "cells": [
  {
   "cell_type": "code",
   "execution_count": 1,
   "metadata": {},
   "outputs": [
    {
     "name": "stdout",
     "output_type": "stream",
     "text": [
      "('CDE', 37, 'Banglore', 'TR', 80000)\n"
     ]
    }
   ],
   "source": [
    "class Employee:\n",
    "    __name=\"ABCD\"\n",
    "    __age=29\n",
    "    __loc=\"Hyderabad\"\n",
    "    __designation=\"HR\"\n",
    "    __sal=50000\n",
    "    def __set__(self,name1,age1,loc1,designation1,sal1):\n",
    "        self.__name=name1\n",
    "        self.__age=age1\n",
    "        self.__loc=loc1\n",
    "        self.__designation=designation1\n",
    "        self.__sal=sal1\n",
    "    def __get__(self):\n",
    "        return self.__name,self.__age,self.__loc,self.__designation,self.__sal\n",
    "e1=Employee()\n",
    "e1.__set__(\"CDE\",37,\"Banglore\",\"TR\",80000)\n",
    "print(e1.__get__())"
   ]
  }
 ],
 "metadata": {
  "kernelspec": {
   "display_name": "Python 3",
   "language": "python",
   "name": "python3"
  },
  "language_info": {
   "codemirror_mode": {
    "name": "ipython",
    "version": 3
   },
   "file_extension": ".py",
   "mimetype": "text/x-python",
   "name": "python",
   "nbconvert_exporter": "python",
   "pygments_lexer": "ipython3",
   "version": "3.13.1"
  }
 },
 "nbformat": 4,
 "nbformat_minor": 2
}
