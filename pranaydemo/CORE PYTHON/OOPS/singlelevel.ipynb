{
 "cells": [
  {
   "cell_type": "code",
   "execution_count": 1,
   "metadata": {},
   "outputs": [
    {
     "name": "stdout",
     "output_type": "stream",
     "text": [
      "Mobile name is Apple\n",
      "Laptop name is MacBook\n"
     ]
    }
   ],
   "source": [
    "class Laptop:\n",
    "    def name(self):\n",
    "        print(\"Laptop name is MacBook\")\n",
    "class Mobile(Laptop):\n",
    "    def name1(self):\n",
    "         print(\"Mobile name is Apple\")  \n",
    "m1=Mobile()\n",
    "m1.name1()\n",
    "m1.name()              "
   ]
  },
  {
   "cell_type": "code",
   "execution_count": 9,
   "metadata": {},
   "outputs": [
    {
     "name": "stdout",
     "output_type": "stream",
     "text": [
      "Mac 6GB 126GB Grey\n"
     ]
    }
   ],
   "source": [
    "class Laptop:\n",
    "    def __init__(self,name,ram,rom):\n",
    "        self.name=name\n",
    "        self.ram=ram\n",
    "        self.rom=rom\n",
    "    def display(self):\n",
    "        print(self.name,self.ram,self.rom,self.color)    \n",
    "class Laptop1(Laptop):\n",
    "    def __init__(self,name,ram,rom,color):\n",
    "        self.color=color \n",
    "        super().__init__(name,ram,rom) \n",
    "L1=Laptop1(\"Mac\",\"6GB\",\"126GB\",\"Grey\") \n",
    "L1.display()"
   ]
  },
  {
   "cell_type": "code",
   "execution_count": 5,
   "metadata": {},
   "outputs": [
    {
     "name": "stdout",
     "output_type": "stream",
     "text": [
      "Mac 6GB 126GB\n",
      "Mac is working\n"
     ]
    }
   ],
   "source": [
    "# With Respect to Polymorphisam\n",
    "\n",
    "class Laptop:\n",
    "    def __init__(self,name,ram,rom):\n",
    "        self.name=name\n",
    "        self.ram=ram\n",
    "        self.rom=rom\n",
    "    def display(self):\n",
    "        print(self.name,self.ram,self.rom)\n",
    "    def work(self):\n",
    "        pass        \n",
    "class Laptop1(Laptop):\n",
    "    def work(self):\n",
    "        print(f\"{self.name} is working\")\n",
    "L1=Laptop1(\"Mac\",\"6GB\",\"126GB\") \n",
    "L1.display()\n",
    "L1.work()"
   ]
  }
 ],
 "metadata": {
  "kernelspec": {
   "display_name": "Python 3",
   "language": "python",
   "name": "python3"
  },
  "language_info": {
   "codemirror_mode": {
    "name": "ipython",
    "version": 3
   },
   "file_extension": ".py",
   "mimetype": "text/x-python",
   "name": "python",
   "nbconvert_exporter": "python",
   "pygments_lexer": "ipython3",
   "version": "3.13.1"
  }
 },
 "nbformat": 4,
 "nbformat_minor": 2
}
