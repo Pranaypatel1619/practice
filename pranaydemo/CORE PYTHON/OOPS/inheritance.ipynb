{
 "cells": [
  {
   "cell_type": "code",
   "execution_count": 11,
   "metadata": {},
   "outputs": [
    {
     "name": "stdout",
     "output_type": "stream",
     "text": [
      "Animals are RUNING.....\n",
      "Lion is hunting...\n",
      "tiger is catching....\n",
      "Animals are RUNING.....\n",
      "Lion is hunting...\n"
     ]
    }
   ],
   "source": [
    "class Animal:\n",
    "    def run(self):\n",
    "        print(\"Animals are RUNING.....\")\n",
    "class Lion(Animal):\n",
    "    def hunt(self):\n",
    "        print(\"Lion is hunting...\")\n",
    "class Tiger(Lion):\n",
    "     def catch(self) :\n",
    "        print(\"tiger is catching....\") \n",
    "t1=Tiger()\n",
    "t1.run()\n",
    "t1.hunt()\n",
    "t1.catch()\n",
    "l1=Lion()\n",
    "l1.run()    \n",
    "l1.hunt()\n",
    "# l1.catch()   ##error\n"
   ]
  },
  {
   "cell_type": "code",
   "execution_count": 3,
   "metadata": {},
   "outputs": [
    {
     "name": "stdout",
     "output_type": "stream",
     "text": [
      "virat hyd 30000\n",
      "kohli hyd 30000\n",
      "kohli is teaching\n",
      "kohli is studing\n"
     ]
    }
   ],
   "source": [
    "class Employee:\n",
    "    name=\"virat\"\n",
    "    def __init__(self,loc,sal):\n",
    "        self.loc=loc\n",
    "        self.sal=sal\n",
    "    def display(self):\n",
    "        print(self.name,self.loc,self.sal)\n",
    "    def eat(self):\n",
    "        print(f'${self.name} is eating')    \n",
    "    @classmethod \n",
    "    def change(cls,newname):\n",
    "        cls.name=newname\n",
    "class Trainer(Employee):\n",
    "    def Teach(self):\n",
    "        print(f'{self.name} is teaching')         \n",
    "class Student(Trainer):\n",
    "    def study(self):\n",
    "        print(f'{self.name} is studing')\n",
    "s1=Student(\"hyd\",30000)        \n",
    "s1.display()\n",
    "s1.change(\"kohli\")\n",
    "s1.display()\n",
    "s1.Teach()\n",
    "s1.study()\n"
   ]
  }
 ],
 "metadata": {
  "kernelspec": {
   "display_name": "Python 3",
   "language": "python",
   "name": "python3"
  },
  "language_info": {
   "codemirror_mode": {
    "name": "ipython",
    "version": 3
   },
   "file_extension": ".py",
   "mimetype": "text/x-python",
   "name": "python",
   "nbconvert_exporter": "python",
   "pygments_lexer": "ipython3",
   "version": "3.13.1"
  }
 },
 "nbformat": 4,
 "nbformat_minor": 2
}
