{
 "cells": [
  {
   "cell_type": "code",
   "execution_count": 5,
   "id": "5276a412",
   "metadata": {},
   "outputs": [
    {
     "name": "stdout",
     "output_type": "stream",
     "text": [
      "division by zero\n",
      "10.0\n"
     ]
    }
   ],
   "source": [
    "def div(n1,n2):\n",
    "    return n1/n2\n",
    "try:\n",
    "    n1=int(input(\"enter the n1:\"))\n",
    "    n2=int(input(\"enter the n2:\"))\n",
    "    res=div(n1,n2)\n",
    "    print(res)\n",
    "except (ZeroDivisionError,ValueError) as e:\n",
    "    if type(e)==ZeroDivisionError:\n",
    "        print(e)\n",
    "        n2=int(input(\"Re enter the n2:\"))\n",
    "        res=div(n1,n2)\n",
    "        print(res)\n",
    "    elif type(e)==ValueError:\n",
    "        print(e)\n",
    "        print(\"please eneter the proper value\")       \n",
    "    "
   ]
  }
 ],
 "metadata": {
  "kernelspec": {
   "display_name": "Python 3",
   "language": "python",
   "name": "python3"
  },
  "language_info": {
   "codemirror_mode": {
    "name": "ipython",
    "version": 3
   },
   "file_extension": ".py",
   "mimetype": "text/x-python",
   "name": "python",
   "nbconvert_exporter": "python",
   "pygments_lexer": "ipython3",
   "version": "3.13.1"
  }
 },
 "nbformat": 4,
 "nbformat_minor": 5
}
