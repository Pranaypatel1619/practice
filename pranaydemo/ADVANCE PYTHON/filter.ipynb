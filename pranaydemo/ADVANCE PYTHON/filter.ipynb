{
 "cells": [
  {
   "cell_type": "code",
   "execution_count": 11,
   "id": "6875a485",
   "metadata": {},
   "outputs": [
    {
     "name": "stdout",
     "output_type": "stream",
     "text": [
      "[1, 3, 5, 5, 7, 9]\n",
      "<filter object at 0x109dcd390>\n"
     ]
    }
   ],
   "source": [
    "l=[1,2,3,4,5,5,6,7,8,9]\n",
    "res=filter(lambda x:x%2==1,l)\n",
    "print(list(res))\n",
    "print(res)"
   ]
  },
  {
   "cell_type": "code",
   "execution_count": 13,
   "id": "b6fb540d",
   "metadata": {},
   "outputs": [
    {
     "name": "stdout",
     "output_type": "stream",
     "text": [
      "(5, 27, 10, 12)\n"
     ]
    }
   ],
   "source": [
    "l=[-1,-3,-8,5,27,-7,10,12]\n",
    "res=filter(lambda x:x>0,l)\n",
    "print(tuple(res))"
   ]
  },
  {
   "cell_type": "code",
   "execution_count": 18,
   "id": "5e0a9960",
   "metadata": {},
   "outputs": [
    {
     "name": "stdout",
     "output_type": "stream",
     "text": [
      "['b', 'c', 'e', 'l', 'k', 'p', 's']\n"
     ]
    }
   ],
   "source": [
    "S=\"AbcDelGkps\"\n",
    "res=filter(lambda x:x>'a' and x<'z',S)\n",
    "print(list(res))"
   ]
  },
  {
   "cell_type": "code",
   "execution_count": 21,
   "id": "0d2e19d9",
   "metadata": {},
   "outputs": [
    {
     "name": "stdout",
     "output_type": "stream",
     "text": [
      "('b', 'd', 'f', 'h', 'j')\n"
     ]
    }
   ],
   "source": [
    "s=\"abcdefghij\"\n",
    "res=filter(lambda x:ord(x)%2==0,s)\n",
    "print(tuple(res))"
   ]
  }
 ],
 "metadata": {
  "kernelspec": {
   "display_name": "Python 3",
   "language": "python",
   "name": "python3"
  },
  "language_info": {
   "codemirror_mode": {
    "name": "ipython",
    "version": 3
   },
   "file_extension": ".py",
   "mimetype": "text/x-python",
   "name": "python",
   "nbconvert_exporter": "python",
   "pygments_lexer": "ipython3",
   "version": "3.13.1"
  }
 },
 "nbformat": 4,
 "nbformat_minor": 5
}
