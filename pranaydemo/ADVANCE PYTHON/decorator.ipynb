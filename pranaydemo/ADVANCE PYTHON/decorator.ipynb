{
 "cells": [
  {
   "cell_type": "code",
   "execution_count": null,
   "id": "facb78e6",
   "metadata": {},
   "outputs": [
    {
     "name": "stdout",
     "output_type": "stream",
     "text": [
      "GOOD MORNING ALL.....\n"
     ]
    }
   ],
   "source": [
    "def my_decor(func):\n",
    "    def inner():\n",
    "        res=func()  #stores the existing function information\n",
    "        return res.upper()\n",
    "    return inner\n",
    "@my_decor\n",
    "def toUpper():\n",
    "    s=\"good morning all.....\"\n",
    "    return s\n",
    "print(toUpper())"
   ]
  },
  {
   "cell_type": "code",
   "execution_count": 3,
   "id": "d1a86177",
   "metadata": {},
   "outputs": [
    {
     "name": "stdout",
     "output_type": "stream",
     "text": [
      "2\n"
     ]
    }
   ],
   "source": [
    "def my_even(func):\n",
    "    def inner():\n",
    "        res=func()\n",
    "        if res%2==1:\n",
    "            return res+1\n",
    "        else:\n",
    "            return res\n",
    "    return inner\n",
    "@my_even\n",
    "def num():\n",
    "    n=int(input())\n",
    "    return n\n",
    "print(num())    "
   ]
  },
  {
   "cell_type": "code",
   "execution_count": 4,
   "id": "047622ad",
   "metadata": {},
   "outputs": [
    {
     "name": "stdout",
     "output_type": "stream",
     "text": [
      "10\n"
     ]
    }
   ],
   "source": [
    "def my_double(func):\n",
    "    def inner():\n",
    "        res=func()\n",
    "        return res+res\n",
    "    return inner\n",
    "@my_double\n",
    "def num():\n",
    "    n=int(input())\n",
    "    return n\n",
    "print(num())  "
   ]
  },
  {
   "cell_type": "code",
   "execution_count": 21,
   "id": "abe47601",
   "metadata": {},
   "outputs": [
    {
     "name": "stdout",
     "output_type": "stream",
     "text": [
      "corepython\n"
     ]
    }
   ],
   "source": [
    "def my_decor(func):\n",
    "    def inner(name):\n",
    "        res=func(name)\n",
    "        return res+\"python\"\n",
    "    return inner\n",
    "@my_decor\n",
    "def string(name):\n",
    "    return name\n",
    "print(string(\"core\"))"
   ]
  },
  {
   "cell_type": "code",
   "execution_count": null,
   "id": "d3f3f7c0",
   "metadata": {},
   "outputs": [
    {
     "name": "stdout",
     "output_type": "stream",
     "text": [
      "pythoncore\n"
     ]
    }
   ],
   "source": [
    "def my_decor(func):\n",
    "    s1=input()\n",
    "    def inner():\n",
    "        res=func()\n",
    "        return s1+res\n",
    "    return inner\n",
    "@my_decor\n",
    "def string():\n",
    "    s=input()\n",
    "    return s\n",
    "print(string())\n",
    "\n"
   ]
  },
  {
   "cell_type": "code",
   "execution_count": 9,
   "id": "55bcb551",
   "metadata": {},
   "outputs": [
    {
     "name": "stdout",
     "output_type": "stream",
     "text": [
      "10\n"
     ]
    }
   ],
   "source": [
    "def my_decor(func):\n",
    "    def inner(n):\n",
    "        res=func(n)\n",
    "        return res*5\n",
    "    return inner\n",
    "@my_decor\n",
    "def number(n):\n",
    "    return n\n",
    "print(number(2))"
   ]
  }
 ],
 "metadata": {
  "kernelspec": {
   "display_name": "Python 3",
   "language": "python",
   "name": "python3"
  },
  "language_info": {
   "codemirror_mode": {
    "name": "ipython",
    "version": 3
   },
   "file_extension": ".py",
   "mimetype": "text/x-python",
   "name": "python",
   "nbconvert_exporter": "python",
   "pygments_lexer": "ipython3",
   "version": "3.13.1"
  }
 },
 "nbformat": 4,
 "nbformat_minor": 5
}
