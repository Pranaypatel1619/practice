{
 "cells": [
  {
   "cell_type": "code",
   "execution_count": 2,
   "id": "107de8b8",
   "metadata": {},
   "outputs": [
    {
     "name": "stdout",
     "output_type": "stream",
     "text": [
      "5\n",
      "35\n"
     ]
    }
   ],
   "source": [
    "n=lambda a,b:a+b\n",
    "print(n(2,3))\n",
    "print(n(16,19))"
   ]
  },
  {
   "cell_type": "code",
   "execution_count": 1,
   "id": "b3438bd7",
   "metadata": {},
   "outputs": [
    {
     "name": "stdout",
     "output_type": "stream",
     "text": [
      "True\n",
      "False\n"
     ]
    }
   ],
   "source": [
    "n=lambda a:a%2==0\n",
    "print(n(2))\n",
    "print(n(3))"
   ]
  },
  {
   "cell_type": "code",
   "execution_count": 2,
   "id": "653280f3",
   "metadata": {},
   "outputs": [
    {
     "name": "stdout",
     "output_type": "stream",
     "text": [
      "core python\n"
     ]
    }
   ],
   "source": [
    "s=lambda s1:s1+input(\" enter 2nd string\")\n",
    "print(s(\"core \"))"
   ]
  }
 ],
 "metadata": {
  "kernelspec": {
   "display_name": "Python 3",
   "language": "python",
   "name": "python3"
  },
  "language_info": {
   "codemirror_mode": {
    "name": "ipython",
    "version": 3
   },
   "file_extension": ".py",
   "mimetype": "text/x-python",
   "name": "python",
   "nbconvert_exporter": "python",
   "pygments_lexer": "ipython3",
   "version": "3.13.1"
  }
 },
 "nbformat": 4,
 "nbformat_minor": 5
}
