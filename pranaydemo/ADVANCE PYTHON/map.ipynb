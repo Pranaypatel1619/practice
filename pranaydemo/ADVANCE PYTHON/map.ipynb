{
 "cells": [
  {
   "cell_type": "code",
   "execution_count": 1,
   "id": "cb48d0ae",
   "metadata": {},
   "outputs": [
    {
     "name": "stdout",
     "output_type": "stream",
     "text": [
      "<map object at 0x1056ddd20>\n",
      "[1.0, 2.0, 3.0, 4.0, 5.0]\n"
     ]
    }
   ],
   "source": [
    "l=[1,2,3,4,5]\n",
    "res=map(float,l)\n",
    "print(res)\n",
    "print(list(res))"
   ]
  },
  {
   "cell_type": "code",
   "execution_count": 2,
   "id": "cb94bfcf",
   "metadata": {},
   "outputs": [
    {
     "name": "stdout",
     "output_type": "stream",
     "text": [
      "(1, 4, 9, 16, 25)\n"
     ]
    }
   ],
   "source": [
    "l=[1,2,3,4,5]\n",
    "def squre(n):\n",
    "    return n**2\n",
    "res=map(squre,l)\n",
    "print(tuple(res))"
   ]
  },
  {
   "cell_type": "code",
   "execution_count": 3,
   "id": "a85e3de6",
   "metadata": {},
   "outputs": [
    {
     "name": "stdout",
     "output_type": "stream",
     "text": [
      "(4, 9, 25, 36, 64)\n"
     ]
    }
   ],
   "source": [
    "l=[2,3,5,6,8]\n",
    "res=map(lambda x:x**2,l)\n",
    "print(tuple(res))"
   ]
  },
  {
   "cell_type": "code",
   "execution_count": 4,
   "id": "e18f9ac4",
   "metadata": {},
   "outputs": [
    {
     "name": "stdout",
     "output_type": "stream",
     "text": [
      "['b', 'c', 'd', 'E', 'F', 'g', 'h']\n"
     ]
    }
   ],
   "source": [
    "s='abcDEfg'\n",
    "res=map(lambda x:chr(ord(x)+1),s)\n",
    "print(list(res))"
   ]
  },
  {
   "cell_type": "code",
   "execution_count": 5,
   "id": "211c5209",
   "metadata": {},
   "outputs": [
    {
     "name": "stdout",
     "output_type": "stream",
     "text": [
      "['p', 'a', 'n', 'n']\n"
     ]
    }
   ],
   "source": [
    "fruits=('Apple','Banana','Mango','Orange')\n",
    "res=map(lambda x:x[len(x)//2],fruits)\n",
    "print(list(res))"
   ]
  },
  {
   "cell_type": "code",
   "execution_count": 7,
   "id": "9af5e1fe",
   "metadata": {},
   "outputs": [
    {
     "name": "stdout",
     "output_type": "stream",
     "text": [
      "('APPLE', 'BANANA', 'MANGO', 'ORANGE')\n"
     ]
    }
   ],
   "source": [
    "fruits=['Apple','Banana','Mango','Orange']\n",
    "res=map(lambda x:x.upper(),fruits)\n",
    "print(tuple(res))"
   ]
  }
 ],
 "metadata": {
  "kernelspec": {
   "display_name": "Python 3",
   "language": "python",
   "name": "python3"
  },
  "language_info": {
   "codemirror_mode": {
    "name": "ipython",
    "version": 3
   },
   "file_extension": ".py",
   "mimetype": "text/x-python",
   "name": "python",
   "nbconvert_exporter": "python",
   "pygments_lexer": "ipython3",
   "version": "3.13.1"
  }
 },
 "nbformat": 4,
 "nbformat_minor": 5
}
