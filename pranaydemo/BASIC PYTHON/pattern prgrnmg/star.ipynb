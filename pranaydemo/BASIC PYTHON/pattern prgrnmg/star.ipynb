{
 "cells": [
  {
   "cell_type": "code",
   "execution_count": 40,
   "metadata": {},
   "outputs": [
    {
     "name": "stdout",
     "output_type": "stream",
     "text": [
      "* * * * * \n"
     ]
    }
   ],
   "source": [
    "n=5\n",
    "for i in range(n):\n",
    "    print(\"*\",end=' ')\n",
    "print()      "
   ]
  },
  {
   "cell_type": "code",
   "execution_count": 34,
   "metadata": {},
   "outputs": [
    {
     "name": "stdout",
     "output_type": "stream",
     "text": [
      "* * * * * \n",
      "* * * * * \n",
      "* * * * * \n",
      "* * * * * \n",
      "* * * * * \n"
     ]
    }
   ],
   "source": [
    "n=5\n",
    "for i in range(n):\n",
    "    for j in range(n):\n",
    "        print(\"*\",end=' ')\n",
    "    print()    "
   ]
  },
  {
   "cell_type": "code",
   "execution_count": 52,
   "metadata": {},
   "outputs": [
    {
     "name": "stdout",
     "output_type": "stream",
     "text": [
      "* \n",
      "* * \n",
      "* * * \n",
      "* * * * \n",
      "* * * * * \n"
     ]
    }
   ],
   "source": [
    "# increasing triangle patterm\n",
    "n=5\n",
    "for i in range(n):\n",
    "    for j in range(i+1):\n",
    "        print(\"*\",end=' ')\n",
    "    print()  "
   ]
  },
  {
   "cell_type": "code",
   "execution_count": null,
   "metadata": {},
   "outputs": [
    {
     "name": "stdout",
     "output_type": "stream",
     "text": [
      "* * * * * \n",
      "* * * * \n",
      "* * * \n",
      "* * \n",
      "* \n"
     ]
    }
   ],
   "source": [
    "# decreasing triangle\n",
    "n=5\n",
    "for i in range(n):\n",
    "    for j in range(i,n):\n",
    "        print(\"*\",end=' ')\n",
    "    print()  "
   ]
  },
  {
   "cell_type": "code",
   "execution_count": 59,
   "metadata": {},
   "outputs": [
    {
     "name": "stdout",
     "output_type": "stream",
     "text": [
      "          * \n",
      "        * * \n",
      "      * * * \n",
      "    * * * * \n",
      "  * * * * * \n"
     ]
    }
   ],
   "source": [
    "# Right sided triangle\n",
    "n=5\n",
    "for i in range(n):\n",
    "    for j in range(i,n):\n",
    "       print(\" \",end=' ')\n",
    "    for j in range(i+1):\n",
    "        print(\"*\",end=\" \")\n",
    "    print()  "
   ]
  },
  {
   "cell_type": "code",
   "execution_count": null,
   "metadata": {},
   "outputs": [
    {
     "name": "stdout",
     "output_type": "stream",
     "text": [
      "  * * * * * \n",
      "    * * * * \n",
      "      * * * \n",
      "        * * \n",
      "          * \n"
     ]
    }
   ],
   "source": [
    "# Right sided triangle\n",
    "n=5\n",
    "for i in range(n):\n",
    "    for j in range(i+1):\n",
    "       print(\" \",end=' ')\n",
    "    for j in range(i,n):\n",
    "        print(\"*\",end=\" \")\n",
    "    print() "
   ]
  },
  {
   "cell_type": "code",
   "execution_count": 67,
   "metadata": {},
   "outputs": [
    {
     "name": "stdout",
     "output_type": "stream",
     "text": [
      "          * \n",
      "        * * * \n",
      "      * * * * * \n",
      "    * * * * * * * \n",
      "  * * * * * * * * * \n"
     ]
    }
   ],
   "source": [
    "# Hill pattern\n",
    "n=5\n",
    "for i in range(n):\n",
    "    for j in range(i,n):\n",
    "        print(\" \",end=\" \")\n",
    "    for j in range(i):\n",
    "        print(\"*\",end=\" \")\n",
    "    for j in range(i+1):\n",
    "        print(\"*\",end=\" \")   \n",
    "    print()     "
   ]
  },
  {
   "cell_type": "code",
   "execution_count": 11,
   "metadata": {},
   "outputs": [
    {
     "name": "stdout",
     "output_type": "stream",
     "text": [
      "    * \n",
      "   * * \n",
      "  * * * \n",
      " * * * * \n",
      "* * * * * \n"
     ]
    }
   ],
   "source": [
    "n=int(input())\n",
    "for row in range(1,n+1):\n",
    "    for space in range(n-row):\n",
    "        print(' ',end='')\n",
    "    for star in range(row):\n",
    "        print('*',end=' ')\n",
    "    print()       "
   ]
  },
  {
   "cell_type": "code",
   "execution_count": 3,
   "metadata": {},
   "outputs": [
    {
     "name": "stdout",
     "output_type": "stream",
     "text": [
      "  * * * * * * * * * \n",
      "    * * * * * * * \n",
      "      * * * * * \n",
      "        * * * \n",
      "          * \n"
     ]
    }
   ],
   "source": [
    "# Resverse Hill pattern \n",
    "n=int(input())\n",
    "for i in range(n):\n",
    "    for j in range(i+1):\n",
    "        print(' ',end=' ')\n",
    "    for j in range(i,n-1):\n",
    "        print('*',end=' ')\n",
    "    for j in range(i,n):\n",
    "        print('*',end=' ')   \n",
    "    print()     "
   ]
  },
  {
   "cell_type": "code",
   "execution_count": 93,
   "metadata": {},
   "outputs": [
    {
     "name": "stdout",
     "output_type": "stream",
     "text": [
      "          * \n",
      "        * * * \n",
      "      * * * * * \n",
      "    * * * * * * * \n",
      "  * * * * * * * * * \n",
      "    * * * * * * * \n",
      "      * * * * * \n",
      "        * * * \n",
      "          * \n"
     ]
    }
   ],
   "source": [
    "# Dimond pattern\n",
    "n=5\n",
    "for i in range(n-1):\n",
    "    for j in range(i,n):\n",
    "        print(' ',end=' ')\n",
    "    for j in range(i):\n",
    "        print('*',end=' ')\n",
    "    for j in range(i+1):\n",
    "        print('*',end=' ')  \n",
    "    print() \n",
    "for i in range(n):     \n",
    "    for j in range(i+1):\n",
    "        print(' ',end=' ')\n",
    "    for j in range(i,n-1):\n",
    "        print('*',end=' ')\n",
    "    for j in range(i,n):\n",
    "        print('*',end=' ')\n",
    "    print()         "
   ]
  },
  {
   "cell_type": "code",
   "execution_count": 6,
   "metadata": {},
   "outputs": [
    {
     "name": "stdout",
     "output_type": "stream",
     "text": [
      "  * * *   \n",
      "*       * \n",
      "* * * * * \n",
      "*       * \n",
      "*       * \n"
     ]
    }
   ],
   "source": [
    "n=5\n",
    "for row in range(1,n+1):\n",
    "    for col in range(1,n+1):\n",
    "        if (row in (1,3) or col in (1,5)) and not((row==1 and col==1) or (row==1 and col==5)):\n",
    "            print('*',end=' ')\n",
    "        else:\n",
    "            print(' ',end=' ')\n",
    "    print()    "
   ]
  },
  {
   "cell_type": "code",
   "execution_count": 28,
   "metadata": {},
   "outputs": [
    {
     "name": "stdout",
     "output_type": "stream",
     "text": [
      "* * * *   \n",
      "*       * \n",
      "* * * *   \n",
      "*         \n",
      "*         \n"
     ]
    }
   ],
   "source": [
    "# p\n",
    "n=5\n",
    "for row in range(1,n+1):\n",
    "    for col in range(1,n+1):\n",
    "        if (row in (1,3) or col in (1,5)) and not((row==4 and col==5) or (row==5 and col==5) or (row==4 and col==3) or (row==4 and col==5) or (row==1 and col==5) or (row==3 and col==5)):\n",
    "            print('*',end=' ')\n",
    "        else:\n",
    "            print(' ',end=' ')\n",
    "    print()  "
   ]
  },
  {
   "cell_type": "code",
   "execution_count": 27,
   "metadata": {},
   "outputs": [
    {
     "name": "stdout",
     "output_type": "stream",
     "text": [
      "* * * *   \n",
      "*       * \n",
      "* * * *   \n",
      "*     *   \n",
      "*       * \n"
     ]
    }
   ],
   "source": [
    "# R\n",
    "n=5\n",
    "for row in range(1,n+1):\n",
    "    for col in range(1,n+1):\n",
    "        if (row in (1,3,4) or col in (1,5)) and not((row==4 and col==2) or (row==4 and col==3) or (row==4 and col==5) or (row==1 and col==5) or (row==3 and col==5)):\n",
    "            print('*',end=' ')\n",
    "        else:\n",
    "            print(' ',end=' ')\n",
    "    print() "
   ]
  },
  {
   "cell_type": "code",
   "execution_count": 29,
   "metadata": {},
   "outputs": [
    {
     "name": "stdout",
     "output_type": "stream",
     "text": [
      "  * * *   \n",
      "*       * \n",
      "* * * * * \n",
      "*       * \n",
      "*       * \n"
     ]
    }
   ],
   "source": [
    "# A\n",
    "n=5\n",
    "for row in range(1,n+1):\n",
    "    for col in range(1,n+1):\n",
    "        if (row in (1,3) or col in (1,5)) and not((row==1 and col==1) or (row==1 and col==5)):\n",
    "            print('*',end=' ')\n",
    "        else:\n",
    "            print(' ',end=' ')\n",
    "    print()  "
   ]
  },
  {
   "cell_type": "code",
   "execution_count": 30,
   "metadata": {},
   "outputs": [
    {
     "name": "stdout",
     "output_type": "stream",
     "text": [
      "*       * \n",
      "* *     * \n",
      "*   *   * \n",
      "*     * * \n",
      "*       * \n"
     ]
    }
   ],
   "source": [
    "# N \n",
    "n=5\n",
    "for row in range(1,n+1):\n",
    "    for col in range(1,n+1):\n",
    "        if (col in (1,5) or row==col):\n",
    "            print('*',end=' ')\n",
    "        else:\n",
    "            print(' ',end=' ')\n",
    "    print()  "
   ]
  },
  {
   "cell_type": "code",
   "execution_count": 31,
   "metadata": {},
   "outputs": [
    {
     "name": "stdout",
     "output_type": "stream",
     "text": [
      "  * * *   \n",
      "*       * \n",
      "* * * * * \n",
      "*       * \n",
      "*       * \n"
     ]
    }
   ],
   "source": [
    "# A\n",
    "n=5\n",
    "for row in range(1,n+1):\n",
    "    for col in range(1,n+1):\n",
    "        if (row in (1,3) or col in (1,5)) and not((row==1 and col==1) or (row==1 and col==5)):\n",
    "            print('*',end=' ')\n",
    "        else:\n",
    "            print(' ',end=' ')\n",
    "    print()  "
   ]
  },
  {
   "cell_type": "code",
   "execution_count": 60,
   "metadata": {},
   "outputs": [
    {
     "name": "stdout",
     "output_type": "stream",
     "text": [
      "*       * \n",
      "  *   *   \n",
      "    *     \n",
      "    *     \n",
      "    *     \n"
     ]
    }
   ],
   "source": [
    "# Y\n",
    "n=5\n",
    "for row in range(1,n+1):\n",
    "    for col in range(1,n+1):\n",
    "        if (row==2 or col in (1,3,5)) and not ((row==2 and col==1) or (row==4 and col==1) or (row==5 and col==1) or (row==3 and col==1) or (row==1 and col==3) or (row==2 and col==3) or (row==2 and col==5) or (row==3 and col==5) or (row==4 and col==5) or (row==5 and col==5)):\n",
    "            print('*',end=' ')\n",
    "        else:\n",
    "            print(' ',end=' ')\n",
    "    print() "
   ]
  },
  {
   "cell_type": "code",
   "execution_count": 63,
   "metadata": {},
   "outputs": [
    {
     "name": "stdout",
     "output_type": "stream",
     "text": [
      "* * * *   * * * *     * * *   *       *   * * *   *       * \n",
      "*       * *       * *       * * *     * *       *   *   *   \n",
      "* * * *   * * * *   * * * * * *   *   * * * * * *     *     \n",
      "*         *     *   *       * *     * * *       *     *     \n",
      "*         *       * *       * *       * *       *     *     \n"
     ]
    }
   ],
   "source": [
    "# PRANAY\n",
    "n=5\n",
    "for row in range(1,n+1):\n",
    "    for col in range(1,n+1):\n",
    "        if (row in (1,3) or col in (1,5)) and not((row==4 and col==5) or (row==5 and col==5) or (row==4 and col==3) or (row==4 and col==5) or (row==1 and col==5) or (row==3 and col==5)):\n",
    "            print('*',end=' ')\n",
    "        else:\n",
    "            print(' ',end=' ')\n",
    "    for col in range(1,n+1):\n",
    "        if (row in (1,3,4) or col in (1,5)) and not((row==4 and col==2) or (row==4 and col==3) or (row==4 and col==5) or (row==1 and col==5) or (row==3 and col==5)):\n",
    "            print('*',end=' ')\n",
    "        else:\n",
    "            print(' ',end=' ')\n",
    "    for col in range(1,n+1):\n",
    "        if (row in (1,3) or col in (1,5)) and not((row==1 and col==1) or (row==1 and col==5)):\n",
    "            print('*',end=' ')\n",
    "        else:\n",
    "            print(' ',end=' ')\n",
    "    for col in range(1,n+1):\n",
    "        if (col in (1,5) or row==col):\n",
    "            print('*',end=' ')\n",
    "        else:\n",
    "            print(' ',end=' ')\n",
    "    for col in range(1,n+1):\n",
    "        if (row in (1,3) or col in (1,5)) and not((row==1 and col==1) or (row==1 and col==5)):\n",
    "            print('*',end=' ')\n",
    "        else:\n",
    "            print(' ',end=' ')        \n",
    "    for col in range(1,n+1):\n",
    "        if (row==2 or col in (1,3,5)) and not ((row==2 and col==1) or (row==4 and col==1) or (row==5 and col==1) or (row==3 and col==1) or (row==1 and col==3) or (row==2 and col==3) or (row==2 and col==5) or (row==3 and col==5) or (row==4 and col==5) or (row==5 and col==5)):\n",
    "            print('*',end=' ')\n",
    "        else:\n",
    "            print(' ',end=' ')\n",
    "    print()"
   ]
  }
 ],
 "metadata": {
  "kernelspec": {
   "display_name": "Python 3",
   "language": "python",
   "name": "python3"
  },
  "language_info": {
   "codemirror_mode": {
    "name": "ipython",
    "version": 3
   },
   "file_extension": ".py",
   "mimetype": "text/x-python",
   "name": "python",
   "nbconvert_exporter": "python",
   "pygments_lexer": "ipython3",
   "version": "3.13.1"
  }
 },
 "nbformat": 4,
 "nbformat_minor": 2
}
