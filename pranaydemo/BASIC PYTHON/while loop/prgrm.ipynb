{
 "cells": [
  {
   "cell_type": "code",
   "execution_count": 28,
   "metadata": {},
   "outputs": [
    {
     "name": "stdout",
     "output_type": "stream",
     "text": [
      "1\n",
      "2\n",
      "3\n",
      "4\n",
      "5\n",
      "6\n",
      "7\n",
      "8\n",
      "9\n",
      "10\n"
     ]
    }
   ],
   "source": [
    "# 1\n",
    "a=1\n",
    "while(a<=10):\n",
    "    print(a)\n",
    "    a+=1"
   ]
  },
  {
   "cell_type": "code",
   "execution_count": 26,
   "metadata": {},
   "outputs": [
    {
     "name": "stdout",
     "output_type": "stream",
     "text": [
      "10\n",
      "9\n",
      "8\n",
      "7\n",
      "6\n",
      "5\n",
      "4\n",
      "3\n",
      "2\n",
      "1\n"
     ]
    }
   ],
   "source": [
    "# 2\n",
    "a=10\n",
    "while(a>=1):\n",
    "    print(a)\n",
    "    a-=1"
   ]
  },
  {
   "cell_type": "code",
   "execution_count": null,
   "metadata": {},
   "outputs": [
    {
     "name": "stdout",
     "output_type": "stream",
     "text": [
      "2\n",
      "4\n",
      "6\n",
      "8\n",
      "10\n",
      "12\n",
      "14\n",
      "16\n",
      "18\n",
      "20\n",
      "end\n"
     ]
    }
   ],
   "source": [
    "# 3\n",
    "a=2\n",
    "while(a<=20):\n",
    "    if a%2==0:\n",
    "        print(a)\n",
    "    a+=1\n",
    "print(\"end\")        "
   ]
  },
  {
   "cell_type": "code",
   "execution_count": 17,
   "metadata": {},
   "outputs": [
    {
     "name": "stdout",
     "output_type": "stream",
     "text": [
      "1\n",
      "3\n",
      "5\n",
      "7\n",
      "9\n",
      "11\n",
      "13\n",
      "15\n",
      "17\n",
      "19\n",
      "end\n"
     ]
    }
   ],
   "source": [
    "# 4\n",
    "a=1\n",
    "while(a<=20):\n",
    "    if a%2!=0:\n",
    "        print(a)\n",
    "    a+=1\n",
    "print(\"end\")   "
   ]
  },
  {
   "cell_type": "code",
   "execution_count": null,
   "metadata": {},
   "outputs": [
    {
     "name": "stdout",
     "output_type": "stream",
     "text": [
      "5\n",
      "10\n",
      "15\n",
      "20\n",
      "25\n",
      "30\n",
      "35\n",
      "40\n",
      "45\n",
      "50\n",
      "end\n"
     ]
    }
   ],
   "source": [
    "# 5\n",
    "a=5\n",
    "while(a<=50):\n",
    "    if a%5==0:\n",
    "        print(a)\n",
    "    a+=1\n",
    "print(\"end\") \n"
   ]
  },
  {
   "cell_type": "code",
   "execution_count": null,
   "metadata": {},
   "outputs": [
    {
     "name": "stdout",
     "output_type": "stream",
     "text": [
      "55\n"
     ]
    }
   ],
   "source": [
    "# 6\n",
    "sum=0\n",
    "a=1\n",
    "while(a<=10):\n",
    "    sum+=a\n",
    "    a+=1\n",
    "print(sum)"
   ]
  },
  {
   "cell_type": "code",
   "execution_count": 1,
   "metadata": {},
   "outputs": [
    {
     "name": "stdout",
     "output_type": "stream",
     "text": [
      "110\n"
     ]
    }
   ],
   "source": [
    "# 7\n",
    "sum=0\n",
    "a=0\n",
    "while(a<=20):\n",
    "    sum+=a\n",
    "    a+=2\n",
    "print(sum)    "
   ]
  },
  {
   "cell_type": "code",
   "execution_count": null,
   "metadata": {},
   "outputs": [
    {
     "name": "stdout",
     "output_type": "stream",
     "text": [
      "100\n"
     ]
    }
   ],
   "source": [
    "# 8\n",
    "sum=0\n",
    "a=1\n",
    "while(a<=20):\n",
    "    sum+=a\n",
    "    a+=2\n",
    "print(sum)  "
   ]
  },
  {
   "cell_type": "code",
   "execution_count": 23,
   "metadata": {},
   "outputs": [
    {
     "name": "stdout",
     "output_type": "stream",
     "text": [
      "1\n",
      "2\n",
      "3\n",
      "4\n",
      "5\n",
      "6\n",
      "7\n",
      "8\n",
      "9\n",
      "10\n"
     ]
    }
   ],
   "source": [
    "# 9\n",
    "a=1\n",
    "while(a<=10):\n",
    "    print(a)\n",
    "    a+=1"
   ]
  },
  {
   "cell_type": "code",
   "execution_count": null,
   "metadata": {},
   "outputs": [
    {
     "name": "stdout",
     "output_type": "stream",
     "text": [
      "50\n",
      "49\n",
      "48\n",
      "47\n",
      "46\n",
      "45\n",
      "44\n",
      "43\n",
      "42\n",
      "41\n",
      "40\n",
      "39\n",
      "38\n",
      "37\n",
      "36\n",
      "35\n",
      "34\n",
      "33\n",
      "32\n",
      "31\n",
      "30\n",
      "29\n",
      "28\n",
      "27\n",
      "26\n",
      "25\n",
      "24\n",
      "23\n",
      "22\n",
      "21\n",
      "20\n",
      "19\n",
      "18\n",
      "17\n",
      "16\n",
      "15\n",
      "14\n",
      "13\n",
      "12\n",
      "11\n",
      "10\n",
      "9\n",
      "8\n",
      "7\n",
      "6\n",
      "5\n",
      "4\n",
      "3\n",
      "2\n",
      "1\n"
     ]
    }
   ],
   "source": [
    "# 10\n",
    "a=50\n",
    "while(a>=1):\n",
    "    print(a)\n",
    "    a-=1"
   ]
  },
  {
   "cell_type": "code",
   "execution_count": null,
   "metadata": {},
   "outputs": [
    {
     "name": "stdout",
     "output_type": "stream",
     "text": [
      "3\n",
      "6\n",
      "9\n",
      "12\n",
      "15\n",
      "18\n",
      "21\n",
      "24\n",
      "27\n",
      "30\n"
     ]
    }
   ],
   "source": [
    "#varshith task\n",
    "a=3\n",
    "while(a<=30):\n",
    "    if a%3==0:\n",
    "        print(a)\n",
    "    a+=1 "
   ]
  },
  {
   "cell_type": "code",
   "execution_count": null,
   "metadata": {},
   "outputs": [
    {
     "name": "stdout",
     "output_type": "stream",
     "text": [
      "2\n",
      "4\n",
      "5\n",
      "8\n",
      "10\n",
      "20\n",
      "25\n",
      "40\n",
      "50\n",
      "100\n",
      "200\n",
      "11\n"
     ]
    }
   ],
   "source": [
    "# waptp count of the factors of a given number from 2 to 200\n",
    "i=2\n",
    "n=200\n",
    "count=0\n",
    "while i<=n:\n",
    "    if n%i==0:\n",
    "        count+=1\n",
    "        print(i)\n",
    "    i+=1\n",
    "print(count)        "
   ]
  },
  {
   "cell_type": "code",
   "execution_count": null,
   "metadata": {},
   "outputs": [
    {
     "name": "stdout",
     "output_type": "stream",
     "text": [
      "10\n",
      "yes\n"
     ]
    }
   ],
   "source": [
    "# WAPT Check Wheather The count of the even numbers from 15 to 35 is a multiple of 5 or not\n",
    "i=15\n",
    "count=0\n",
    "e=35\n",
    "while(i<=e):\n",
    "    if i%2==0:\n",
    "        count+=1\n",
    "    i+=1\n",
    "print(count)  \n",
    "if count%5==0:\n",
    "    print('yes')\n",
    "else:\n",
    "    print('No')  "
   ]
  },
  {
   "cell_type": "code",
   "execution_count": 7,
   "metadata": {},
   "outputs": [
    {
     "name": "stdout",
     "output_type": "stream",
     "text": [
      "3\n",
      "6\n",
      "9\n",
      "12\n",
      "15\n",
      "count = 5\n"
     ]
    }
   ],
   "source": [
    "# waptp  count of the 3 multiples from 1 to n\n",
    "i=1\n",
    "n=int(input(\"enter value\"))\n",
    "count=0\n",
    "while i<=n:\n",
    "    if i%3==0:\n",
    "        count+=1\n",
    "        print(i)\n",
    "    i+=1\n",
    "print(\"count =\",count)        "
   ]
  },
  {
   "cell_type": "code",
   "execution_count": 12,
   "metadata": {},
   "outputs": [
    {
     "name": "stdout",
     "output_type": "stream",
     "text": [
      "2\n"
     ]
    }
   ],
   "source": [
    "# waptp count of the numbers which are divisible by both 7 and 3 in range of 20to50\n",
    "i=20\n",
    "count=0\n",
    "n=50\n",
    "while i<=n:\n",
    "    if i%7==0 and i%3==0:\n",
    "        count+=1\n",
    "    i+=1\n",
    "print(count)        "
   ]
  },
  {
   "cell_type": "code",
   "execution_count": 14,
   "metadata": {},
   "outputs": [
    {
     "name": "stdout",
     "output_type": "stream",
     "text": [
      "120\n"
     ]
    }
   ],
   "source": [
    "# waptp product of the numbers from 1 to 5\n",
    "i=1\n",
    "p=1\n",
    "n=5\n",
    "while i<=5:\n",
    "    p*=i\n",
    "    i+=1\n",
    "print(p)    "
   ]
  },
  {
   "cell_type": "code",
   "execution_count": 18,
   "metadata": {},
   "outputs": [
    {
     "name": "stdout",
     "output_type": "stream",
     "text": [
      "524880000\n"
     ]
    }
   ],
   "source": [
    "# waptp product of the num which are divisible by either 3 0r 5 from 1 to 20\n",
    "i=1\n",
    "p=1\n",
    "n=20\n",
    "while i<=n:\n",
    "    if i%3==0 or i%5==0:\n",
    "        p*=i\n",
    "    i+=1\n",
    "print(p)        "
   ]
  },
  {
   "cell_type": "code",
   "execution_count": 19,
   "metadata": {},
   "outputs": [
    {
     "name": "stdout",
     "output_type": "stream",
     "text": [
      "1\n",
      "2\n",
      "3\n",
      "4\n",
      "6\n",
      "12\n"
     ]
    }
   ],
   "source": [
    "# waptp factor of 12\n",
    "i=1\n",
    "n=12\n",
    "while i<=12:\n",
    "    if n%i==0:\n",
    "      print(i)\n",
    "    i+=1  "
   ]
  },
  {
   "cell_type": "code",
   "execution_count": 21,
   "metadata": {},
   "outputs": [
    {
     "name": "stdout",
     "output_type": "stream",
     "text": [
      "1\n",
      "3\n",
      "5\n",
      "15\n"
     ]
    }
   ],
   "source": [
    "# waptp factorial of a given number\n",
    "i=1\n",
    "n=int(input(\"value\"))\n",
    "while i<=n:\n",
    "    if n%i==0:\n",
    "        print(i)\n",
    "    i+=1    "
   ]
  },
  {
   "cell_type": "code",
   "execution_count": 25,
   "metadata": {},
   "outputs": [
    {
     "name": "stdout",
     "output_type": "stream",
     "text": [
      "1\n",
      "2\n",
      "3\n",
      "6\n",
      "12\n"
     ]
    }
   ],
   "source": [
    "# waptp sum of the factors of a given numbers\n",
    "i=1\n",
    "sum=0\n",
    "n=int(input(\"value\"))\n",
    "while i<=n:\n",
    "    if n%i==0:\n",
    "        print(i)\n",
    "        sum+=i\n",
    "    i+=1\n",
    "print(sum)        "
   ]
  },
  {
   "cell_type": "code",
   "execution_count": 28,
   "metadata": {},
   "outputs": [
    {
     "name": "stdout",
     "output_type": "stream",
     "text": [
      "1\n",
      "2\n",
      "3\n",
      "6\n",
      "product = 36\n"
     ]
    }
   ],
   "source": [
    "# waptp product of the factors of the given num\n",
    "i=1\n",
    "p=1\n",
    "n=int(input(\"value\"))\n",
    "while i<=n:\n",
    "    if n%i==0:\n",
    "        p*=i\n",
    "        print(i)\n",
    "    i+=1\n",
    "print(\"product =\",p)        "
   ]
  },
  {
   "cell_type": "code",
   "execution_count": null,
   "metadata": {},
   "outputs": [
    {
     "name": "stdout",
     "output_type": "stream",
     "text": [
      "0\n",
      "1\n",
      "1\n",
      "2\n",
      "3\n",
      "5\n",
      "8\n",
      "13\n",
      "21\n",
      "34\n"
     ]
    }
   ],
   "source": [
    "# FIBNACCI SERIES\n",
    "n=10\n",
    "p1=0\n",
    "p2=1\n",
    "i=1\n",
    "while i<=10:\n",
    "    print(p1)\n",
    "    nxt=p1+p2\n",
    "    p1=p2\n",
    "    p2=nxt\n",
    "    i+=1"
   ]
  },
  {
   "cell_type": "code",
   "execution_count": 42,
   "metadata": {},
   "outputs": [
    {
     "name": "stdout",
     "output_type": "stream",
     "text": [
      "product= 19\n",
      "sum= 20\n",
      "No it not equal\n"
     ]
    }
   ],
   "source": [
    "# wapt check wheather the sum of the factors of the given num\n",
    "# is equals to product of the factors of a given number or not\n",
    "\n",
    "i=1\n",
    "sum=0\n",
    "p=1\n",
    "n=int(input(\"value\"))\n",
    "while i<=n:\n",
    "    if n%i==0:\n",
    "        sum+=i\n",
    "        p*=i\n",
    "        # print(i)\n",
    "    i+=1\n",
    "print(\"product=\",p)\n",
    "print(\"sum=\",sum)   \n",
    "if sum==p:\n",
    "    print(\"yes it is equal\")\n",
    "else:\n",
    "    print(\"No it not equal\")         "
   ]
  },
  {
   "cell_type": "code",
   "execution_count": 15,
   "metadata": {},
   "outputs": [
    {
     "name": "stdout",
     "output_type": "stream",
     "text": [
      "its a prime Number\n"
     ]
    }
   ],
   "source": [
    "# wapt check wheather the prime number or not (OR)\n",
    "# wapt check whether the count of factor of a given num is 2 (or) not\n",
    "i=1\n",
    "count=0\n",
    "n=int(input(\"enter value\"))\n",
    "while i<=n:\n",
    "    if n%i==0:\n",
    "        count+=1\n",
    "    i+=1\n",
    "if count==2:\n",
    "    print(\"its a prime Number\")\n",
    "else:\n",
    "    print(\"not a prime Number\")        "
   ]
  }
 ],
 "metadata": {
  "kernelspec": {
   "display_name": "Python 3",
   "language": "python",
   "name": "python3"
  },
  "language_info": {
   "codemirror_mode": {
    "name": "ipython",
    "version": 3
   },
   "file_extension": ".py",
   "mimetype": "text/x-python",
   "name": "python",
   "nbconvert_exporter": "python",
   "pygments_lexer": "ipython3",
   "version": "3.13.1"
  }
 },
 "nbformat": 4,
 "nbformat_minor": 2
}
