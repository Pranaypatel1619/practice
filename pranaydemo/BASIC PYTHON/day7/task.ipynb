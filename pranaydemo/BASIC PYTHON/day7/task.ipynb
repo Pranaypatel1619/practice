{
 "cells": [
  {
   "cell_type": "code",
   "execution_count": 77,
   "metadata": {},
   "outputs": [
    {
     "name": "stdout",
     "output_type": "stream",
     "text": [
      "<class 'dict'>\n",
      "gmrr\n",
      "gmrr\n",
      "31\n",
      "31\n",
      "ognajD\n",
      "ognajD\n",
      "fed\n",
      "fed\n",
      "['Python', 'Django']\n",
      "orp\n",
      "orp\n",
      "(150, 120)\n",
      "(150, 120)\n",
      "gram\n",
      "gram\n",
      "31,21,11\n",
      "31,21,11\n",
      "140\n",
      "140\n",
      "margorp\n",
      "margorp\n",
      "abcdef\n",
      "abcdef\n",
      "dcba\n",
      "dcba\n",
      "<class 'str'>\n",
      "['Python', 'Django']\n",
      "['Python', 'Django']\n"
     ]
    }
   ],
   "source": [
    "d={'li':['11,12,13','abcdef'],\n",
    "    'tu':(120,130,140,150),\n",
    "    'di':{'st':'programming','list':['Python','Django']}}\n",
    "\n",
    "print(type(d))\n",
    "print(d['di']['st'][10:0:-3])\n",
    "print(d['di']['st'][-1:-11:-3])\n",
    "print(d['li'][0][7:5:-1])\n",
    "print(d['li'][-2][-1:-3:-1])\n",
    "print(d['di']['list'][1][::-1])\n",
    "print(d['di']['list'][-1][::-1])\n",
    "print(d['li'][1][5:2:-1])\n",
    "print(d['li'][-1][-1:-4:-1])\n",
    "print(d['di']['list'][:])\n",
    "print(d['di']['st'][2::-1])\n",
    "print(d['di']['st'][-9::-1])\n",
    "print(d['tu'][3::-3])\n",
    "print(d['tu'][-1::-3])\n",
    "print(d['di']['st'][3:7])\n",
    "print(d['di']['st'][-8:-4])\n",
    "print(d['li'][0][8::-1])\n",
    "print(d['li'][-2][-1::-1])\n",
    "print(d['tu'][2])\n",
    "print(d['tu'][-2])\n",
    "print(d['di']['st'][6::-1])\n",
    "print(d['di']['st'][-5::-1])\n",
    "print(d['li'][1][::1])\n",
    "print(d['li'][-1][::1])\n",
    "print(d['li'][1][3::-1])\n",
    "print(d['li'][-1][-3::-1])\n",
    "print(type('di'))\n",
    "print(d['di']['list'][:])\n",
    "print(d['di']['list'][:])"
   ]
  }
 ],
 "metadata": {
  "kernelspec": {
   "display_name": "Python 3",
   "language": "python",
   "name": "python3"
  },
  "language_info": {
   "codemirror_mode": {
    "name": "ipython",
    "version": 3
   },
   "file_extension": ".py",
   "mimetype": "text/x-python",
   "name": "python",
   "nbconvert_exporter": "python",
   "pygments_lexer": "ipython3",
   "version": "3.13.1"
  }
 },
 "nbformat": 4,
 "nbformat_minor": 2
}
