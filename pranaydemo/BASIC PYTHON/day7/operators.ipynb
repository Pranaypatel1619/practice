{
 "cells": [
  {
   "cell_type": "code",
   "execution_count": null,
   "metadata": {},
   "outputs": [
    {
     "name": "stdout",
     "output_type": "stream",
     "text": [
      "30\n",
      "PranayPatel\n",
      "11.0\n",
      "1\n",
      "(10, 30, 5, 15)\n",
      "(10, 5, 'python')\n",
      "(13+10j)\n",
      "[10, 20, 10, 20]\n",
      "10\n"
     ]
    }
   ],
   "source": [
    "# Addition\n",
    "\n",
    "print(10+20)\n",
    "\n",
    "print('Pranay'+'Patel')\n",
    "# print('pranay'+19)   --->type error\n",
    "\n",
    "print(5.5+5.5)\n",
    "\n",
    "print(True+False)\n",
    "\n",
    "print((10,30)+(5,15))\n",
    "print((10,5)+('python',))\n",
    "\n",
    "print(3+5j+(10+5j))\n",
    "\n",
    "print([10,20]+[10,20])\n",
    "\n",
    "# print({10+10}+{20+20})---->type error\n",
    "# print({'name':'pranay'}+{'id':9000})---->type error\n",
    "\n"
   ]
  },
  {
   "cell_type": "code",
   "execution_count": 42,
   "metadata": {},
   "outputs": [
    {
     "name": "stdout",
     "output_type": "stream",
     "text": [
      "10\n",
      "pythonpython\n",
      "30.25\n",
      "0\n",
      "(-7+10j)\n",
      "['python', 100, 'python', 100, 'python', 100, 'python', 100, 'python', 100]\n",
      "('python', 100, 'python', 100, 'python', 100, 'python', 100, 'python', 100)\n"
     ]
    }
   ],
   "source": [
    "print(5*2)\n",
    "\n",
    "# print('pra'*'nay')  --->type error\n",
    "print('python'*2)\n",
    "\n",
    "print(5.5*5.5)\n",
    "\n",
    "print(True*False)\n",
    "\n",
    "print(3+5j*(2+2j))\n",
    "\n",
    "# print((5,2)*(2,6))   --->type error\n",
    "\n",
    "print(['python',100]*5)\n",
    "\n",
    "print(('python',100)*5)"
   ]
  },
  {
   "cell_type": "code",
   "execution_count": null,
   "metadata": {},
   "outputs": [
    {
     "name": "stdout",
     "output_type": "stream",
     "text": [
      "True\n",
      "False\n",
      "True\n",
      "False\n",
      "True\n"
     ]
    }
   ],
   "source": [
    "# Relational operator\n",
    "\n",
    "print(10>5)\n",
    "print(10<5)\n",
    "print(10>=5)\n",
    "print(10<=5)\n",
    "\n",
    "print(10.5>=5.5)"
   ]
  },
  {
   "cell_type": "code",
   "execution_count": 18,
   "metadata": {},
   "outputs": [
    {
     "name": "stdout",
     "output_type": "stream",
     "text": [
      "False\n",
      "True\n",
      "False\n",
      "False\n",
      "False\n",
      "True\n",
      "False\n",
      "False\n",
      "False\n"
     ]
    }
   ],
   "source": [
    "# comparison operator\n",
    "\n",
    "print(10==20)\n",
    "print(10==10)\n",
    "print([10,20]==[20,10])\n",
    "print({10,30,40}=={10,30})\n",
    "print('AB'=='aB')\n",
    "print(3+5j==(3+5J))\n",
    "print(3+5j==(3-5J))\n",
    "print((1,2)==[1,2])\n",
    "print((1,2)=={1,2})"
   ]
  }
 ],
 "metadata": {
  "kernelspec": {
   "display_name": "Python 3",
   "language": "python",
   "name": "python3"
  },
  "language_info": {
   "codemirror_mode": {
    "name": "ipython",
    "version": 3
   },
   "file_extension": ".py",
   "mimetype": "text/x-python",
   "name": "python",
   "nbconvert_exporter": "python",
   "pygments_lexer": "ipython3",
   "version": "3.13.1"
  }
 },
 "nbformat": 4,
 "nbformat_minor": 2
}
