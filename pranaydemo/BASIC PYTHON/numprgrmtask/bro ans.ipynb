{
 "cells": [
  {
   "cell_type": "code",
   "execution_count": null,
   "metadata": {},
   "outputs": [
    {
     "name": "stdout",
     "output_type": "stream",
     "text": [
      "Spy num\n"
     ]
    }
   ],
   "source": [
    "# spr-->sum of digits == product of digits\n",
    "n=int(input())\n",
    "sum=0\n",
    "p=1\n",
    "while n>0:\n",
    "    ld=n%10\n",
    "    sum+=ld\n",
    "    p*=ld\n",
    "    n//=10\n",
    "if sum==p:\n",
    "    print(\"Spy num\")\n",
    "else:\n",
    "    print(\"Not a spy num\")"
   ]
  },
  {
   "cell_type": "code",
   "execution_count": null,
   "metadata": {},
   "outputs": [
    {
     "name": "stdout",
     "output_type": "stream",
     "text": [
      "Not a strong num\n"
     ]
    }
   ],
   "source": [
    "# strong -->sum of factorial of digits of a number == number\n",
    "n=int(input())\n",
    "sum=0\n",
    "temp=n\n",
    "while n>0:\n",
    "    ld=n%10\n",
    "    i=1\n",
    "    fact=1\n",
    "    while i<=ld:\n",
    "        fact*=i\n",
    "        i+=1\n",
    "    sum+=fact\n",
    "    n//=10\n",
    "if temp==sum:\n",
    "    print(\"Strong num\")\n",
    "else:\n",
    "    print(\"Not a strong num\")"
   ]
  },
  {
   "cell_type": "code",
   "execution_count": null,
   "metadata": {},
   "outputs": [
    {
     "name": "stdout",
     "output_type": "stream",
     "text": [
      "Armstrong\n"
     ]
    }
   ],
   "source": [
    "# Armstrong -->sum of digits to the power of no. of digits == number\n",
    "n=int(input())\n",
    "temp=n\n",
    "temp2=n\n",
    "sum=0\n",
    "d=0\n",
    "while n!=0:\n",
    "    d=d+1\n",
    "    n//=10\n",
    "while temp>0:\n",
    "    ld=temp%10\n",
    "    sum=sum+(ld**d)\n",
    "    temp//=10\n",
    "if temp2==sum:\n",
    "    print(\"Armstrong\")\n",
    "else:\n",
    "    print(\"Not a Armstrong\")"
   ]
  },
  {
   "cell_type": "code",
   "execution_count": null,
   "metadata": {},
   "outputs": [
    {
     "name": "stdout",
     "output_type": "stream",
     "text": [
      "Harshad number\n"
     ]
    }
   ],
   "source": [
    "# Harshad number -->if the number is divisible by sum of its digits\n",
    "n=int(input())\n",
    "temp=n\n",
    "sum=0\n",
    "while n>0:\n",
    "    ld=n%10\n",
    "    sum+=ld\n",
    "    n//=10\n",
    "if temp%sum==0:\n",
    "    print(\"Harshad number\")\n",
    "else:\n",
    "    print(\"Not a Harshad number\")"
   ]
  },
  {
   "cell_type": "code",
   "execution_count": null,
   "metadata": {},
   "outputs": [
    {
     "name": "stdout",
     "output_type": "stream",
     "text": [
      "Neon number\n"
     ]
    }
   ],
   "source": [
    "# neon --> number is  equal to sum of digits in its square\n",
    "\n",
    "n=int(input())\n",
    "temp=n**2\n",
    "sum=0\n",
    "while temp>0:\n",
    "    ld=temp%10\n",
    "    sum+=ld\n",
    "    temp//=10\n",
    "if n==sum:\n",
    "    print(\"Neon number\")\n"
   ]
  },
  {
   "cell_type": "code",
   "execution_count": null,
   "metadata": {},
   "outputs": [
    {
     "name": "stdout",
     "output_type": "stream",
     "text": [
      "not\n"
     ]
    }
   ],
   "source": [
    "# perfect number  ->sum of factors of number except itself ==number\n",
    "n=int(input())\n",
    "s=0\n",
    "i=1\n",
    "while i<n:\n",
    "    if n%i==0:\n",
    "        s+=i\n",
    "    i+=1\n",
    "if s==n:\n",
    "    print(\"perfect number\")\n",
    "else:\n",
    "    print(\"not\")"
   ]
  },
  {
   "cell_type": "code",
   "execution_count": null,
   "metadata": {},
   "outputs": [
    {
     "name": "stdout",
     "output_type": "stream",
     "text": [
      "Twisted prime number\n"
     ]
    }
   ],
   "source": [
    "n=int(input())\n",
    "temp=n\n",
    "sum=0\n",
    "while n>0:\n",
    "    ld=n%10\n",
    "    sum= sum*10+ld\n",
    "    n//=10\n",
    "i=1\n",
    "co=0\n",
    "while i<=temp:\n",
    "    if temp%i==0:\n",
    "        co+=1\n",
    "    i+=1\n",
    "j=1\n",
    "cn=0\n",
    "while j<=sum:\n",
    "    if sum%j==0:\n",
    "        cn+=1\n",
    "    j+=1\n",
    "\n",
    "if co==2 and cn==2:\n",
    "    print(\"Twisted prime number\")\n",
    "else:\n",
    "    print(\"Not a twisted prime number\")"
   ]
  },
  {
   "cell_type": "code",
   "execution_count": null,
   "metadata": {},
   "outputs": [
    {
     "name": "stdout",
     "output_type": "stream",
     "text": [
      "Product of digits is prime\n"
     ]
    }
   ],
   "source": [
    "# 2  eg:13,31\n",
    "n=int(input())\n",
    "p=1\n",
    "while n>0:\n",
    "    ld=n%10\n",
    "    p*=ld\n",
    "    n//=10\n",
    "i=1\n",
    "c=0\n",
    "while i<=p:\n",
    "    if p%i==0:\n",
    "        c+=1\n",
    "    i+=1\n",
    "if c==2:\n",
    "    print(\"Product of digits is prime\")\n",
    "else:\n",
    "    print(\"Product of digits is not a prime\")"
   ]
  },
  {
   "cell_type": "code",
   "execution_count": null,
   "metadata": {},
   "outputs": [
    {
     "name": "stdout",
     "output_type": "stream",
     "text": [
      "1\n",
      "9\n",
      "5\n",
      "3\n",
      "3\n",
      "1\n"
     ]
    }
   ],
   "source": [
    "# 3\n",
    "n=int(input())\n",
    "while n>0:\n",
    "    ld=n%10\n",
    "    if ld%2!=0:\n",
    "        print(ld)\n",
    "    n//=10"
   ]
  },
  {
   "cell_type": "code",
   "execution_count": null,
   "metadata": {},
   "outputs": [
    {
     "name": "stdout",
     "output_type": "stream",
     "text": [
      "6\n",
      "SUM of Factors is: 6\n",
      "Factorial of number is perfect number\n"
     ]
    }
   ],
   "source": [
    "# 4  eg:3\n",
    "n1=int(input())\n",
    "fact=1\n",
    "while n1>0:\n",
    "    fact=fact*n1\n",
    "    n1-=1\n",
    "print(fact)\n",
    "i=1\n",
    "sum=0\n",
    "while i<fact:\n",
    "    if fact%i==0:\n",
    "        sum+=i\n",
    "    i+=1\n",
    "print(\"SUM of Factors is:\",sum)\n",
    "if fact==sum:\n",
    "    print(\"Factorial of number is perfect number\")\n",
    "else:\n",
    "     print(\"Factorial of number is  not perfect number\")\n"
   ]
  },
  {
   "cell_type": "code",
   "execution_count": null,
   "metadata": {},
   "outputs": [
    {
     "name": "stdout",
     "output_type": "stream",
     "text": [
      "Sum of first 5 numbers is odd\n"
     ]
    }
   ],
   "source": [
    "# 5\n",
    "i=1\n",
    "n=5\n",
    "s=0\n",
    "while i<=n:\n",
    "    s+=i\n",
    "    i+=1\n",
    "if s%2==0:\n",
    "    print(\"Sum of first 5 numbers is even\")\n",
    "else:\n",
    "    print(\"Sum of first 5 numbers is odd\")"
   ]
  },
  {
   "cell_type": "code",
   "execution_count": 35,
   "metadata": {},
   "outputs": [
    {
     "name": "stdout",
     "output_type": "stream",
     "text": [
      "Sum of digits in a number: 10\n",
      "Product of digits in a number: 24\n"
     ]
    }
   ],
   "source": [
    "# 6\n",
    "n=int(input())\n",
    "sum=0\n",
    "p=1\n",
    "while n>0:\n",
    "    ld=n%10\n",
    "    sum+=ld\n",
    "    p*=ld\n",
    "    n//=10\n",
    "print(\"Sum of digits in a number:\",sum)\n",
    "print(\"Product of digits in a number:\",p)"
   ]
  },
  {
   "cell_type": "code",
   "execution_count": 19,
   "metadata": {},
   "outputs": [
    {
     "name": "stdout",
     "output_type": "stream",
     "text": [
      "120\n",
      "Summation of digits of factorial 3\n"
     ]
    }
   ],
   "source": [
    "# 7\n",
    "n1=int(input())\n",
    "fact=1\n",
    "while n1>0:\n",
    "    fact=fact*n1\n",
    "    n1-=1\n",
    "print(fact)\n",
    "sum=0\n",
    "while fact>0:\n",
    "    ld=fact%10\n",
    "    sum+=ld\n",
    "    fact//=10\n",
    "print(\"Summation of digits of factorial\",sum)"
   ]
  },
  {
   "cell_type": "code",
   "execution_count": null,
   "metadata": {},
   "outputs": [],
   "source": [
    "# 8\n",
    "n=int(input())\n",
    "p=1\n",
    "while n>0:\n",
    "    ld=n%10\n",
    "    p*=ld\n",
    "    n//=10\n",
    "temp=p\n",
    "sum=0\n",
    "while p>0:\n",
    "    ld=p%10\n",
    "    sum= sum*10+ld\n",
    "    p//=10\n",
    "if temp==sum:\n",
    "    print(\"Product of digits in a number is palindrome\")\n",
    "else:\n",
    "    print(\"Product of digits in a number is not palindrome\")\n"
   ]
  },
  {
   "cell_type": "code",
   "execution_count": null,
   "metadata": {},
   "outputs": [
    {
     "name": "stdout",
     "output_type": "stream",
     "text": [
      "8\n",
      "Spy num\n"
     ]
    }
   ],
   "source": [
    "# 9 eg:26,6\n",
    "n=int(input())\n",
    "sum=0\n",
    "while n>0:\n",
    "    ld=n%10\n",
    "    sum+=ld\n",
    "    n//=10\n",
    "print(sum)\n",
    "\n",
    "temp=sum\n",
    "s=0\n",
    "p=1\n",
    "while sum>0:\n",
    "    ld=sum%10\n",
    "    s+=ld\n",
    "    p*=ld\n",
    "    sum//=10\n",
    "if s==p:\n",
    "    print(\"Spy num\")\n",
    "else:\n",
    "    print(\"Not a spy num\")"
   ]
  },
  {
   "cell_type": "code",
   "execution_count": null,
   "metadata": {},
   "outputs": [
    {
     "name": "stdout",
     "output_type": "stream",
     "text": [
      "Count of factors of a number is even\n"
     ]
    }
   ],
   "source": [
    "# 10 eg:24\n",
    "n=int(input())\n",
    "i=1\n",
    "c=0\n",
    "while i<=n:\n",
    "    if n%i==0:\n",
    "        c+=1\n",
    "    i+=1\n",
    "if c%2==0:\n",
    "    print(\"Count of factors of a number is even\")\n",
    "else:\n",
    "    print(\"Count of factors of a number is odd\")"
   ]
  },
  {
   "cell_type": "code",
   "execution_count": null,
   "metadata": {},
   "outputs": [
    {
     "name": "stdout",
     "output_type": "stream",
     "text": [
      "5\n",
      "5\n",
      "3\n",
      "8\n",
      "Sum of last and middle digits of a number is palindrome\n"
     ]
    }
   ],
   "source": [
    "# 1 eg :12345\n",
    "n=int(input())\n",
    "# st=str(n)\n",
    "# ld=st[len(st)-1]\n",
    "# m=len(st)//2\n",
    "# md=st[m]\n",
    "# # print(ld)\n",
    "# # print(md)\n",
    "t=n\n",
    "sum=0\n",
    "ld=n%10\n",
    "print(ld)\n",
    "c=0\n",
    "while n>0:\n",
    "    c+=1\n",
    "    n//=10\n",
    "print(c)\n",
    "if c%2==0:\n",
    "    print(\"Palindrome\")\n",
    "else:\n",
    "    i=0\n",
    "    md=0\n",
    "    while i<=(c//2):\n",
    "        if i==(c//2):\n",
    "            md=t%10\n",
    "            \n",
    "        t//=10\n",
    "        i+=1\n",
    "    print(md)\n",
    "    sum=ld+md\n",
    "    print(sum)\n",
    "    temp=sum\n",
    "    rev=0\n",
    "    while sum>0:\n",
    "        lt=sum%10\n",
    "        rev= rev*10+lt\n",
    "        sum//=10\n",
    "    if temp==rev:\n",
    "        print(\"Sum of last and middle digits of a number is palindrome\")\n",
    "    else:\n",
    "        print(\"Sum of last and middle digits of a number is not a palindrome\")\n",
    "\n"
   ]
  },
  {
   "cell_type": "code",
   "execution_count": null,
   "metadata": {},
   "outputs": [
    {
     "data": {
      "text/plain": [
       "2"
      ]
     },
     "execution_count": 5,
     "metadata": {},
     "output_type": "execute_result"
    }
   ],
   "source": [
    "# 14 strong or not\n",
    "n=int(input())\n",
    "temp=n\n",
    "sum=0\n",
    "\n",
    "while n>0:\n",
    "    ld=n%10\n",
    "    i=1\n",
    "    fact=1\n",
    "    while i<=ld:\n",
    "        fact*=i\n",
    "        i+=1\n",
    "    sum+=fact\n",
    "    n//=10\n",
    "if temp==sum:\n",
    "    print(\"Strong num\")\n",
    "    \n",
    "else:\n",
    "    print(\"Not a strong num\")\n",
    "\n"
   ]
  },
  {
   "cell_type": "code",
   "execution_count": null,
   "metadata": {},
   "outputs": [
    {
     "name": "stdout",
     "output_type": "stream",
     "text": [
      "Product of first, last and middle digit is  28\n"
     ]
    }
   ],
   "source": [
    "# 15 product of first last and middle digit  of given num\n",
    "n=int(input())\n",
    "st=str(n)\n",
    "ft=st[0]\n",
    "ld=st[len(st)-1]\n",
    "m=len(st)//2\n",
    "md=st[m]\n",
    "p=int(ft)*int(ld)*int(md)\n",
    "print(\"Product of first, last and middle digit is \",p)"
   ]
  },
  {
   "cell_type": "code",
   "execution_count": null,
   "metadata": {},
   "outputs": [
    {
     "name": "stdout",
     "output_type": "stream",
     "text": [
      "Spy num\n"
     ]
    }
   ],
   "source": [
    "# 16 square of  mid digit is prime or not\n",
    "n=int(input())\n",
    "st=str(n)\n",
    "m=len(st)//2\n",
    "md=st[m]\n",
    "sq=int(md)**2\n",
    "\n",
    "s=0\n",
    "p=1\n",
    "while sq>0:\n",
    "    ld=sq%10\n",
    "    s+=ld\n",
    "    p*=ld\n",
    "    sq//=10\n",
    "if s==p:\n",
    "    print(\"Spy num\")\n",
    "else:\n",
    "    print(\"Not a spy num\")"
   ]
  },
  {
   "cell_type": "code",
   "execution_count": null,
   "metadata": {},
   "outputs": [
    {
     "name": "stdout",
     "output_type": "stream",
     "text": [
      "5\n",
      "Prime\n"
     ]
    }
   ],
   "source": [
    "# 17 count of digits is prime or not\n",
    "n=int(input())\n",
    "c=0\n",
    "while n>0:\n",
    "    ld=n%10\n",
    "    c+=1\n",
    "    n//=10\n",
    "print(c)\n",
    "i=1\n",
    "p=0\n",
    "while i<=c:\n",
    "    if c%i==0:\n",
    "        p+=1\n",
    "    if p==2:\n",
    "        print(\"Prime\")\n",
    "    i+=1\n"
   ]
  },
  {
   "cell_type": "code",
   "execution_count": null,
   "metadata": {},
   "outputs": [
    {
     "name": "stdout",
     "output_type": "stream",
     "text": [
      "4\n"
     ]
    }
   ],
   "source": [
    "# 18 count of prime digits from num ->wrong output\n",
    "n=int(input())\n",
    "c=0\n",
    "while n>0:\n",
    "    ld=n%10\n",
    "    i=1\n",
    "    p=0\n",
    "    while i<=ld:\n",
    "        if ld%i==0:\n",
    "            p+=1\n",
    "        if p==2:\n",
    "            c+=1\n",
    "        i+=1\n",
    "    n//=10\n",
    "print(c)"
   ]
  },
  {
   "cell_type": "code",
   "execution_count": null,
   "metadata": {},
   "outputs": [
    {
     "name": "stdout",
     "output_type": "stream",
     "text": [
      "perfect number\n"
     ]
    }
   ],
   "source": [
    "# 19 product of digits in a num is perfect or not\n",
    "n=int(input())\n",
    "p=1\n",
    "while n>0:\n",
    "    ld=n%10\n",
    "    p*=ld\n",
    "    n//=10\n",
    "temp=p\n",
    "s=0\n",
    "i=1\n",
    "while i<p:\n",
    "    if p%i==0:\n",
    "        s+=i\n",
    "    i+=1\n",
    "if s==temp:\n",
    "    print(\" Product of digits in number is perfect number\")\n",
    "else:\n",
    "    print(\"Product of digits in number is not perfect number\")"
   ]
  },
  {
   "cell_type": "code",
   "execution_count": null,
   "metadata": {},
   "outputs": [],
   "source": [
    "# 20 count of digits is strong number or not \n",
    "# if strong check last digit of number is palindrome or not\n",
    "n=int(input())\n",
    "c=0\n",
    "while n>0:\n",
    "    ld=n%10\n",
    "    c+=1\n",
    "    n//=10\n",
    "print(c)\n",
    "temp=c\n",
    "sum=0\n",
    "\n",
    "while c>0:\n",
    "    ld=c%10\n",
    "    i=1\n",
    "    fact=1\n",
    "    while i<=ld:\n",
    "        fact*=i\n",
    "        i+=1\n",
    "    sum+=fact\n",
    "    c//=10\n",
    "if temp==sum:\n",
    "    print(\"Strong num\")\n",
    "    temp2=temp\n",
    "    \n",
    "else:\n",
    "    print(\"Not a strong num\")\n",
    "\n",
    "#  last digit is always palindrome\n"
   ]
  },
  {
   "cell_type": "code",
   "execution_count": 20,
   "metadata": {},
   "outputs": [
    {
     "name": "stdout",
     "output_type": "stream",
     "text": [
      "5\n",
      " sum of prime digits is Prime\n"
     ]
    }
   ],
   "source": [
    "# 21\n",
    "n=int(input())\n",
    "s=0\n",
    "while n>0:\n",
    "    ld=n%10\n",
    "    i=1\n",
    "    p=0\n",
    "    while i<=ld:\n",
    "        if ld%i==0:\n",
    "            p+=1\n",
    "        if p==2:\n",
    "            s+=i\n",
    "        i+=1\n",
    "    n//=10\n",
    "print(s)\n",
    "c=0\n",
    "j=1\n",
    "while j<=s:\n",
    "    if s%j==0:\n",
    "        c+=1\n",
    "    j+=1\n",
    "if c==2:\n",
    "    print(\" sum of prime digits is Prime\")\n",
    "else:\n",
    "    print(\" sum of prime digits is not  Prime\")"
   ]
  },
  {
   "cell_type": "code",
   "execution_count": 22,
   "metadata": {},
   "outputs": [
    {
     "name": "stdout",
     "output_type": "stream",
     "text": [
      "4\n",
      "Count of factors  of a number is palindrome\n"
     ]
    }
   ],
   "source": [
    "# 22 count of factors of num is palindrome or not\n",
    "n=int(input())\n",
    "c=0\n",
    "i=1\n",
    "while i<=n:\n",
    "    if n%i==0:\n",
    "        c+=1\n",
    "    i+=1\n",
    "print(c)\n",
    "temp=c\n",
    "rev=0\n",
    "while c>0:\n",
    "    lt=c%10\n",
    "    rev= rev*10+lt\n",
    "    c//=10\n",
    "if temp==rev:\n",
    "    print(\"Count of factors  of a number is palindrome\")\n",
    "else:\n",
    "    print(\"Count of factors of a number is not a palindrome\")\n"
   ]
  },
  {
   "cell_type": "code",
   "execution_count": 28,
   "metadata": {},
   "outputs": [
    {
     "name": "stdout",
     "output_type": "stream",
     "text": [
      "last digit is: 3\n",
      "Factorial of last digit: 6\n",
      " factorial of last digit is not  Prime\n"
     ]
    }
   ],
   "source": [
    "# 23 factorial of last digit is prime or not\n",
    "n=int(input())\n",
    "while n>0:\n",
    "    ld=n%10\n",
    "    n//=10\n",
    "    break\n",
    "print(\"last digit is:\",ld)\n",
    "i=1\n",
    "fact=1\n",
    "while i<=ld:\n",
    "    fact=fact*i\n",
    "    i+=1\n",
    "print(\"Factorial of last digit:\",fact)\n",
    "c=0\n",
    "j=1\n",
    "while j<=fact:\n",
    "    if fact%j==0:\n",
    "        c+=1\n",
    "    j+=1\n",
    "if c==2:\n",
    "    print(\"  factorial of last digit is Prime\")\n",
    "else:\n",
    "    print(\" factorial of last digit is not  Prime\")\n"
   ]
  },
  {
   "cell_type": "code",
   "execution_count": null,
   "metadata": {},
   "outputs": [],
   "source": [
    "# 24 -->Twisted prime or not  -> number and its reverse both are prime\n",
    "n=int(input())\n",
    "temp=n\n",
    "sum=0\n",
    "while n>0:\n",
    "    ld=n%10\n",
    "    sum= sum*10+ld\n",
    "    n//=10\n",
    "i=1\n",
    "co=0\n",
    "while i<=temp:\n",
    "    if temp%i==0:\n",
    "        co+=1\n",
    "    i+=1\n",
    "j=1\n",
    "cn=0\n",
    "while j<=sum:\n",
    "    if sum%j==0:\n",
    "        cn+=1\n",
    "    j+=1\n",
    "\n",
    "if co==2 and cn==2:\n",
    "    print(\"Twisted prime number\")\n",
    "else:\n",
    "    print(\"Not a twisted prime number\")"
   ]
  },
  {
   "cell_type": "code",
   "execution_count": 30,
   "metadata": {},
   "outputs": [
    {
     "name": "stdout",
     "output_type": "stream",
     "text": [
      "4\n",
      "Armstrong\n"
     ]
    }
   ],
   "source": [
    "# 25  sum of odd digits is armstrong or not\n",
    "n=int(input())\n",
    "sum=0\n",
    "while n>0:\n",
    "    ld=n%10\n",
    "    if ld%2!=0:\n",
    "        sum+=ld\n",
    "    n//=10\n",
    "print(sum)\n",
    "\n",
    "temp=sum\n",
    "temp2=sum\n",
    "s=0\n",
    "d=0\n",
    "while sum!=0:\n",
    "    d=d+1\n",
    "    sum//=10\n",
    "while temp>0:\n",
    "    ld=temp%10\n",
    "    s=s+(ld**d)\n",
    "    temp//=10\n",
    "if temp2==s:\n",
    "    print(\"Armstrong\")\n",
    "else:\n",
    "    print(\"Not a Armstrong\")"
   ]
  },
  {
   "cell_type": "code",
   "execution_count": null,
   "metadata": {},
   "outputs": [
    {
     "name": "stdout",
     "output_type": "stream",
     "text": [
      "Duck number\n"
     ]
    }
   ],
   "source": [
    "# 26 -->Duck number  --> if  zeroes  present in a number\n",
    "n=int(input())\n",
    "flag=False\n",
    "while n>0:\n",
    "    ld=n%10\n",
    "    if ld==0:\n",
    "        flag=True\n",
    "    n//=10\n",
    "if flag:\n",
    "    print(\"Duck number\")\n",
    "else:\n",
    "    print(\"Not a duck number\")\n",
    "\n",
    "\n"
   ]
  },
  {
   "cell_type": "code",
   "execution_count": null,
   "metadata": {},
   "outputs": [
    {
     "name": "stdout",
     "output_type": "stream",
     "text": [
      "Harshad number\n"
     ]
    }
   ],
   "source": [
    "# 27 Harshad Number    -->sum of digits of  num divide the  number\n",
    "n=int(input())\n",
    "temp=n\n",
    "sum=0\n",
    "while n>0:\n",
    "    ld=n%10\n",
    "    sum+=ld\n",
    "    n//=10\n",
    "if temp%sum==0:\n",
    "    print(\"Harshad number\")\n",
    "else:\n",
    "    print(\"Not a Harshad number\")\n"
   ]
  },
  {
   "cell_type": "code",
   "execution_count": null,
   "metadata": {},
   "outputs": [
    {
     "name": "stdout",
     "output_type": "stream",
     "text": [
      "100\n",
      "Happy Number\n"
     ]
    }
   ],
   "source": [
    "# 28  -->Happy number  -->if it results 1 when the sum 0f squares of digits  until it reaches single digit\n",
    "# eg-->49,100\n",
    "n=int(input())\n",
    "print(n)\n",
    "sum=0\n",
    "while n>0:\n",
    "    sum+=(n%10)**2\n",
    "    n//=10\n",
    "    if (sum==1 or sum==4) and n==0:\n",
    "        if sum==1:\n",
    "            print(\"Happy Number\")\n",
    "        else:\n",
    "            print(\"Not a happy number\")\n",
    "    elif n==0:\n",
    "        n=sum\n",
    "        sum=0\n"
   ]
  },
  {
   "cell_type": "code",
   "execution_count": null,
   "metadata": {},
   "outputs": [],
   "source": [
    "# 29 -->number is magic number or not  -->if sum of digits until its length becomes single digit\n",
    "# eg-->2,8,20,28\n",
    "n=int(input())\n",
    "print(n)\n",
    "sum=0\n",
    "while n>0:\n",
    "    sum+=(n%10)\n",
    "    n//=10\n",
    "    if sum<=9 and n==0:\n",
    "        print(sum)\n",
    "    elif n==0:\n",
    "        n=sum\n",
    "        sum=0\n",
    "        \n"
   ]
  },
  {
   "cell_type": "code",
   "execution_count": null,
   "metadata": {},
   "outputs": [],
   "source": [
    "# 30 ->armstrong number\n",
    "n=int(input())\n",
    "temp=n\n",
    "temp2=n\n",
    "s=0\n",
    "d=0\n",
    "while n!=0:\n",
    "    d=d+1\n",
    "    n//=10\n",
    "while temp>0:\n",
    "    ld=temp%10\n",
    "    s=s+(ld**d)\n",
    "    temp//=10\n",
    "if temp2==s:\n",
    "    print(\"Armstrong\")\n",
    "else:\n",
    "    print(\"Not a Armstrong\")"
   ]
  },
  {
   "cell_type": "code",
   "execution_count": 50,
   "metadata": {},
   "outputs": [
    {
     "name": "stdout",
     "output_type": "stream",
     "text": [
      "3\n",
      "5\n",
      "5\n",
      "5\n",
      "7\n",
      "7\n",
      "7\n",
      "7\n",
      "7\n",
      "9\n",
      "11\n",
      "11\n",
      "11\n",
      "11\n",
      "11\n",
      "11\n",
      "11\n",
      "11\n",
      "11\n",
      "13\n",
      "13\n",
      "13\n",
      "13\n",
      "13\n",
      "13\n",
      "13\n",
      "13\n",
      "13\n",
      "13\n",
      "13\n",
      "15\n",
      "17\n",
      "17\n",
      "17\n",
      "17\n",
      "17\n",
      "17\n",
      "17\n",
      "17\n",
      "17\n",
      "17\n",
      "17\n",
      "17\n",
      "17\n",
      "17\n",
      "17\n",
      "19\n",
      "19\n",
      "19\n",
      "19\n",
      "19\n",
      "19\n",
      "19\n",
      "19\n",
      "19\n",
      "19\n",
      "19\n",
      "19\n",
      "19\n",
      "19\n",
      "19\n",
      "19\n",
      "19\n"
     ]
    }
   ],
   "source": [
    "# 31  -->prime numbers b/w m to n\n",
    "m=int(input())\n",
    "n=int(input())\n",
    "while m<=n:\n",
    "    if m>1:\n",
    "        i=2\n",
    "        flag=True\n",
    "        while i<=m:\n",
    "            if m%i==0:\n",
    "                flag=False\n",
    "                break\n",
    "            i+=1\n",
    "            if flag:\n",
    "                print(m)\n",
    "    m+=1\n"
   ]
  },
  {
   "cell_type": "code",
   "execution_count": 15,
   "metadata": {},
   "outputs": [
    {
     "name": "stdout",
     "output_type": "stream",
     "text": [
      "985\n",
      "4\n"
     ]
    }
   ],
   "source": [
    "n=int(input())\n",
    "print(n)\n",
    "sum=0\n",
    "while n>0:\n",
    "    sum+=(n%10)\n",
    "    n//=10\n",
    "    if sum<=9 and n==0:\n",
    "        print(sum)\n",
    "    elif n==0:\n",
    "        n=sum\n",
    "        sum=0"
   ]
  },
  {
   "cell_type": "code",
   "execution_count": 1,
   "metadata": {},
   "outputs": [
    {
     "name": "stdout",
     "output_type": "stream",
     "text": [
      "Automorphic\n"
     ]
    }
   ],
   "source": [
    "n = int(input())\n",
    "sn = n*n\n",
    "temp = n\n",
    "count = 0\n",
    "while n!= 0:\n",
    "    count += 1\n",
    "    n//=10\n",
    "ld = sn % pow(10, count)\n",
    "if temp == ld:\n",
    "    print(\"Automorphic\")\n",
    "else:\n",
    "    print(\"Not Automorphic\")\n"
   ]
  },
  {
   "cell_type": "code",
   "execution_count": 9,
   "metadata": {},
   "outputs": [
    {
     "name": "stdout",
     "output_type": "stream",
     "text": [
      "Xylem Number\n"
     ]
    }
   ],
   "source": [
    "n = int(input())\n",
    "ld = n % 10  \n",
    "n //= 10 \n",
    "sum=0\n",
    "mean = 0\n",
    "while n >= 10:\n",
    "    mean+= n % 10\n",
    "    n //= 10  \n",
    "fd = n \n",
    "sum = fd+ld\n",
    "if sum == mean:\n",
    "    print(\"Xylem Number\")\n",
    "else:\n",
    "    print(\"Not a Xylem Number\")\n"
   ]
  }
 ],
 "metadata": {
  "kernelspec": {
   "display_name": "Python 3",
   "language": "python",
   "name": "python3"
  },
  "language_info": {
   "codemirror_mode": {
    "name": "ipython",
    "version": 3
   },
   "file_extension": ".py",
   "mimetype": "text/x-python",
   "name": "python",
   "nbconvert_exporter": "python",
   "pygments_lexer": "ipython3",
   "version": "3.12.7"
  }
 },
 "nbformat": 4,
 "nbformat_minor": 2
}
