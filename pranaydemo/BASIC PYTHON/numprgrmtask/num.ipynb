{
 "cells": [
  {
   "cell_type": "code",
   "execution_count": null,
   "metadata": {},
   "outputs": [
    {
     "name": "stdout",
     "output_type": "stream",
     "text": [
      "5\n"
     ]
    }
   ],
   "source": [
    "# 1\n",
    "# waptp the summation of last and middle digit in a num is palidrome or not \n",
    "# i/p : 12345\n",
    "# o/p: 8 ==>lastdigit=5 and middledigit=3\n",
    "n=int(input())\n",
    "sum=0\n",
    "temp=n\n",
    "ld=n%10\n",
    "print(ld)\n",
    "count=0\n",
    "while n>0:\n",
    "    count+=1\n",
    "    n//=10\n",
    "if count%2==0: \n",
    "    print('palidrome') \n",
    "else:\n",
    "    i=0\n",
    "          "
   ]
  },
  {
   "cell_type": "code",
   "execution_count": null,
   "metadata": {},
   "outputs": [
    {
     "name": "stdout",
     "output_type": "stream",
     "text": [
      "Product of digits is not a prime\n"
     ]
    }
   ],
   "source": [
    "# 2\n",
    "# waptc the product of digits in a num is a prime num or not \n",
    "# i/p:2\n",
    "# o/p: 2 is a prime num ==>1*2=2\n",
    "\n",
    "n=int(input())\n",
    "p=1\n",
    "while n>0:\n",
    "    ld=n%10\n",
    "    p*=ld\n",
    "    n//=10\n",
    "i=1\n",
    "c=0\n",
    "while i<=p:\n",
    "    if p%i==0:\n",
    "        c+=1\n",
    "    i+=1\n",
    "if c==2:\n",
    "    print(\"Product of digits is prime\")\n",
    "else:\n",
    "    print(\"not a prime\")"
   ]
  },
  {
   "cell_type": "code",
   "execution_count": 1,
   "metadata": {},
   "outputs": [
    {
     "name": "stdout",
     "output_type": "stream",
     "text": [
      "1\n",
      "9\n",
      "5\n",
      "3\n",
      "3\n",
      "1\n"
     ]
    }
   ],
   "source": [
    "# 3\n",
    "# waptp only odd digits from the given num \n",
    "# i/p: 1334591\n",
    "# o/p: 1 3 3 5 9 1 are odd digits \n",
    "n=int(input())\n",
    "while n>0:\n",
    "    ld=n%10\n",
    "    if ld%2!=0:\n",
    "        print(ld)\n",
    "    n//=10"
   ]
  },
  {
   "cell_type": "code",
   "execution_count": 23,
   "metadata": {},
   "outputs": [
    {
     "name": "stdout",
     "output_type": "stream",
     "text": [
      "120\n",
      "120 no\n"
     ]
    }
   ],
   "source": [
    "# 4\n",
    "# waptc factorial of gvn num is perfect num or not \n",
    "# i/p:5\n",
    "# o/p:120==>apply logic of perfect num\n",
    "i=1\n",
    "fact=1\n",
    "sum=0\n",
    "n=int(input())\n",
    "while i<=n:\n",
    "    fact*=i\n",
    "    i+=1\n",
    "print(fact) \n",
    "while i<fact:\n",
    "    if fact%i==0:\n",
    "         sum+=i\n",
    "    i+=1\n",
    "if fact==sum:\n",
    "    print(fact,'perfect')    \n",
    "else:\n",
    "    print(fact,'no')  "
   ]
  },
  {
   "cell_type": "code",
   "execution_count": null,
   "metadata": {},
   "outputs": [
    {
     "name": "stdout",
     "output_type": "stream",
     "text": [
      "15\n",
      "15 is odd\n"
     ]
    }
   ],
   "source": [
    "# 5\n",
    "# waptc the sum of fist 5 numbers is even or not \n",
    "# i/p:1 to 5\n",
    "# o/p: 15 is odd\n",
    "\n",
    "sum=0\n",
    "i=1\n",
    "n=int(input())\n",
    "while i<=n:\n",
    "     sum+=i\n",
    "     i+=1\n",
    "print(sum)\n",
    "if sum%2!=0:\n",
    "      print(sum,\"is odd\")\n",
    "else:\n",
    "     print(\"even\")     "
   ]
  },
  {
   "cell_type": "code",
   "execution_count": 12,
   "metadata": {},
   "outputs": [
    {
     "name": "stdout",
     "output_type": "stream",
     "text": [
      "sum= 8\n",
      "p= 15\n"
     ]
    }
   ],
   "source": [
    "# 6\n",
    "# waptp the sumation and product of each digit in gvn num\n",
    "sum=0\n",
    "p=1\n",
    "n=int(input())\n",
    "while n>0:\n",
    "    ld=n%10\n",
    "    p*=ld\n",
    "    sum+=ld\n",
    "    n//=10\n",
    "print('sum=',sum)\n",
    "print('p=',p)    "
   ]
  },
  {
   "cell_type": "code",
   "execution_count": 21,
   "metadata": {},
   "outputs": [
    {
     "name": "stdout",
     "output_type": "stream",
     "text": [
      "120\n",
      "3\n"
     ]
    }
   ],
   "source": [
    "# 7\n",
    "# waptp the factorial of gvn num and print the summation of each digit of the factorial\n",
    "i=1\n",
    "fact=1\n",
    "n=int(input())\n",
    "while i<=n:\n",
    "    fact*=i\n",
    "    i+=1\n",
    "print(fact)\n",
    "sum=0\n",
    "while fact>0:\n",
    "     ld=fact%10\n",
    "     sum+=ld\n",
    "     fact//=10\n",
    "print(sum)     "
   ]
  },
  {
   "cell_type": "code",
   "execution_count": null,
   "metadata": {},
   "outputs": [
    {
     "name": "stdout",
     "output_type": "stream",
     "text": [
      "1080\n",
      "no\n"
     ]
    }
   ],
   "source": [
    "# 8\n",
    "# waptc the product of each digit in the gvn num is palidrome or not \n",
    "p=1\n",
    "n=int(input())\n",
    "while n>0:\n",
    "    ld=n%10\n",
    "    p*=ld\n",
    "    n//=10\n",
    "print(p) \n",
    "temp=p\n",
    "rev=0\n",
    "while p>0:\n",
    "    lastdgt=p%10\n",
    "    rev=rev*10+lastdgt\n",
    "    p//=10\n",
    "if temp==rev:\n",
    "    print(\"palidrome\")\n",
    "else:\n",
    "    print(\"no\")     "
   ]
  },
  {
   "cell_type": "code",
   "execution_count": 6,
   "metadata": {},
   "outputs": [
    {
     "name": "stdout",
     "output_type": "stream",
     "text": [
      "sum= 15\n",
      "5\n",
      "6\n",
      "no\n"
     ]
    }
   ],
   "source": [
    "# 9\n",
    "# waptc the summation of each digits in a num is spy num or not \n",
    "sum=0\n",
    "n=int(input())\n",
    "while n>0:\n",
    "   ld=n%10\n",
    "   sum+=ld\n",
    "   n//=10\n",
    "print('sum=',sum)\n",
    "add=sum\n",
    "s=0\n",
    "p=1\n",
    "while add>0:\n",
    "    lstd=add%10\n",
    "    s+=lstd\n",
    "    p*=lstd\n",
    "    add//=10\n",
    "print(p)\n",
    "print(s)\n",
    "if p==sum:    \n",
    "  print(\"its a spy\")\n",
    "else:\n",
    "   print(\"no\")  "
   ]
  },
  {
   "cell_type": "code",
   "execution_count": 7,
   "metadata": {},
   "outputs": [
    {
     "name": "stdout",
     "output_type": "stream",
     "text": [
      "c= 3\n",
      "odd\n"
     ]
    }
   ],
   "source": [
    "# 10 \n",
    "# waptc the count of factors of a num is even or odd \n",
    "n=int(input())\n",
    "c=0\n",
    "i=1\n",
    "while i<=n:\n",
    "    if n%i==0:\n",
    "        c+=1\n",
    "    i+=1\n",
    "print('c=',c)\n",
    "if c%2==0:\n",
    "    print(\"even\")  \n",
    "else:\n",
    "    print('odd')          "
   ]
  },
  {
   "cell_type": "code",
   "execution_count": 14,
   "metadata": {},
   "outputs": [
    {
     "name": "stdout",
     "output_type": "stream",
     "text": [
      "strong num\n"
     ]
    }
   ],
   "source": [
    "# 14\n",
    "# waptc the gvn num is strong num or not \n",
    "n=int(input())\n",
    "temp=n\n",
    "sum=0\n",
    "while n>0:\n",
    "    ld=n%10\n",
    "    fact=1\n",
    "    i=1\n",
    "    while i<=ld:\n",
    "        fact*=i\n",
    "        i+=1\n",
    "    sum+=fact\n",
    "    n//=10   \n",
    "if sum==temp:\n",
    "    print(\"strong num\")\n",
    "else:\n",
    "    print('not a strong num')     "
   ]
  },
  {
   "cell_type": "code",
   "execution_count": null,
   "metadata": {},
   "outputs": [
    {
     "name": "stdout",
     "output_type": "stream",
     "text": [
      "4\n",
      "1\n",
      "3\n",
      "Product of first, last and middle digit is  12\n"
     ]
    }
   ],
   "source": [
    "# 15\n",
    "# waptp the product of 1st,last and middle digit of the gvn num \n",
    "n=int(input())\n",
    "st=str(n)\n",
    "ft=st[0]\n",
    "ld=st[len(st)-1]\n",
    "print(ld)\n",
    "print(ft)\n",
    "m=len(st)//2\n",
    "md=st[m]\n",
    "print(md)\n",
    "p=int(ft)*int(ld)*int(md)\n",
    "print(\"Product of first, last and middle digit is \",p)"
   ]
  },
  {
   "cell_type": "code",
   "execution_count": 27,
   "metadata": {},
   "outputs": [
    {
     "name": "stdout",
     "output_type": "stream",
     "text": [
      "count= 3\n",
      "middle digit= 9\n",
      "sum= 9\n",
      "p= 8\n",
      "No\n"
     ]
    }
   ],
   "source": [
    "# 16\n",
    "# waptc the square of the middle digit in a num is spy num or not\n",
    "n=int(input())\n",
    "count=0\n",
    "temp=n\n",
    "while n>0:\n",
    "    count+=1\n",
    "    n//=10\n",
    "print('count=',count) \n",
    "if count%2==0:\n",
    "    print('not possible')  \n",
    "else:\n",
    "    i=0\n",
    "    md=0\n",
    "    while i<=(count//2):\n",
    "      if i==count//2:\n",
    "          md=temp%10\n",
    "      temp//=10\n",
    "      i+=1\n",
    "    print('middle digit=',md)  \n",
    "    sqr=md**2\n",
    "    sum=0\n",
    "    p=1\n",
    "    while sqr>0:\n",
    "       ld=sqr%10\n",
    "       sum+=ld\n",
    "       p*=ld\n",
    "       sqr//=10\n",
    "    print('sum=',sum) \n",
    "    print('p=',p)       \n",
    "    if sum==p:\n",
    "       print('it is a spy number')   \n",
    "    else:\n",
    "       print('No') "
   ]
  },
  {
   "cell_type": "code",
   "execution_count": 17,
   "metadata": {},
   "outputs": [
    {
     "name": "stdout",
     "output_type": "stream",
     "text": [
      "count= 7\n",
      "its a prime num\n"
     ]
    }
   ],
   "source": [
    "# 17\n",
    "# waptc the count of digits of a num is prime or not \n",
    "n=int(input())\n",
    "c=0\n",
    "while n>0:\n",
    "    ld=n%10\n",
    "    c+=1\n",
    "    n//=10\n",
    "print('count=',c)\n",
    "i=1\n",
    "c2=0\n",
    "while i<=c:\n",
    "    if c%i==0:\n",
    "        c2+=1\n",
    "    i+=1\n",
    "if c2==2:\n",
    "    print('its a prime num') \n",
    "else:\n",
    "    print('no')  "
   ]
  },
  {
   "cell_type": "code",
   "execution_count": 3,
   "metadata": {},
   "outputs": [
    {
     "name": "stdout",
     "output_type": "stream",
     "text": [
      "123\n",
      "6\n"
     ]
    }
   ],
   "source": [
    "# waptp sum of the digits of a gvn num until the sum becomes a single digit value\n",
    "num=int(input())\n",
    "print(num)\n",
    "s=0\n",
    "while num>0:\n",
    "    s+=(num%10)\n",
    "    num//=10\n",
    "    if s<=9 and num==0:\n",
    "        print(s)\n",
    "    elif num==0:\n",
    "        num=s\n",
    "        s=0    "
   ]
  },
  {
   "cell_type": "code",
   "execution_count": null,
   "metadata": {},
   "outputs": [
    {
     "name": "stdout",
     "output_type": "stream",
     "text": [
      "1\n",
      "its a magic num\n"
     ]
    }
   ],
   "source": [
    "# 29\n",
    "# waptc the num is a magic num or not \n",
    "sum=0\n",
    "n=int(input())\n",
    "while n>0:\n",
    "    ld=n%10\n",
    "    sum+=ld\n",
    "    n//=10\n",
    "    if sum<=9 and n==0:\n",
    "        print(sum)\n",
    "    elif n==0:\n",
    "        n=sum\n",
    "        sum=0 \n",
    "if sum==1:\n",
    "    print('its a magic num')\n",
    "else:\n",
    "    print('no')               "
   ]
  },
  {
   "cell_type": "code",
   "execution_count": 1,
   "metadata": {},
   "outputs": [
    {
     "name": "stdout",
     "output_type": "stream",
     "text": [
      "45467\n",
      "not a happy num\n"
     ]
    }
   ],
   "source": [
    "# waptc the gvn num is a happy num or not \n",
    "s=0\n",
    "n=int(input())\n",
    "print(n)\n",
    "while n>0:\n",
    "    s+=(n%10)**2\n",
    "    n//=10\n",
    "    if (s==1 or s==4) and n==0:\n",
    "        if s==1:\n",
    "            print('happy num')\n",
    "        else:\n",
    "            print('not a happy num')\n",
    "    elif n==0:\n",
    "        n=s\n",
    "        s=0        "
   ]
  },
  {
   "cell_type": "code",
   "execution_count": null,
   "metadata": {},
   "outputs": [],
   "source": []
  },
  {
   "cell_type": "code",
   "execution_count": 16,
   "metadata": {},
   "outputs": [
    {
     "name": "stdout",
     "output_type": "stream",
     "text": [
      "76\n",
      "5776\n",
      "automorphic num\n"
     ]
    }
   ],
   "source": [
    "# waptc the gvn num is automorphic num or not \n",
    "n=int(input())\n",
    "print(n)\n",
    "temp=n\n",
    "sqr=n**2\n",
    "print(sqr)\n",
    "c=0\n",
    "while n>0:\n",
    "    c+=1\n",
    "    n//=10\n",
    "    ld=sqr%(10**c)\n",
    "if temp==ld:\n",
    "    print(\"automorphic num\")\n",
    "else:\n",
    "    print(\"no\")"
   ]
  },
  {
   "cell_type": "code",
   "execution_count": 3,
   "metadata": {},
   "outputs": [
    {
     "name": "stdout",
     "output_type": "stream",
     "text": [
      "6\n",
      "6\n",
      "xylem num\n"
     ]
    }
   ],
   "source": [
    "# waptcw the gvn num is xylem num or not \n",
    "n=int(input())\n",
    "ld=n%10\n",
    "n//=10\n",
    "mean=0\n",
    "while n>=10:\n",
    "    mean+=n%10\n",
    "    n//=10\n",
    "print(mean)\n",
    "fd=n\n",
    "sum= fd+ld\n",
    "print(sum)\n",
    "if sum==mean:\n",
    "    print('xylem num')   \n",
    "else:\n",
    "    print('no')    "
   ]
  },
  {
   "cell_type": "code",
   "execution_count": 18,
   "metadata": {},
   "outputs": [
    {
     "name": "stdout",
     "output_type": "stream",
     "text": [
      "2\n",
      "4\n",
      "3.0\n"
     ]
    }
   ],
   "source": [
    "# find the average of smallest and larges digit of the given number\n",
    "n=int(input())\n",
    "temp=n\n",
    "s=n\n",
    "while n>0:\n",
    "    ld=n%10\n",
    "    if ld<s:\n",
    "        s=ld\n",
    "    n//=10\n",
    "print(s) \n",
    "l=0\n",
    "while temp>0:\n",
    "    ld=temp%10\n",
    "    if ld>l:\n",
    "        l=ld\n",
    "    temp//=10\n",
    "print(l) \n",
    "avg=(s+l)/2\n",
    "print(avg)       "
   ]
  },
  {
   "cell_type": "code",
   "execution_count": 19,
   "metadata": {},
   "outputs": [
    {
     "name": "stdout",
     "output_type": "stream",
     "text": [
      "12\n"
     ]
    }
   ],
   "source": [
    "# waptp the lcm of given 2 numbers\n",
    "x=int(input())\n",
    "y=int(input())\n",
    "lcm=0\n",
    "if x>y:\n",
    "    g=x\n",
    "else:\n",
    "    g=y\n",
    "i=1    \n",
    "while i<=g**g:\n",
    "   if i%x==0 and i%y==0:\n",
    "       lcm=i\n",
    "       break\n",
    "   i+=1\n",
    "print(lcm)"
   ]
  }
 ],
 "metadata": {
  "kernelspec": {
   "display_name": "Python 3",
   "language": "python",
   "name": "python3"
  },
  "language_info": {
   "codemirror_mode": {
    "name": "ipython",
    "version": 3
   },
   "file_extension": ".py",
   "mimetype": "text/x-python",
   "name": "python",
   "nbconvert_exporter": "python",
   "pygments_lexer": "ipython3",
   "version": "3.13.1"
  }
 },
 "nbformat": 4,
 "nbformat_minor": 2
}
