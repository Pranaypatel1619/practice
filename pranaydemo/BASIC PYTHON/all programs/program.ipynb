{
 "cells": [
  {
   "cell_type": "code",
   "execution_count": null,
   "metadata": {},
   "outputs": [
    {
     "name": "stdout",
     "output_type": "stream",
     "text": [
      "15\n"
     ]
    }
   ],
   "source": [
    "# 1)Python Program to find Sum of Natural Numbers\n",
    "\n",
    "n=int(input())\n",
    "sum=0\n",
    "for i in range(n+1):\n",
    "    sum+=i\n",
    "print(sum)    "
   ]
  },
  {
   "cell_type": "code",
   "execution_count": null,
   "metadata": {},
   "outputs": [
    {
     "name": "stdout",
     "output_type": "stream",
     "text": [
      "6\n"
     ]
    }
   ],
   "source": [
    "# 2)Python Program to find Sum of Even Numbers\n",
    "n=int(input())\n",
    "sum=0\n",
    "for i in range(n+1):\n",
    "    if i%2==0:\n",
    "        sum+=i\n",
    "print(sum)  "
   ]
  },
  {
   "cell_type": "code",
   "execution_count": null,
   "metadata": {},
   "outputs": [
    {
     "name": "stdout",
     "output_type": "stream",
     "text": [
      "10\n",
      "2.0\n"
     ]
    }
   ],
   "source": [
    "# 3)Python example to find Sum and Average of Natural Numbers\n",
    "n=int(input())\n",
    "sum=0\n",
    "avg=0\n",
    "for i in range(n+1):\n",
    "    sum+=i\n",
    "avg=sum/n    \n",
    "print(sum) \n",
    "print(avg) "
   ]
  },
  {
   "cell_type": "code",
   "execution_count": 10,
   "metadata": {},
   "outputs": [
    {
     "name": "stdout",
     "output_type": "stream",
     "text": [
      "4\n"
     ]
    }
   ],
   "source": [
    "# 4)Python example to find Sum of Odd Numbers\n",
    "n=int(input())\n",
    "sum=0\n",
    "for i in range(n+1):\n",
    "    if i%2!=0:\n",
    "        sum+=i\n",
    "print(sum)  "
   ]
  },
  {
   "cell_type": "code",
   "execution_count": 11,
   "metadata": {},
   "outputs": [
    {
     "name": "stdout",
     "output_type": "stream",
     "text": [
      "6\n",
      "9\n"
     ]
    }
   ],
   "source": [
    "# 5)Python example to find sum of Even and Odd Numbers\n",
    "n=int(input())\n",
    "even=0\n",
    "odd=0\n",
    "for i in range(n+1):\n",
    "    if i%2!=0:\n",
    "        odd+=i\n",
    "    else:\n",
    "        even+=i    \n",
    "print(even) \n",
    "print(odd)"
   ]
  },
  {
   "cell_type": "code",
   "execution_count": null,
   "metadata": {},
   "outputs": [
    {
     "name": "stdout",
     "output_type": "stream",
     "text": [
      "112\n"
     ]
    }
   ],
   "source": [
    "# 1)Python example for ASCII Value of a Single Character\n",
    "character=input()\n",
    "ascival=ord(character)\n",
    "print(ascival)"
   ]
  },
  {
   "cell_type": "code",
   "execution_count": 2,
   "metadata": {},
   "outputs": [
    {
     "name": "stdout",
     "output_type": "stream",
     "text": [
      "112\n",
      "114\n",
      "97\n",
      "110\n",
      "97\n",
      "121\n"
     ]
    }
   ],
   "source": [
    "# 2)Python program to print ASCII Value of Total Characters in a String\n",
    "s=input()\n",
    "for i in s:\n",
    "    print (ord(i))"
   ]
  },
  {
   "cell_type": "code",
   "execution_count": 6,
   "metadata": {},
   "outputs": [
    {
     "name": "stdout",
     "output_type": "stream",
     "text": [
      "pranaypatel\n"
     ]
    }
   ],
   "source": [
    "# 3)Python program to Concatenate Strings\n",
    "s1=input()\n",
    "s2=input()\n",
    "add=s1+s2\n",
    "print(add)"
   ]
  },
  {
   "cell_type": "code",
   "execution_count": 16,
   "metadata": {},
   "outputs": [
    {
     "name": "stdout",
     "output_type": "stream",
     "text": [
      "PRANAY\n"
     ]
    }
   ],
   "source": [
    "# 4)Python program to Convert String to Uppercase\n",
    "\n",
    "# using upper method\n",
    "# string = input(\"Enter a string: \")\n",
    "# uppercase_string = string.upper()\n",
    "# print(uppercase_string)\n",
    "\n",
    "# without using method \n",
    "string = input(\"Enter a string: \")\n",
    "uppercase_string=\"\"\n",
    "for char in string:\n",
    "    if 'a'<= char <='z':\n",
    "        uppercase_string+=chr(ord(char)-32)\n",
    "    else:\n",
    "        uppercase_string += char\n",
    "print(uppercase_string)        \n"
   ]
  },
  {
   "cell_type": "code",
   "execution_count": 20,
   "metadata": {},
   "outputs": [
    {
     "name": "stdout",
     "output_type": "stream",
     "text": [
      "pranay\n"
     ]
    }
   ],
   "source": [
    "# 5)Python program to Convert String to Lowercase\n",
    "string = input(\"Enter a string: \")\n",
    "lowercase_string=\"\"\n",
    "for char in string:\n",
    "    if 'A'<= char <='Z':\n",
    "        lowercase_string+=chr(ord(char)+32)\n",
    "    else:\n",
    "        lowercase_string += char\n",
    "print(lowercase_string) "
   ]
  },
  {
   "cell_type": "code",
   "execution_count": 21,
   "metadata": {},
   "outputs": [
    {
     "name": "stdout",
     "output_type": "stream",
     "text": [
      "pranay\n"
     ]
    }
   ],
   "source": [
    "# 6)Python program to Copy a String\n",
    "s=input()\n",
    "copiedstring=s\n",
    "print(s)"
   ]
  },
  {
   "cell_type": "code",
   "execution_count": null,
   "metadata": {},
   "outputs": [],
   "source": [
    "# 7)Python program to Count Occurrence of a Character in a String\n"
   ]
  },
  {
   "cell_type": "code",
   "execution_count": 25,
   "metadata": {},
   "outputs": [
    {
     "name": "stdout",
     "output_type": "stream",
     "text": [
      "11\n"
     ]
    }
   ],
   "source": [
    "# 8)Python program to Count Total Characters in a String\n",
    "s=input()\n",
    "c=0\n",
    "for i in s:\n",
    "    c+=1\n",
    "print(c)    "
   ]
  },
  {
   "cell_type": "code",
   "execution_count": 34,
   "metadata": {},
   "outputs": [
    {
     "name": "stdout",
     "output_type": "stream",
     "text": [
      "4\n"
     ]
    }
   ],
   "source": [
    "# 9)Python program to Count Total Number of Words in a String\n",
    "string = input(\"Enter a string: \")\n",
    "word_count = 0\n",
    "in_word = False\n",
    "for char in string:\n",
    "    # Check if the character is not a space (indicating a word character)\n",
    "    if char != ' ':\n",
    "        # If we're not already in a word, we found a new word\n",
    "        if not in_word:\n",
    "            word_count += 1\n",
    "            in_word = True\n",
    "    else:\n",
    "        # If it's a space, we're no longer in a word\n",
    "        in_word = False\n",
    "print(word_count)\n"
   ]
  },
  {
   "cell_type": "code",
   "execution_count": 3,
   "metadata": {},
   "outputs": [
    {
     "name": "stdout",
     "output_type": "stream",
     "text": [
      "2\n"
     ]
    }
   ],
   "source": [
    "# 10)Python program to Count Vowels in a String\n",
    "n=input()\n",
    "c=0\n",
    "for i in n:\n",
    "    if (i in \"aeiouAEIOU\"):\n",
    "        c+=1\n",
    "print(c)        \n"
   ]
  },
  {
   "cell_type": "code",
   "execution_count": 7,
   "metadata": {},
   "outputs": [
    {
     "name": "stdout",
     "output_type": "stream",
     "text": [
      "vowels count is 2\n",
      "Consonants count is 4\n"
     ]
    }
   ],
   "source": [
    "# 11)Python program to Count Vowels and Consonants in a String\n",
    "n=input()\n",
    "c1=0\n",
    "c2=0\n",
    "for i in n:\n",
    "    if (i in \"aeiouAEIOU\"):\n",
    "        c1+=1\n",
    "    elif i.isalpha() and (i not in \"aeiouAEIOU\"): #isalpha() is used to not collect the spaces and digits etc...\n",
    "        c2+=1\n",
    "print(\"vowels count is\",c1)       \n",
    "print(\"Consonants count is\",c2) "
   ]
  }
 ],
 "metadata": {
  "kernelspec": {
   "display_name": "Python 3",
   "language": "python",
   "name": "python3"
  },
  "language_info": {
   "codemirror_mode": {
    "name": "ipython",
    "version": 3
   },
   "file_extension": ".py",
   "mimetype": "text/x-python",
   "name": "python",
   "nbconvert_exporter": "python",
   "pygments_lexer": "ipython3",
   "version": "3.13.1"
  }
 },
 "nbformat": 4,
 "nbformat_minor": 2
}
