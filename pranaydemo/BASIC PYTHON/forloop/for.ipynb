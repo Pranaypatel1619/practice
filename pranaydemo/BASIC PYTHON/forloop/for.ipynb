{
 "cells": [
  {
   "cell_type": "code",
   "execution_count": 1,
   "metadata": {},
   "outputs": [
    {
     "name": "stdout",
     "output_type": "stream",
     "text": [
      "range(0, 10)\n"
     ]
    }
   ],
   "source": [
    "a=range(10)\n",
    "print(a)"
   ]
  },
  {
   "cell_type": "code",
   "execution_count": 3,
   "metadata": {},
   "outputs": [
    {
     "name": "stdout",
     "output_type": "stream",
     "text": [
      "range(2, 10)\n"
     ]
    }
   ],
   "source": [
    "a=range(2,10)\n",
    "print(a)"
   ]
  },
  {
   "cell_type": "code",
   "execution_count": 5,
   "metadata": {},
   "outputs": [
    {
     "name": "stdout",
     "output_type": "stream",
     "text": [
      "[2, 4, 6, 8, 10, 12, 14, 16, 18]\n"
     ]
    }
   ],
   "source": [
    "a=range(2,20,2)\n",
    "print(list(a))"
   ]
  },
  {
   "cell_type": "code",
   "execution_count": 6,
   "metadata": {},
   "outputs": [
    {
     "name": "stdout",
     "output_type": "stream",
     "text": [
      "p\n",
      "y\n",
      "t\n",
      "h\n",
      "o\n",
      "n\n"
     ]
    }
   ],
   "source": [
    "s='python'\n",
    "for i in s:\n",
    "    print(i)"
   ]
  },
  {
   "cell_type": "code",
   "execution_count": 12,
   "metadata": {},
   "outputs": [
    {
     "name": "stdout",
     "output_type": "stream",
     "text": [
      "a\n",
      "b\n",
      "c\n"
     ]
    }
   ],
   "source": [
    "t='a','b','c'\n",
    "for i in t:\n",
    "    print(i)"
   ]
  },
  {
   "cell_type": "code",
   "execution_count": 13,
   "metadata": {},
   "outputs": [
    {
     "name": "stdout",
     "output_type": "stream",
     "text": [
      "1\n",
      "2\n",
      "3\n",
      "2\n"
     ]
    }
   ],
   "source": [
    "l=[1,2,3,2]\n",
    "for i in l:\n",
    "    print(i)"
   ]
  },
  {
   "cell_type": "code",
   "execution_count": 14,
   "metadata": {},
   "outputs": [
    {
     "name": "stdout",
     "output_type": "stream",
     "text": [
      "a\n",
      "c\n",
      "b\n"
     ]
    }
   ],
   "source": [
    "s={'a','b','c'}\n",
    "for i in s:\n",
    "    print(i)"
   ]
  },
  {
   "cell_type": "code",
   "execution_count": 21,
   "metadata": {},
   "outputs": [
    {
     "name": "stdout",
     "output_type": "stream",
     "text": [
      "{'name': 'aaa', 'id': '123'}\n",
      "{'name': 'aaa', 'id': '123'}\n"
     ]
    }
   ],
   "source": [
    "d={'name':\"aaa\",\n",
    "   'id':'123'\n",
    "   }\n",
    "for i in d:\n",
    "    print(d)"
   ]
  },
  {
   "cell_type": "code",
   "execution_count": null,
   "metadata": {},
   "outputs": [],
   "source": [
    "# STRING PROGRAMING QUESTIONS"
   ]
  },
  {
   "cell_type": "code",
   "execution_count": 27,
   "metadata": {},
   "outputs": [
    {
     "name": "stdout",
     "output_type": "stream",
     "text": [
      "a\n",
      "a\n",
      "e\n",
      "a\n"
     ]
    }
   ],
   "source": [
    "# 1\n",
    "# waptp vowels in a given string \n",
    "s=input()\n",
    "for i in s:\n",
    "    if i in 'aeiouAEIOU':\n",
    "       print(i)"
   ]
  },
  {
   "cell_type": "code",
   "execution_count": 31,
   "metadata": {},
   "outputs": [
    {
     "name": "stdout",
     "output_type": "stream",
     "text": [
      "p\n",
      "r\n",
      "n\n",
      "y\n",
      "s\n",
      "n\n",
      "h\n"
     ]
    }
   ],
   "source": [
    "# 2\n",
    "# waptp consonents of a given string \n",
    "s=input()\n",
    "for i in s:\n",
    "    if (i not in 'aeiouAEIOU'):\n",
    "        print(i)"
   ]
  },
  {
   "cell_type": "code",
   "execution_count": 38,
   "metadata": {},
   "outputs": [
    {
     "name": "stdout",
     "output_type": "stream",
     "text": [
      "p\n",
      "a\n",
      "n\n",
      "a\n"
     ]
    }
   ],
   "source": [
    "# 3\n",
    "# waptp chars b/w a and p in a given sting \n",
    "s=input()\n",
    "for i in s:\n",
    "    if 'a'<=i<='p':\n",
    "        print(i)\n",
    "    #    OR \n",
    "# s=input()\n",
    "# for i in s:\n",
    "#     if i>='a' and i<='p':\n",
    "#         print(i)"
   ]
  },
  {
   "cell_type": "code",
   "execution_count": 44,
   "metadata": {},
   "outputs": [
    {
     "name": "stdout",
     "output_type": "stream",
     "text": [
      "a\n",
      "b\n",
      "c\n",
      "Z\n",
      "Z\n",
      "x\n"
     ]
    }
   ],
   "source": [
    "# 5\n",
    "# waptp chars whose ascii values are greater than 71\n",
    "s=input()\n",
    "for i in s:\n",
    "    if ord(i)>71:\n",
    "        print(i)"
   ]
  },
  {
   "cell_type": "code",
   "execution_count": null,
   "metadata": {},
   "outputs": [
    {
     "name": "stdout",
     "output_type": "stream",
     "text": [
      "N\n",
      "A\n",
      "Y\n"
     ]
    }
   ],
   "source": [
    "# 6\n",
    "# waptp upper case alphabets in a given string \n",
    "s=input()\n",
    "for i in s:\n",
    "    if 'A'<=i<='Z':\n",
    "        print(i)\n",
    "        # OR\n",
    "# s=input()\n",
    "# for i in s:\n",
    "#     if ord(i)>=65 and ord(i)<=90:\n",
    "#         print(i)       "
   ]
  },
  {
   "cell_type": "code",
   "execution_count": 53,
   "metadata": {},
   "outputs": [
    {
     "name": "stdout",
     "output_type": "stream",
     "text": [
      "@\n",
      "!\n",
      "#\n",
      "&\n"
     ]
    }
   ],
   "source": [
    "# 7\n",
    "# waptp special chrs in a gvn string \n",
    "s = input()\n",
    "for i in s:\n",
    "    if not ('A' <= i <= 'Z' or 'a' <= i <= 'z' or '0' <= i <='9'):\n",
    "        print(i)"
   ]
  },
  {
   "cell_type": "code",
   "execution_count": 58,
   "metadata": {},
   "outputs": [
    {
     "name": "stdout",
     "output_type": "stream",
     "text": [
      "P\n",
      "R\n",
      "N\n",
      "Y\n"
     ]
    }
   ],
   "source": [
    "# 8\n",
    "# waptp uppercase consonants in a given string \n",
    "s = input()\n",
    "for i in s:\n",
    "    if 'A' <= i <= 'Z' and i not in 'AEIOU':\n",
    "        print(i)"
   ]
  },
  {
   "cell_type": "code",
   "execution_count": 60,
   "metadata": {},
   "outputs": [
    {
     "name": "stdout",
     "output_type": "stream",
     "text": [
      "1\n",
      "2\n",
      "3\n",
      "!\n",
      "@\n",
      "#\n",
      "+\n"
     ]
    }
   ],
   "source": [
    "# 9\n",
    "# waptp digits or special chars in a gvn string \n",
    "s=input()\n",
    "for i in s:\n",
    "    if not('A' <= i <= 'Z' or 'a' <= i <= 'z'):\n",
    "        print(i)"
   ]
  },
  {
   "cell_type": "code",
   "execution_count": null,
   "metadata": {},
   "outputs": [],
   "source": [
    "# STORING THE VALUES "
   ]
  },
  {
   "cell_type": "code",
   "execution_count": 72,
   "metadata": {},
   "outputs": [
    {
     "name": "stdout",
     "output_type": "stream",
     "text": [
      "pranay\n"
     ]
    }
   ],
   "source": [
    "# 1\n",
    "# wptp store & print chars in a gvn string \n",
    "s=input()\n",
    "store=''\n",
    "for i in s:\n",
    "    store+=i  \n",
    "print(store)  \n",
    "  "
   ]
  },
  {
   "cell_type": "code",
   "execution_count": 74,
   "metadata": {},
   "outputs": [
    {
     "name": "stdout",
     "output_type": "stream",
     "text": [
      "yanarp\n"
     ]
    }
   ],
   "source": [
    "# 2\n",
    "# waptp revesre of a string \n",
    "s=input()\n",
    "rev=''\n",
    "for i in s:\n",
    "    rev=i+rev \n",
    "print(rev)  "
   ]
  },
  {
   "cell_type": "code",
   "execution_count": 78,
   "metadata": {},
   "outputs": [
    {
     "name": "stdout",
     "output_type": "stream",
     "text": [
      "store= malayalam rev= malayalam\n",
      "polydrome\n"
     ]
    }
   ],
   "source": [
    "# 3 \n",
    "# gvn string is polydrome or not\n",
    "s=input()\n",
    "store=''\n",
    "rev=''\n",
    "for i in s:\n",
    "    store=store+i\n",
    "    rev=i+rev\n",
    "print('store=',store,'rev=',rev)   \n",
    "if store==rev:\n",
    "    print('polydrome') \n",
    "else:\n",
    "    print('no')"
   ]
  },
  {
   "cell_type": "code",
   "execution_count": 80,
   "metadata": {},
   "outputs": [
    {
     "name": "stdout",
     "output_type": "stream",
     "text": [
      "PRA\n",
      "nay\n",
      "1619\n",
      "#$$$\n"
     ]
    }
   ],
   "source": [
    "# 4\n",
    "# wapt store & print uppercase alphabets,lowercase,digits and special chrs in gvn str \n",
    "s=input()\n",
    "st1=''\n",
    "st2=''\n",
    "st3=''\n",
    "st4=''\n",
    "for i in s:\n",
    "    if 'A'<=i<='Z':\n",
    "        st1+=i\n",
    "    elif 'a'<=i<='z':\n",
    "        st2+=i\n",
    "    elif '0'<=i<='9':\n",
    "        st3+=i\n",
    "    else:\n",
    "        st4+=i\n",
    "print(st1)  \n",
    "print(st2)  \n",
    "print(st3)  \n",
    "print(st4)        \n"
   ]
  },
  {
   "cell_type": "code",
   "execution_count": 81,
   "metadata": {},
   "outputs": [
    {
     "name": "stdout",
     "output_type": "stream",
     "text": [
      "prany\n"
     ]
    }
   ],
   "source": [
    "# 5\n",
    "# wapt remove the duplicate chars from gvn string \n",
    "s=input()\n",
    "store=''\n",
    "for i in s:\n",
    "    if i not in store:\n",
    "        store+=i\n",
    "print(store)"
   ]
  },
  {
   "cell_type": "code",
   "execution_count": 87,
   "metadata": {},
   "outputs": [
    {
     "name": "stdout",
     "output_type": "stream",
     "text": [
      "-pranay\n"
     ]
    }
   ],
   "source": [
    "# 6\n",
    "# wapt replace the gvn character with an hypen from a gvn string \n",
    "s=input()\n",
    "p=input()\n",
    "store=''\n",
    "for i in s:\n",
    "     if i==p:\n",
    "          store+='-'\n",
    "     else:\n",
    "          store+=i\n",
    "print(store)"
   ]
  },
  {
   "cell_type": "code",
   "execution_count": 92,
   "metadata": {},
   "outputs": [
    {
     "name": "stdout",
     "output_type": "stream",
     "text": [
      "S\n",
      "P\n",
      "s\n",
      "p\n"
     ]
    }
   ],
   "source": [
    "# 7\n",
    "# waptp the consonets in a gvn string \n",
    "s=input()\n",
    "for i in s:\n",
    "    if 'a'<=i<='z' or 'A'<=i<='Z':\n",
    "        if i not in 'AEIOUaeiou':\n",
    "            print(i)"
   ]
  },
  {
   "cell_type": "code",
   "execution_count": null,
   "metadata": {},
   "outputs": [],
   "source": [
    "# INSEX PROBLEMS"
   ]
  },
  {
   "cell_type": "code",
   "execution_count": 3,
   "metadata": {},
   "outputs": [
    {
     "name": "stdout",
     "output_type": "stream",
     "text": [
      "rny\n"
     ]
    }
   ],
   "source": [
    "# 1\n",
    "# wapt store & print odd indexed chars from gvn string \n",
    "s=input()\n",
    "store=''\n",
    "for i in range(len(s)):\n",
    "    if i%2!=0:\n",
    "        store+=s[i]\n",
    "print(store)        "
   ]
  },
  {
   "cell_type": "code",
   "execution_count": null,
   "metadata": {},
   "outputs": [],
   "source": []
  },
  {
   "cell_type": "code",
   "execution_count": 9,
   "metadata": {},
   "outputs": [
    {
     "name": "stdout",
     "output_type": "stream",
     "text": [
      "!\n",
      "#\n",
      "%\n"
     ]
    }
   ],
   "source": [
    "# 2\n",
    "# waptp even index special chrs from a gvn string \n",
    "s=input()\n",
    "store=''\n",
    "for i in range(len(s)):\n",
    "    if i%2==0:\n",
    "            if not('a'<=s[i]<='z' or 'A'<=s[i]<='Z' or '0'<=s[i]<='9'):\n",
    "                  print(s[i])  "
   ]
  },
  {
   "cell_type": "code",
   "execution_count": null,
   "metadata": {},
   "outputs": [
    {
     "name": "stdout",
     "output_type": "stream",
     "text": [
      "A\n"
     ]
    }
   ],
   "source": [
    "# 3\n",
    "# waptp 3 mutliple index upper case alphabets (or) odd digits in a gvn string \n",
    "# s = input()\n",
    "# for i in range(len(s)):\n",
    "#     if i % 3 == 0:  # Check if the index is a multiple of 3\n",
    "#         if 'A' <= s[i] <= 'Z' or ('0' <= s[i] <= '9' and int(s[i]) % 2 != 0):\n",
    "#             print(s[i])"
   ]
  },
  {
   "cell_type": "code",
   "execution_count": null,
   "metadata": {},
   "outputs": [],
   "source": [
    "# FLAGE PROBLEMS "
   ]
  },
  {
   "cell_type": "code",
   "execution_count": 20,
   "metadata": {},
   "outputs": [
    {
     "name": "stdout",
     "output_type": "stream",
     "text": [
      "yes\n"
     ]
    }
   ],
   "source": [
    "# 1\n",
    "# waptc whether the gvn string is lower case or not \n",
    "s=input()\n",
    "flag=True\n",
    "for i in s:\n",
    "    if ('A'<=i<='Z'):\n",
    "        flag=False\n",
    "if flag:\n",
    "    print('yes')\n",
    "else:\n",
    "    print('no')\n"
   ]
  },
  {
   "cell_type": "code",
   "execution_count": 23,
   "metadata": {},
   "outputs": [
    {
     "name": "stdout",
     "output_type": "stream",
     "text": [
      "pqr\n"
     ]
    }
   ],
   "source": [
    "# 2\n",
    "# waptp \n",
    "# i/p='abc{pqr}xyz'\n",
    "# o/p='pqr'\n",
    "\n",
    "s=input()\n",
    "flag=False\n",
    "store=''\n",
    "for i in s:\n",
    "    if i in '{[(':\n",
    "        flag=True\n",
    "    elif i in '}])':\n",
    "        flag=False\n",
    "    elif flag:\n",
    "        store+=i\n",
    "print(store)        \n",
    "    "
   ]
  },
  {
   "cell_type": "code",
   "execution_count": 3,
   "metadata": {},
   "outputs": [
    {
     "name": "stdout",
     "output_type": "stream",
     "text": [
      "abcxyz\n"
     ]
    }
   ],
   "source": [
    "# waptp \n",
    "# i/p='abc{pqr}xyz'\n",
    "# o/p=abcxyz\n",
    "\n",
    "s=input()\n",
    "flag=True\n",
    "store=''\n",
    "for i in s:\n",
    "    if i in '{[(':\n",
    "        flag=False\n",
    "    elif i in '}])':\n",
    "        flag=True\n",
    "    elif flag:\n",
    "        store+=i\n",
    "print(store)        "
   ]
  },
  {
   "cell_type": "code",
   "execution_count": 24,
   "metadata": {},
   "outputs": [
    {
     "name": "stdout",
     "output_type": "stream",
     "text": [
      "a 4\n"
     ]
    }
   ],
   "source": [
    "# 3\n",
    "# waptp maximum occuring character from a given string \n",
    "s='malayalam'\n",
    "max_chr=s[0]\n",
    "max_count=0\n",
    "for i in s:\n",
    "    ch=i\n",
    "    count=0\n",
    "    for j in s:\n",
    "        if j==ch:\n",
    "            count+=1\n",
    "    if count > max_count:\n",
    "        max_count=count\n",
    "        max_chr=ch\n",
    "print(max_chr,max_count)                "
   ]
  },
  {
   "cell_type": "code",
   "execution_count": 29,
   "metadata": {},
   "outputs": [
    {
     "name": "stdout",
     "output_type": "stream",
     "text": [
      "4\n"
     ]
    }
   ],
   "source": [
    "# 4\n",
    "# waptc number of words in a given string \n",
    "s=input()\n",
    "c=0\n",
    "flag=False\n",
    "for i in s:\n",
    "    if i==' ':\n",
    "        flag=False\n",
    "    elif not flag:\n",
    "            c+=1 \n",
    "            flag=True\n",
    "print(c)    "
   ]
  },
  {
   "cell_type": "code",
   "execution_count": null,
   "metadata": {},
   "outputs": [],
   "source": [
    "# SUB STRINGS "
   ]
  },
  {
   "cell_type": "code",
   "execution_count": 2,
   "metadata": {},
   "outputs": [
    {
     "name": "stdout",
     "output_type": "stream",
     "text": [
      "a\n",
      "ab\n",
      "abc\n",
      "abcd\n",
      "b\n",
      "bc\n",
      "bcd\n",
      "c\n",
      "cd\n",
      "d\n"
     ]
    }
   ],
   "source": [
    "# 1\n",
    "s=input()\n",
    "for i in range(len(s)):\n",
    "    for j in range(i,len(s)):\n",
    "        print(s[i:j+1])"
   ]
  },
  {
   "cell_type": "code",
   "execution_count": 4,
   "metadata": {},
   "outputs": [],
   "source": [
    "# 2\n",
    "# waptp k length substrings from a given string \n",
    "k=int(input())\n",
    "s=input()\n",
    "for i in range(len(s)):\n",
    "    for j in range(i,len(s)):\n",
    "        if (s[i:j+1])==k:\n",
    "            print(s[i:j+1])"
   ]
  },
  {
   "cell_type": "code",
   "execution_count": 16,
   "metadata": {},
   "outputs": [],
   "source": [
    "# 3\n",
    "# waptp palidromic substrings in a given string \n",
    "# s=input()\n",
    "# store=''\n",
    "# for i in range(len(s)):\n",
    "#     for j in range(i,len(s)):\n",
    "#         for k in s[i:j+1]:\n",
    "#             store=k+store\n",
    "#         if store==s[i:j+1]:\n",
    "#             print(s[i:j+1],'palidromic strings')\n",
    "\n",
    "# s = input()\n",
    "# for i in range(len(s)):\n",
    "#     for j in range(i, len(s)):\n",
    "#         substring = s[i:j+1]\n",
    "#         if substring == substring[::-1]:\n",
    "#             print(substring, 'palindromic string')\n"
   ]
  },
  {
   "cell_type": "code",
   "execution_count": 1,
   "metadata": {},
   "outputs": [
    {
     "name": "stdout",
     "output_type": "stream",
     "text": [
      "AABBBCCCCCCCCCC\n"
     ]
    }
   ],
   "source": [
    "# i/p=A2B3C10\n",
    "# o/p=AABBBCCCCCCCCCC\n",
    "\n",
    "s=\"A2B3C10\"\n",
    "ch=''\n",
    "di=''\n",
    "res=''\n",
    "for i in s:\n",
    "    if i not in '1234567890':\n",
    "        if not ch:\n",
    "            ch=i\n",
    "        else:\n",
    "            res+=ch*int(di)\n",
    "            ch=i\n",
    "            di=''\n",
    "    else:\n",
    "        di+=i\n",
    "if ch and di:\n",
    "    res+=ch*int(di)\n",
    "print(res)        "
   ]
  },
  {
   "cell_type": "code",
   "execution_count": null,
   "metadata": {},
   "outputs": [],
   "source": [
    "# LIST PROGRAMMING "
   ]
  },
  {
   "cell_type": "code",
   "execution_count": 28,
   "metadata": {},
   "outputs": [
    {
     "name": "stdout",
     "output_type": "stream",
     "text": [
      "1\n",
      "2\n",
      "3\n",
      "4\n",
      "5\n"
     ]
    }
   ],
   "source": [
    "# 1\n",
    "# waptp integer data in a gvn list\n",
    "l=[1,2,3,4,5]\n",
    "for i in l:\n",
    "    print(i)"
   ]
  },
  {
   "cell_type": "code",
   "execution_count": 27,
   "metadata": {},
   "outputs": [
    {
     "name": "stdout",
     "output_type": "stream",
     "text": [
      "15\n"
     ]
    }
   ],
   "source": [
    "# 2\n",
    "# waptp sum of single value data types in a given list \n",
    "l=[1,2,3,4,5]\n",
    "sum=0\n",
    "for i in l:\n",
    "    sum+=i\n",
    "print(sum)"
   ]
  },
  {
   "cell_type": "code",
   "execution_count": 23,
   "metadata": {},
   "outputs": [
    {
     "name": "stdout",
     "output_type": "stream",
     "text": [
      "1619\n"
     ]
    }
   ],
   "source": [
    "# 3\n",
    "# waptp largest integers in a given list of integers \n",
    "l=[-10,12,0,222,1619]\n",
    "large=l[0]\n",
    "for i in l:\n",
    "    if i>large:\n",
    "        large=i\n",
    "print(large)\n"
   ]
  },
  {
   "cell_type": "code",
   "execution_count": 32,
   "metadata": {},
   "outputs": [
    {
     "name": "stdout",
     "output_type": "stream",
     "text": [
      "[-10]\n",
      "[-10, 12]\n",
      "[-10, 12, 0]\n",
      "[-10, 12, 0, 1619]\n",
      "[12]\n",
      "[12, 0]\n",
      "[12, 0, 1619]\n",
      "[0]\n",
      "[0, 1619]\n",
      "[1619]\n"
     ]
    }
   ],
   "source": [
    "# 4\n",
    "# waptp sublist of a gvn list of integers \n",
    "l=[-10,12,0,1619]\n",
    "for i in range(len(l)):\n",
    "    for j in range(i,len(l)):\n",
    "        print(l[i:j+1])"
   ]
  },
  {
   "cell_type": "code",
   "execution_count": 33,
   "metadata": {},
   "outputs": [
    {
     "name": "stdout",
     "output_type": "stream",
     "text": [
      "[12, 0, 1619] 1619\n"
     ]
    }
   ],
   "source": [
    "# 5\n",
    "# waptp maximum sum sublist \n",
    "l=[-10,12,0,1619]\n",
    "max_sl=[]\n",
    "max_sum=0\n",
    "for i in range(len(l)):\n",
    "    for j in range(i,len(l)):\n",
    "        sub=l[i:j+i]\n",
    "        sum_el=0\n",
    "        for k in sub:\n",
    "            sum_el=k\n",
    "        if sum_el>max_sum:\n",
    "            max_sum=sum_el\n",
    "            max_sl=sub\n",
    "print(max_sl,max_sum)"
   ]
  },
  {
   "cell_type": "code",
   "execution_count": 36,
   "metadata": {},
   "outputs": [
    {
     "name": "stdout",
     "output_type": "stream",
     "text": [
      "[12, 27, 9, 19, 29, 69]\n"
     ]
    }
   ],
   "source": [
    "# 6\n",
    "# i/p=l=[27,12,69,9,19,29]\n",
    "# o/p=[12,27,9,19,29,67]\n",
    "\n",
    "l=[27,12,69,9,19,29]\n",
    "for i in range(len(l)-1):\n",
    "    if l[i]>l[i+1]:\n",
    "        new=l[i]\n",
    "        l[i]=l[i+1]\n",
    "        l[i+1]=new\n",
    "print(l)"
   ]
  },
  {
   "cell_type": "code",
   "execution_count": 13,
   "metadata": {},
   "outputs": [
    {
     "name": "stdout",
     "output_type": "stream",
     "text": [
      "[5, 9, 12, 19, 27, 29, 69]\n"
     ]
    }
   ],
   "source": [
    "# 7 \n",
    "# Bubble sort algorithm\n",
    "l=[27,12,69,9,19,29,5]\n",
    "for i in range(len(l)):\n",
    "      for j in range(len(l)-1):\n",
    "            if l[j]>l[j+1]:\n",
    "                l[j],l[j+1]=l[j+1],l[j]\n",
    "print(l)\n"
   ]
  },
  {
   "cell_type": "code",
   "execution_count": 16,
   "metadata": {},
   "outputs": [
    {
     "ename": "TypeError",
     "evalue": "'list' object is not callable",
     "output_type": "error",
     "traceback": [
      "\u001b[0;31m---------------------------------------------------------------------------\u001b[0m",
      "\u001b[0;31mTypeError\u001b[0m                                 Traceback (most recent call last)",
      "Cell \u001b[0;32mIn[16], line 7\u001b[0m\n\u001b[1;32m      5\u001b[0m l\u001b[38;5;241m=\u001b[39m[\u001b[38;5;241m11\u001b[39m,\u001b[38;5;241m23\u001b[39m,\u001b[38;5;241m122\u001b[39m,\u001b[38;5;241m224\u001b[39m,\u001b[38;5;241m42\u001b[39m,\u001b[38;5;241m98\u001b[39m]\n\u001b[1;32m      6\u001b[0m \u001b[38;5;28;01mfor\u001b[39;00m i \u001b[38;5;129;01min\u001b[39;00m \u001b[38;5;28mrange\u001b[39m(\u001b[38;5;241m0\u001b[39m,\u001b[38;5;28mlen\u001b[39m(l)\u001b[38;5;241m-\u001b[39m\u001b[38;5;241m1\u001b[39m,\u001b[38;5;241m2\u001b[39m):\n\u001b[0;32m----> 7\u001b[0m     \u001b[38;5;28msum\u001b[39m\u001b[38;5;241m=\u001b[39m\u001b[43ml\u001b[49m\u001b[43m(\u001b[49m\u001b[43mi\u001b[49m\u001b[43m)\u001b[49m\u001b[38;5;241m+\u001b[39ml(i\u001b[38;5;241m+\u001b[39m\u001b[38;5;241m1\u001b[39m)\n\u001b[1;32m      8\u001b[0m \u001b[38;5;28mprint\u001b[39m(\u001b[38;5;28msum\u001b[39m)\n",
      "\u001b[0;31mTypeError\u001b[0m: 'list' object is not callable"
     ]
    }
   ],
   "source": [
    "# 8\n",
    "# waptp sum of two adjacent integers in a list of intigers\n",
    "# i/p=[11,23,122,224,42,98]\n",
    "# o/p=34,346,140\n",
    "l=[11,23,122,224,42,98]\n",
    "for i in range(0,len(l)-1,2):\n",
    "    sum=l(i)+l(i+1)\n",
    "print(sum)"
   ]
  },
  {
   "cell_type": "code",
   "execution_count": null,
   "metadata": {},
   "outputs": [
    {
     "name": "stdout",
     "output_type": "stream",
     "text": [
      "axbyczw\n"
     ]
    }
   ],
   "source": [
    "# i/p='abc'\n",
    "# i/p='xyzw'\n",
    "# o/p='axbyczw'\n",
    "p = 'abc'\n",
    "s = 'xyzw'\n",
    "if len(p) > len(s):\n",
    "    e = len(p)\n",
    "else:\n",
    "    e = len(s)\n",
    "i = 0\n",
    "res = ''\n",
    "while i < e:\n",
    "    if i < len(p) and i < len(s):\n",
    "        res += p[i] + s[i]\n",
    "    elif i < len(p): \n",
    "        res += p[i]\n",
    "    else:\n",
    "        res += s[i]\n",
    "    i += 1\n",
    "print(res)\n"
   ]
  }
 ],
 "metadata": {
  "kernelspec": {
   "display_name": "Python 3",
   "language": "python",
   "name": "python3"
  },
  "language_info": {
   "codemirror_mode": {
    "name": "ipython",
    "version": 3
   },
   "file_extension": ".py",
   "mimetype": "text/x-python",
   "name": "python",
   "nbconvert_exporter": "python",
   "pygments_lexer": "ipython3",
   "version": "3.13.1"
  }
 },
 "nbformat": 4,
 "nbformat_minor": 2
}
