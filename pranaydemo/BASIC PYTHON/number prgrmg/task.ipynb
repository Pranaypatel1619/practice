{
 "cells": [
  {
   "cell_type": "code",
   "execution_count": 8,
   "metadata": {},
   "outputs": [
    {
     "name": "stdout",
     "output_type": "stream",
     "text": [
      "1\n",
      "6\n",
      "1\n",
      "9\n"
     ]
    }
   ],
   "source": [
    "# waptp digits of a given num\n",
    "n=int(input(\"enter value\"))\n",
    "while n>0:\n",
    "    lastdgt=n%10\n",
    "    print(lastdgt)\n",
    "    n//=10"
   ]
  },
  {
   "cell_type": "code",
   "execution_count": 10,
   "metadata": {},
   "outputs": [
    {
     "name": "stdout",
     "output_type": "stream",
     "text": [
      "3\n",
      "2\n",
      "1\n",
      "sum= 6\n"
     ]
    }
   ],
   "source": [
    "# waptp sum of the digits of a given num\n",
    "sum=0\n",
    "n=int(input(\"value\"))\n",
    "while n>0:\n",
    "    lastdgt=n%10\n",
    "    sum+=lastdgt\n",
    "    print(lastdgt)\n",
    "    n//=10\n",
    "print(\"sum=\",sum)    \n"
   ]
  },
  {
   "cell_type": "code",
   "execution_count": 1,
   "metadata": {},
   "outputs": [
    {
     "name": "stdout",
     "output_type": "stream",
     "text": [
      "4321\n"
     ]
    }
   ],
   "source": [
    "# waptp reverse of a given number\n",
    "n=int(input())\n",
    "rev=0\n",
    "while n>0:\n",
    "    lastdgt=n%10\n",
    "    rev=rev*10+lastdgt\n",
    "    n//=10\n",
    "print(rev)    "
   ]
  },
  {
   "cell_type": "code",
   "execution_count": null,
   "metadata": {},
   "outputs": [
    {
     "name": "stdout",
     "output_type": "stream",
     "text": [
      "yes\n"
     ]
    }
   ],
   "source": [
    "# waprc the gvn num is a palidrome num or not\n",
    "rev=0\n",
    "n=int(input())\n",
    "temp=n\n",
    "while n>0:\n",
    "    lastdgt=n%10\n",
    "    rev=rev*10+lastdgt\n",
    "    n//=10\n",
    "if temp==rev:\n",
    "    print(\"palidrome\")\n",
    "else:\n",
    "    print(\"no\")        "
   ]
  },
  {
   "cell_type": "code",
   "execution_count": null,
   "metadata": {},
   "outputs": [],
   "source": [
    "# waptp factors of digits in a given num \n",
    "# i/p=125\n",
    "# o/p:=120\n",
    "#      2\n",
    "#      1\n",
    "\n"
   ]
  },
  {
   "cell_type": "code",
   "execution_count": 5,
   "metadata": {},
   "outputs": [
    {
     "name": "stdout",
     "output_type": "stream",
     "text": [
      "6\n",
      "6\n",
      "its a spy number\n"
     ]
    }
   ],
   "source": [
    "# waptc whethr the gvn num is spy num or not\n",
    "# ex=123 sum=6 and product=6 of digits \n",
    "sum=0\n",
    "p=1\n",
    "n=int(input(\"\"))\n",
    "while n>0:\n",
    "    lastdgt=n%10\n",
    "    sum+=lastdgt\n",
    "    p*=lastdgt\n",
    "    n//=10\n",
    "print(sum)\n",
    "print(p)\n",
    "if sum==p:\n",
    "    print(\"its a spy number\") \n",
    "else:\n",
    "    print(\"no\")   "
   ]
  },
  {
   "cell_type": "code",
   "execution_count": 9,
   "metadata": {},
   "outputs": [
    {
     "name": "stdout",
     "output_type": "stream",
     "text": [
      "no\n"
     ]
    }
   ],
   "source": [
    "# check whether  the gvn num is strong or not \n",
    "# ex:145 factorial 1,24,120 and sum of all fact 1+24+120=145 \n",
    "sum=1\n",
    "n=int(input(''))\n",
    "temp=n\n",
    "while n>0:\n",
    "    ld=n%10\n",
    "    i=1\n",
    "    fact=1\n",
    "    while i<=ld:\n",
    "        fact*=i\n",
    "        i+=1\n",
    "        sum+=fact\n",
    "        n//=10\n",
    "if sum==temp:\n",
    "    print('strong num')\n",
    "else:\n",
    "    print('no')\n"
   ]
  },
  {
   "cell_type": "code",
   "execution_count": 2,
   "metadata": {},
   "outputs": [
    {
     "name": "stdout",
     "output_type": "stream",
     "text": [
      "yes its a arshad num\n"
     ]
    }
   ],
   "source": [
    "# waptc wheather the given num is Arshadmehata num or not \n",
    "# ex:171\n",
    "num=int(input())\n",
    "sum=0\n",
    "temp=num\n",
    "while(num>0):\n",
    "    ld=num%10\n",
    "    sum+=ld\n",
    "    num//=10\n",
    "if(temp%sum==0):\n",
    "    print(\"yes its a arshad num\")\n",
    "else:\n",
    "    print(\"no\")"
   ]
  },
  {
   "cell_type": "code",
   "execution_count": null,
   "metadata": {},
   "outputs": [
    {
     "name": "stdout",
     "output_type": "stream",
     "text": [
      "9\n",
      "yes its a neon num\n"
     ]
    }
   ],
   "source": [
    "# waptc wheather the given num is neon num or not \n",
    "# ex:9  9^2=81 --- 8+1=9(neon num) 9==9\n",
    "\n",
    "sum=0\n",
    "num=int(input(\"value\"))\n",
    "n=num**2\n",
    "while n>0:\n",
    "    lastdgt=n%10\n",
    "    sum+=lastdgt\n",
    "    n//=10\n",
    "print(sum)    \n",
    "if num==sum:\n",
    "    print(\"yes its a neon num\") \n",
    "else:\n",
    "    print('No')   "
   ]
  },
  {
   "cell_type": "code",
   "execution_count": 9,
   "metadata": {},
   "outputs": [
    {
     "name": "stdout",
     "output_type": "stream",
     "text": [
      "6\n",
      "its a perfect num\n"
     ]
    }
   ],
   "source": [
    "# waptc whtr the gvn num is perfect num or not \n",
    "# ex:6 factors=1,2,3,6 expact 6 ...1+2+3=6 ...6==6\n",
    "# ex:28 factors=1,2,4,7,14,28 expact 28 ...1+2+4+7+14=28 ...28==28\n",
    "\n",
    "sum=0\n",
    "n=int(input())\n",
    "i=1\n",
    "while i<n:\n",
    "    if n%i==0:\n",
    "      sum+=i\n",
    "    i+=1\n",
    "print(sum)   \n",
    "if n==sum:\n",
    "   print(\"its a perfect num\") \n",
    "else:\n",
    "   print('no')   \n",
    "   "
   ]
  }
 ],
 "metadata": {
  "kernelspec": {
   "display_name": "Python 3",
   "language": "python",
   "name": "python3"
  },
  "language_info": {
   "codemirror_mode": {
    "name": "ipython",
    "version": 3
   },
   "file_extension": ".py",
   "mimetype": "text/x-python",
   "name": "python",
   "nbconvert_exporter": "python",
   "pygments_lexer": "ipython3",
   "version": "3.13.1"
  }
 },
 "nbformat": 4,
 "nbformat_minor": 2
}
