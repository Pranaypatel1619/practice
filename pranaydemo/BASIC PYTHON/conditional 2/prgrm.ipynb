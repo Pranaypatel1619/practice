{
 "cells": [
  {
   "cell_type": "code",
   "execution_count": null,
   "metadata": {},
   "outputs": [
    {
     "name": "stdout",
     "output_type": "stream",
     "text": [
      "4\n",
      "0\n",
      "4\n",
      "1.0\n"
     ]
    }
   ],
   "source": [
    "# 1\n",
    "a=int(input('enter value'))\n",
    "b=int(input('enter value'))\n",
    "print(a+b)\n",
    "print(a-b)\n",
    "print(a*b)\n",
    "print(a/b)"
   ]
  },
  {
   "cell_type": "code",
   "execution_count": 3,
   "metadata": {},
   "outputs": [
    {
     "name": "stdout",
     "output_type": "stream",
     "text": [
      "1\n"
     ]
    }
   ],
   "source": [
    "# 2\n",
    "a=int(input('enter value'))\n",
    "b=int(input('enter value'))\n",
    "if a/b:\n",
    "  print(a%b)\n"
   ]
  },
  {
   "cell_type": "code",
   "execution_count": 4,
   "metadata": {},
   "outputs": [
    {
     "name": "stdout",
     "output_type": "stream",
     "text": [
      "4\n",
      "8\n"
     ]
    }
   ],
   "source": [
    "# 3\n",
    "a=int(input('enter value'))\n",
    "print(a**2)\n",
    "print(a**3)\n"
   ]
  },
  {
   "cell_type": "code",
   "execution_count": 7,
   "metadata": {},
   "outputs": [
    {
     "name": "stdout",
     "output_type": "stream",
     "text": [
      "35.6\n"
     ]
    }
   ],
   "source": [
    "# 4\n",
    "a=int(input('enter value'))\n",
    "print((a*9/5)+32)"
   ]
  },
  {
   "cell_type": "code",
   "execution_count": 8,
   "metadata": {},
   "outputs": [
    {
     "name": "stdout",
     "output_type": "stream",
     "text": [
      "Area of Rectangle 4\n",
      "Perimeter of Rectangle 8\n"
     ]
    }
   ],
   "source": [
    "# 5\n",
    "l=int(input('enter value'))\n",
    "w=int(input('enter value'))\n",
    "print('Area of Rectangle',l*w)\n",
    "print(\"Perimeter of Rectangle\",2*(l+w))\n"
   ]
  },
  {
   "cell_type": "code",
   "execution_count": 10,
   "metadata": {},
   "outputs": [
    {
     "name": "stdout",
     "output_type": "stream",
     "text": [
      "180.0\n"
     ]
    }
   ],
   "source": [
    "# 6\n",
    "principle=50\n",
    "rate=30\n",
    "time=12\n",
    "intrest=(principle*rate*time)/100\n",
    "print(intrest)"
   ]
  },
  {
   "cell_type": "code",
   "execution_count": 11,
   "metadata": {},
   "outputs": [
    {
     "name": "stdout",
     "output_type": "stream",
     "text": [
      "10 5\n"
     ]
    }
   ],
   "source": [
    "# 7\n",
    "a=5\n",
    "b=10\n",
    "a=a+b\n",
    "b=a-b\n",
    "a=a-b\n",
    "print(a,b)"
   ]
  },
  {
   "cell_type": "code",
   "execution_count": 44,
   "metadata": {},
   "outputs": [
    {
     "name": "stdout",
     "output_type": "stream",
     "text": [
      "55\n"
     ]
    }
   ],
   "source": [
    "# 8\n",
    "a=int(input('enter value'))\n",
    "print(a*(a+1)//2)"
   ]
  },
  {
   "cell_type": "code",
   "execution_count": 2,
   "metadata": {},
   "outputs": [
    {
     "name": "stdout",
     "output_type": "stream",
     "text": [
      "3\n"
     ]
    }
   ],
   "source": [
    "# 9\n",
    "a=int(input('enter value'))\n",
    "print(a%10)\n"
   ]
  },
  {
   "cell_type": "code",
   "execution_count": 12,
   "metadata": {},
   "outputs": [
    {
     "name": "stdout",
     "output_type": "stream",
     "text": [
      "hours = 2.0\n",
      "minutes = 120.0\n",
      "seconds = 7200\n"
     ]
    }
   ],
   "source": [
    "# 10\n",
    "sec=7200\n",
    "min=sec/60\n",
    "hrs=min/60\n",
    "print('hours =',hrs)\n",
    "print('minutes =',min)\n",
    "print('seconds =',sec)"
   ]
  },
  {
   "cell_type": "code",
   "execution_count": 4,
   "metadata": {},
   "outputs": [
    {
     "name": "stdout",
     "output_type": "stream",
     "text": [
      "a is equal to b\n"
     ]
    }
   ],
   "source": [
    "# 11\n",
    "a=5\n",
    "b=int(input('enter value'))\n",
    "if a>b:\n",
    "    print('a greater then b')\n",
    "elif a<b:\n",
    "    print('a less then b')\n",
    "else:\n",
    "     print('a is equal to b')"
   ]
  },
  {
   "cell_type": "code",
   "execution_count": null,
   "metadata": {},
   "outputs": [
    {
     "name": "stdout",
     "output_type": "stream",
     "text": [
      "not a leap year\n"
     ]
    }
   ],
   "source": [
    "# 12\n",
    "year=int(input('enter year'))\n",
    "if (year%4==0 and year%100!=0) or year%400==0:\n",
    "    print('its a leap year')\n",
    "else:\n",
    "    print('not a leap year')"
   ]
  },
  {
   "cell_type": "code",
   "execution_count": 39,
   "metadata": {},
   "outputs": [
    {
     "name": "stdout",
     "output_type": "stream",
     "text": [
      "True\n",
      "True\n",
      "True\n",
      "False\n"
     ]
    }
   ],
   "source": [
    "# 13\n",
    "a=(input('enter string'))\n",
    "b=(input('enter string'))\n",
    "print(a==b)\n",
    "print(a>=b)\n",
    "print(a<=b)\n",
    "print(a!=b)"
   ]
  },
  {
   "cell_type": "code",
   "execution_count": 12,
   "metadata": {},
   "outputs": [
    {
     "name": "stdout",
     "output_type": "stream",
     "text": [
      "eligible\n"
     ]
    }
   ],
   "source": [
    "# 14\n",
    "age=int(input(\"enter age\"))\n",
    "if age>=18:\n",
    "    print('eligible')\n",
    "else:\n",
    "    print('not eligible')"
   ]
  },
  {
   "cell_type": "code",
   "execution_count": null,
   "metadata": {},
   "outputs": [
    {
     "name": "stdout",
     "output_type": "stream",
     "text": [
      "equal\n"
     ]
    }
   ],
   "source": [
    "# 15\n",
    "p=int(input(\"enter value\"))\n",
    "s=int(input(\"enter value\"))\n",
    "if p==s:\n",
    "    print('equal')\n",
    "else:\n",
    "    print(\"not equal\")"
   ]
  },
  {
   "cell_type": "code",
   "execution_count": 20,
   "metadata": {},
   "outputs": [
    {
     "name": "stdout",
     "output_type": "stream",
     "text": [
      "positive\n"
     ]
    }
   ],
   "source": [
    "# 16\n",
    "a=int(input(\"enter value\"))\n",
    "if a<0:\n",
    "    print('negative')\n",
    "elif a>0:\n",
    "    print('positive')\n",
    "else:\n",
    "    print('Zero')"
   ]
  },
  {
   "cell_type": "code",
   "execution_count": 24,
   "metadata": {},
   "outputs": [
    {
     "name": "stdout",
     "output_type": "stream",
     "text": [
      "sum of 2 values is greater\n"
     ]
    }
   ],
   "source": [
    "# 17\n",
    "a=16\n",
    "b=19\n",
    "c=int(input(\"enter value\"))\n",
    "d=a+b\n",
    "if d>c:\n",
    "    print('sum of 2 values is greater')\n",
    "else:\n",
    "    print('not greater')\n",
    "\n",
    "\n"
   ]
  },
  {
   "cell_type": "code",
   "execution_count": 26,
   "metadata": {},
   "outputs": [
    {
     "name": "stdout",
     "output_type": "stream",
     "text": [
      "c 1619\n"
     ]
    }
   ],
   "source": [
    "# 18\n",
    "a=int(input(\"enter value\"))\n",
    "b=int(input(\"enter value\"))\n",
    "c=int(input(\"enter value\"))\n",
    "if a>=b and a>=c:\n",
    "    print('a',a)\n",
    "elif b>=a and b>=c:\n",
    "    print('b',b)\n",
    "else:\n",
    "    print('c',c) "
   ]
  },
  {
   "cell_type": "code",
   "execution_count": 9,
   "metadata": {},
   "outputs": [
    {
     "name": "stdout",
     "output_type": "stream",
     "text": [
      "Upper case\n"
     ]
    }
   ],
   "source": [
    "# 19\n",
    "chr=str(input(\"enter value\"))\n",
    "b=(ord(chr))\n",
    "if 65<=b<=90:\n",
    "    print('Upper case')\n",
    "elif 97<=b<=122:\n",
    "    print('lower case')\n",
    "else:\n",
    "    print('not a alphabet')\n"
   ]
  },
  {
   "cell_type": "code",
   "execution_count": 50,
   "metadata": {},
   "outputs": [
    {
     "name": "stdout",
     "output_type": "stream",
     "text": [
      "not satisfied\n"
     ]
    }
   ],
   "source": [
    "# 20\n",
    "a=int(input(\"enter value\"))\n",
    "if a>10 and a<50:\n",
    "    print('satisfied')\n",
    "else:\n",
    "    print('not satisfied')"
   ]
  },
  {
   "cell_type": "code",
   "execution_count": null,
   "metadata": {},
   "outputs": [
    {
     "name": "stdout",
     "output_type": "stream",
     "text": [
      "not divisible\n"
     ]
    }
   ],
   "source": [
    "# 21\n",
    "a=int(input(\"enter value\"))\n",
    "if a%3==0 and a%5==0:\n",
    "    print('divisible')\n",
    "else:\n",
    "    print('not divisible')"
   ]
  },
  {
   "cell_type": "code",
   "execution_count": 53,
   "metadata": {},
   "outputs": [
    {
     "name": "stdout",
     "output_type": "stream",
     "text": [
      "eligible\n"
     ]
    }
   ],
   "source": [
    "# 22\n",
    "age=int(input(\"enter value\"))\n",
    "creditscore=int(input(\"enter value\"))\n",
    "if age>=21 and creditscore>=700:\n",
    "    print('eligible')\n",
    "else:\n",
    "    print('not divisable')"
   ]
  },
  {
   "cell_type": "code",
   "execution_count": null,
   "metadata": {},
   "outputs": [
    {
     "name": "stdout",
     "output_type": "stream",
     "text": [
      "No\n"
     ]
    }
   ],
   "source": [
    "# 23\n",
    "a=int(input(\"enter value\"))\n",
    "if a%2==0 and a>50:\n",
    "    print('yes')\n",
    "else:\n",
    "    print('No')"
   ]
  },
  {
   "cell_type": "code",
   "execution_count": 59,
   "metadata": {},
   "outputs": [
    {
     "name": "stdout",
     "output_type": "stream",
     "text": [
      "yes\n"
     ]
    }
   ],
   "source": [
    "# 24\n",
    "a=int(input(\"enter value\"))\n",
    "if a>10 and a<100:\n",
    "    print('yes')\n",
    "else:\n",
    "    print('No')\n"
   ]
  },
  {
   "cell_type": "code",
   "execution_count": null,
   "metadata": {},
   "outputs": [],
   "source": [
    "# 25\n",
    "a=str(input(\"enter value\"))\n",
    "b=ord(a)\n",
    "if 65<=b<=90 and 97<=b<=122:\n",
    "    print('it contains upper and lower case')\n",
    "else:\n",
    "    print('not a alphabet')\n",
    "\n"
   ]
  },
  {
   "cell_type": "code",
   "execution_count": 1,
   "metadata": {},
   "outputs": [
    {
     "name": "stdout",
     "output_type": "stream",
     "text": [
      "its a leap year\n"
     ]
    }
   ],
   "source": [
    "# 26\n",
    "year=int(input('enter year'))\n",
    "if year%4==0 and year%100!=0 or year%400==0:\n",
    "    print('its a leap year')\n",
    "else:\n",
    "    print('not a leap year')\n"
   ]
  },
  {
   "cell_type": "code",
   "execution_count": 34,
   "metadata": {},
   "outputs": [
    {
     "name": "stdout",
     "output_type": "stream",
     "text": [
      "Three Digit Number\n"
     ]
    }
   ],
   "source": [
    "# 27\n",
    "a=int(input(\"enter value\"))\n",
    "if 100<=a<=999:\n",
    "    print('Three Digit Number')\n",
    "else:\n",
    "    print('No')"
   ]
  },
  {
   "cell_type": "code",
   "execution_count": 37,
   "metadata": {},
   "outputs": [
    {
     "name": "stdout",
     "output_type": "stream",
     "text": [
      "None\n"
     ]
    }
   ],
   "source": [
    "# 28\n",
    "a=int(input(\"enter value\"))\n",
    "if a%2==0:\n",
    "    print(\"Even\")\n",
    "elif a>=0:\n",
    "    print('Positive')\n",
    "else:\n",
    "    print('None')\n"
   ]
  },
  {
   "cell_type": "code",
   "execution_count": 42,
   "metadata": {},
   "outputs": [
    {
     "name": "stdout",
     "output_type": "stream",
     "text": [
      "pass\n"
     ]
    }
   ],
   "source": [
    "# 29\n",
    "a=float(input(\"enter value\"))\n",
    "b=float(input(\"enter value\"))\n",
    "c=float(input(\"enter value\"))\n",
    "d=a+b+c\n",
    "if d>=40:\n",
    "    print('pass')\n",
    "else:\n",
    "    print('fail')\n"
   ]
  },
  {
   "cell_type": "code",
   "execution_count": 52,
   "metadata": {},
   "outputs": [
    {
     "name": "stdout",
     "output_type": "stream",
     "text": [
      "yes\n"
     ]
    }
   ],
   "source": [
    "# 30\n",
    "a=int(input(\"enter value\"))\n",
    "if (a%4==0) != (a%6==0):\n",
    "    print('yes')\n",
    "else:\n",
    "    print('no')"
   ]
  },
  {
   "cell_type": "code",
   "execution_count": 53,
   "metadata": {},
   "outputs": [
    {
     "name": "stdout",
     "output_type": "stream",
     "text": [
      "1\n",
      "7\n",
      "6\n"
     ]
    }
   ],
   "source": [
    "# 31\n",
    "a=int(input(\"enter value\"))\n",
    "b=int(input(\"enter value\"))\n",
    "print(a&b)\n",
    "print(a|b)\n",
    "print(a^b)"
   ]
  },
  {
   "cell_type": "code",
   "execution_count": 55,
   "metadata": {},
   "outputs": [
    {
     "name": "stdout",
     "output_type": "stream",
     "text": [
      "20\n",
      "1\n"
     ]
    }
   ],
   "source": [
    "# 32\n",
    "a=int(input(\"enter value\"))\n",
    "print(a<<2)\n",
    "print(a>>2)"
   ]
  },
  {
   "cell_type": "code",
   "execution_count": null,
   "metadata": {},
   "outputs": [],
   "source": [
    "# 33\n"
   ]
  },
  {
   "cell_type": "code",
   "execution_count": 3,
   "metadata": {},
   "outputs": [
    {
     "name": "stdout",
     "output_type": "stream",
     "text": [
      "-5\n"
     ]
    }
   ],
   "source": [
    "# 34\n",
    "a=int(input(\"enter value\"))\n",
    "print(~a)"
   ]
  },
  {
   "cell_type": "code",
   "execution_count": null,
   "metadata": {},
   "outputs": [],
   "source": [
    "# 35\n"
   ]
  },
  {
   "cell_type": "code",
   "execution_count": 7,
   "metadata": {},
   "outputs": [
    {
     "name": "stdout",
     "output_type": "stream",
     "text": [
      "it is a consonent\n"
     ]
    }
   ],
   "source": [
    "# 41\n",
    "a=(input(\"enter value\"))\n",
    "if a in\"aeiou\":\n",
    "    print(\"it is a vowel\")\n",
    "else:\n",
    "    print(\"it is a consonent\")"
   ]
  },
  {
   "cell_type": "code",
   "execution_count": 66,
   "metadata": {},
   "outputs": [
    {
     "name": "stdout",
     "output_type": "stream",
     "text": [
      "Invalid age\n"
     ]
    }
   ],
   "source": [
    "# 42\n",
    "a=int(input(\"enter value\"))\n",
    "if a>=0 and a<=12:\n",
    "    print(\"Child\")\n",
    "elif a>=13 and a<=19:\n",
    "    print(\"Teenager\")\n",
    "elif a>=20 and a<=59:\n",
    "    print(\"Adult\")\n",
    "elif a>=60:\n",
    "    print(\"Senior Citizen\")\n",
    "else:\n",
    "    print(\"Invalid age\")"
   ]
  }
 ],
 "metadata": {
  "kernelspec": {
   "display_name": "Python 3",
   "language": "python",
   "name": "python3"
  },
  "language_info": {
   "codemirror_mode": {
    "name": "ipython",
    "version": 3
   },
   "file_extension": ".py",
   "mimetype": "text/x-python",
   "name": "python",
   "nbconvert_exporter": "python",
   "pygments_lexer": "ipython3",
   "version": "3.13.1"
  }
 },
 "nbformat": 4,
 "nbformat_minor": 2
}
