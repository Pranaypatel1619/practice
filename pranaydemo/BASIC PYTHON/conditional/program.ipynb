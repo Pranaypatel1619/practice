{
 "cells": [
  {
   "cell_type": "code",
   "execution_count": 1,
   "metadata": {},
   "outputs": [
    {
     "name": "stdout",
     "output_type": "stream",
     "text": [
      "Hello Pranay Patel\n"
     ]
    }
   ],
   "source": [
    "print('Hello'+' '+input('Enter Your Name'))"
   ]
  },
  {
   "cell_type": "code",
   "execution_count": 7,
   "metadata": {},
   "outputs": [
    {
     "name": "stdout",
     "output_type": "stream",
     "text": [
      "odd\n"
     ]
    }
   ],
   "source": [
    "a=int(input('enter value'))\n",
    "if a%2==0:\n",
    "    print('Even')\n",
    "else:\n",
    "    print('odd')"
   ]
  },
  {
   "cell_type": "code",
   "execution_count": null,
   "metadata": {},
   "outputs": [
    {
     "name": "stdout",
     "output_type": "stream",
     "text": [
      "positive\n"
     ]
    }
   ],
   "source": [
    "# 1\n",
    "n=int(input(\"enter number\"))\n",
    "if n>=0:\n",
    "    print(\"positive\")\n",
    "else:\n",
    "    print(\"negative\")\n"
   ]
  },
  {
   "cell_type": "code",
   "execution_count": null,
   "metadata": {},
   "outputs": [
    {
     "name": "stdout",
     "output_type": "stream",
     "text": [
      "hello world\n"
     ]
    }
   ],
   "source": [
    "# 2\n",
    "n=int(input(\"enter string\"))\n",
    "if n>1 and n<5:\n",
    "    print('hello world')"
   ]
  },
  {
   "cell_type": "code",
   "execution_count": null,
   "metadata": {},
   "outputs": [
    {
     "name": "stdout",
     "output_type": "stream",
     "text": [
      "fizz\n"
     ]
    }
   ],
   "source": [
    "# 3\n",
    "n=int(input(\"enter value\"))\n",
    "if n%3==0:\n",
    "    print('it is divisible')\n",
    "else:\n",
    "    print('fizz')\n"
   ]
  },
  {
   "cell_type": "code",
   "execution_count": null,
   "metadata": {},
   "outputs": [
    {
     "name": "stdout",
     "output_type": "stream",
     "text": [
      "(12+0j)\n"
     ]
    }
   ],
   "source": [
    "# 4\n",
    "n=int(input('enter value'))\n",
    "if n%2==0 and n%6==0:\n",
    "    print(complex(n))"
   ]
  },
  {
   "cell_type": "code",
   "execution_count": null,
   "metadata": {},
   "outputs": [
    {
     "name": "stdout",
     "output_type": "stream",
     "text": [
      "['1', '5']\n"
     ]
    }
   ],
   "source": [
    "# 5\n",
    "n=int(input('enter value'))\n",
    "if n%3==0 or n%5==0:\n",
    "    b=str(n)\n",
    "    print(list(b))"
   ]
  },
  {
   "cell_type": "code",
   "execution_count": null,
   "metadata": {},
   "outputs": [
    {
     "name": "stdout",
     "output_type": "stream",
     "text": [
      "it is multiple\n"
     ]
    }
   ],
   "source": [
    "# 6\n",
    "n=int(input('enter value'))\n",
    "if n%5==0:\n",
    "    print(\"it is multiple\")\n",
    "else:\n",
    "    print('not multiple')\n"
   ]
  },
  {
   "cell_type": "code",
   "execution_count": null,
   "metadata": {},
   "outputs": [
    {
     "name": "stdout",
     "output_type": "stream",
     "text": [
      "not zero\n"
     ]
    }
   ],
   "source": [
    "# 7\n",
    "n=int(input('enter value'))\n",
    "if n==0:\n",
    "    print(0)\n",
    "else:\n",
    "    print('not zero')"
   ]
  },
  {
   "cell_type": "code",
   "execution_count": null,
   "metadata": {},
   "outputs": [
    {
     "name": "stdout",
     "output_type": "stream",
     "text": [
      "it is negative\n"
     ]
    }
   ],
   "source": [
    "# 8\n",
    "n=int(input(\"enter value\"))\n",
    "if n<0:\n",
    "    print('it is negative')\n",
    "else:\n",
    "    print('not negative')"
   ]
  },
  {
   "cell_type": "code",
   "execution_count": null,
   "metadata": {},
   "outputs": [
    {
     "name": "stdout",
     "output_type": "stream",
     "text": [
      "['1', '6']\n"
     ]
    }
   ],
   "source": [
    "# 9\n",
    "n=int(input('enter value'))\n",
    "if n%2==0:\n",
    "  a=str(n)\n",
    "  print(list(a))\n",
    "else:\n",
    "  print('it is odd')"
   ]
  },
  {
   "cell_type": "code",
   "execution_count": null,
   "metadata": {},
   "outputs": [
    {
     "name": "stdout",
     "output_type": "stream",
     "text": [
      "('1', '6', '1', '9')\n"
     ]
    }
   ],
   "source": [
    "# 10\n",
    "n=int(input('enter value'))\n",
    "if n%2!=0:\n",
    "  a=str(n)\n",
    "  print(tuple(a))\n",
    "else:\n",
    "  print('it is even')"
   ]
  },
  {
   "cell_type": "code",
   "execution_count": 9,
   "metadata": {},
   "outputs": [
    {
     "name": "stdout",
     "output_type": "stream",
     "text": [
      "256\n"
     ]
    }
   ],
   "source": [
    "# 11th Question\n",
    "n=int(input('enter value'))\n",
    "if n%2==0:\n",
    "    print(n**4)\n",
    "else:\n",
    "    print(\"it is odd\")"
   ]
  },
  {
   "cell_type": "code",
   "execution_count": null,
   "metadata": {},
   "outputs": [],
   "source": [
    "# 12\n",
    "n=int(input('enter value'))\n",
    "if type(n)==int:\n",
    "    b=int(input('enter value'))\n",
    "    print(n+b)\n"
   ]
  },
  {
   "cell_type": "code",
   "execution_count": null,
   "metadata": {},
   "outputs": [
    {
     "name": "stdout",
     "output_type": "stream",
     "text": [
      "100\n"
     ]
    }
   ],
   "source": [
    "# 13\n",
    "n=int(input('enter value'))\n",
    "if n%5==0 and n%7==0:\n",
    "    print(n**2)\n",
    "else:\n",
    "    print('not divisible')"
   ]
  },
  {
   "cell_type": "code",
   "execution_count": 18,
   "metadata": {},
   "outputs": [
    {
     "name": "stdout",
     "output_type": "stream",
     "text": [
      "greater\n"
     ]
    }
   ],
   "source": [
    "# 14th question\n",
    "\n",
    "a=int(input('enter value'))\n",
    "b=a%10\n",
    "if b>5:\n",
    "    print('greater')\n",
    "else:\n",
    "    print('No')\n"
   ]
  },
  {
   "cell_type": "code",
   "execution_count": null,
   "metadata": {},
   "outputs": [
    {
     "name": "stdout",
     "output_type": "stream",
     "text": [
      "not divisible\n"
     ]
    }
   ],
   "source": [
    "# 15\n",
    "a=int(input('enter value'))\n",
    "if a%3==0 and a<30:\n",
    "    print(a**2)\n",
    "elif a>30:\n",
    "    print('greater than 30')\n",
    "else:\n",
    "    print('not divisible')"
   ]
  },
  {
   "cell_type": "code",
   "execution_count": 37,
   "metadata": {},
   "outputs": [
    {
     "name": "stdout",
     "output_type": "stream",
     "text": [
      "8000\n"
     ]
    }
   ],
   "source": [
    "# 16th question\n",
    "n=int(input('enter value'))\n",
    "if n%2==0 or n%4==0:\n",
    "    print(n**3)\n",
    "else:\n",
    "    print('not divisible')"
   ]
  },
  {
   "cell_type": "code",
   "execution_count": null,
   "metadata": {},
   "outputs": [
    {
     "name": "stdout",
     "output_type": "stream",
     "text": [
      "['0']\n"
     ]
    }
   ],
   "source": [
    "# 17\n",
    "n=int(input('enter value'))\n",
    "if n%2==0:\n",
    "    b=str(n)\n",
    "    print(list(b))\n",
    "else:\n",
    "    print('not divisible')"
   ]
  },
  {
   "cell_type": "code",
   "execution_count": 20,
   "metadata": {},
   "outputs": [
    {
     "name": "stdout",
     "output_type": "stream",
     "text": [
      "6\n"
     ]
    }
   ],
   "source": [
    "# 18\n",
    "n=int(input('enter value'))\n",
    "if n<0 or n%2==0:\n",
    "    b=abs(n)%10 \n",
    "print(b)\n"
   ]
  },
  {
   "cell_type": "code",
   "execution_count": null,
   "metadata": {},
   "outputs": [
    {
     "name": "stdout",
     "output_type": "stream",
     "text": [
      "-64\n"
     ]
    }
   ],
   "source": [
    "# 19\n",
    "n=int(input('enter value'))\n",
    "if n<0 or n%2!=0 and n%4==0:\n",
    "    print(n**3)\n",
    "else:\n",
    "    print('not divisible')"
   ]
  },
  {
   "cell_type": "code",
   "execution_count": 5,
   "metadata": {},
   "outputs": [
    {
     "name": "stdout",
     "output_type": "stream",
     "text": [
      "P\n"
     ]
    }
   ],
   "source": [
    "# 20 question\n",
    "n=int(input('enter value'))\n",
    "if n%4==0:\n",
    "    print(chr(n))\n",
    "else:\n",
    "    print('odd')"
   ]
  },
  {
   "cell_type": "code",
   "execution_count": 7,
   "metadata": {},
   "outputs": [
    {
     "name": "stdout",
     "output_type": "stream",
     "text": [
      "P\n"
     ]
    }
   ],
   "source": [
    "# 21\n",
    "n=int(input('enter value'))\n",
    "if n>45 and n<125 and n%4==0 and n%5==0 and n%2==0:\n",
    "    print(chr(n))\n",
    "else:\n",
    "    print('not divisible')\n"
   ]
  },
  {
   "cell_type": "code",
   "execution_count": 14,
   "metadata": {},
   "outputs": [
    {
     "name": "stdout",
     "output_type": "stream",
     "text": [
      "400\n"
     ]
    }
   ],
   "source": [
    "# 22\n",
    "n=int(input('enter value'))\n",
    "if n>25 and n<100 and n%4==0 and n%5==0:\n",
    "    print(n*5)\n",
    "else:\n",
    "    print('not divisible')"
   ]
  },
  {
   "cell_type": "code",
   "execution_count": 11,
   "metadata": {},
   "outputs": [
    {
     "name": "stdout",
     "output_type": "stream",
     "text": [
      "25\n"
     ]
    }
   ],
   "source": [
    "# 23\n",
    "n=int(input('enter value'))\n",
    "if n==int(n) and n%2!=0 and n%5==0:\n",
    "    print(n)\n",
    "else:\n",
    "    print('not divisible')"
   ]
  },
  {
   "cell_type": "code",
   "execution_count": 15,
   "metadata": {},
   "outputs": [
    {
     "name": "stdout",
     "output_type": "stream",
     "text": [
      "123\n",
      "<class 'str'>\n"
     ]
    }
   ],
   "source": [
    "# 24\n",
    "n=int(input('enter value'))\n",
    "if n==int(n):\n",
    "   a=str(n)\n",
    "   print(a)\n",
    "   print(type(a))\n"
   ]
  },
  {
   "cell_type": "code",
   "execution_count": null,
   "metadata": {},
   "outputs": [
    {
     "ename": "TypeError",
     "evalue": "'int' object is not callable",
     "output_type": "error",
     "traceback": [
      "\u001b[0;31m---------------------------------------------------------------------------\u001b[0m",
      "\u001b[0;31mTypeError\u001b[0m                                 Traceback (most recent call last)",
      "Cell \u001b[0;32mIn[15], line 5\u001b[0m\n\u001b[1;32m      3\u001b[0m \u001b[38;5;28;01mif\u001b[39;00m n\u001b[38;5;241m<\u001b[39m\u001b[38;5;241m125\u001b[39m \u001b[38;5;129;01mand\u001b[39;00m n\u001b[38;5;241m>\u001b[39m\u001b[38;5;241m60\u001b[39m:\n\u001b[1;32m      4\u001b[0m       name\u001b[38;5;241m=\u001b[39m\u001b[38;5;28minput\u001b[39m(\u001b[38;5;124m'\u001b[39m\u001b[38;5;124menter name\u001b[39m\u001b[38;5;124m'\u001b[39m)\n\u001b[0;32m----> 5\u001b[0m       md\u001b[38;5;241m=\u001b[39m[\u001b[38;5;28;43mlen\u001b[39;49m\u001b[43m(\u001b[49m\u001b[43mname\u001b[49m\u001b[43m)\u001b[49m\u001b[38;5;241m/\u001b[39m\u001b[38;5;241m/\u001b[39m\u001b[38;5;241m2\u001b[39m]\n\u001b[1;32m      6\u001b[0m       \u001b[38;5;28mprint\u001b[39m(md)\n\u001b[1;32m      7\u001b[0m \u001b[38;5;66;03m# value = int(input(\"Enter a value: \"))\u001b[39;00m\n\u001b[1;32m      8\u001b[0m \u001b[38;5;66;03m# if 60 < value < 125:\u001b[39;00m\n\u001b[1;32m      9\u001b[0m \u001b[38;5;66;03m#     name = input(\"Enter your name: \")\u001b[39;00m\n\u001b[0;32m   (...)\u001b[0m\n\u001b[1;32m     12\u001b[0m \u001b[38;5;66;03m# else:\u001b[39;00m\n\u001b[1;32m     13\u001b[0m \u001b[38;5;66;03m#     print(\"Value is not in the range 60-125.\")\u001b[39;00m\n",
      "\u001b[0;31mTypeError\u001b[0m: 'int' object is not callable"
     ]
    }
   ],
   "source": [
    "# 25\n",
    "n=int(input('enter value'))\n",
    "if n<125 and n>60:\n",
    "      name=input('enter name')\n",
    "      md=[len(name)//2]\n",
    "# value = int(input(\"Enter a value: \"))\n",
    "# if 60 < value < 125:\n",
    "#     name = input(\"Enter your name: \")\n",
    "#     middle_char = name[len(name) // 2] if len(name) % 2 != 0 else name[(len(name) // 2) - 1]\n",
    "#     print(\"Middle character:\", middle_char)\n",
    "# else:\n",
    "#     print(\"Value is not in the range 60-125.\")"
   ]
  },
  {
   "cell_type": "code",
   "execution_count": null,
   "metadata": {},
   "outputs": [
    {
     "name": "stdout",
     "output_type": "stream",
     "text": [
      "24\n"
     ]
    }
   ],
   "source": [
    "# 26\n",
    "a=int(input('enter 1st integer'))\n",
    "b=int(input('enter 2nd integer'))\n",
    "if (a==b):\n",
    "    c=a+b\n",
    "    print(c)"
   ]
  },
  {
   "cell_type": "code",
   "execution_count": 4,
   "metadata": {},
   "outputs": [
    {
     "name": "stdout",
     "output_type": "stream",
     "text": [
      "8.333333333333334\n"
     ]
    }
   ],
   "source": [
    "# 27\n",
    "a=int(input('enter 1st integer'))\n",
    "b=int(input('enter 2nd integer'))\n",
    "if (a==b):\n",
    "    c=a*b\n",
    "    d=c/3\n",
    "    print(d)"
   ]
  },
  {
   "cell_type": "code",
   "execution_count": null,
   "metadata": {},
   "outputs": [],
   "source": [
    "# 28\n",
    "a=input('enter 1st integer')\n",
    "if ('a'<=a<='z') or ('a'<=a<='z'):\n",
    "    "
   ]
  },
  {
   "cell_type": "code",
   "execution_count": null,
   "metadata": {},
   "outputs": [],
   "source": [
    "# 29"
   ]
  },
  {
   "cell_type": "code",
   "execution_count": null,
   "metadata": {},
   "outputs": [],
   "source": [
    "# 30"
   ]
  },
  {
   "cell_type": "code",
   "execution_count": null,
   "metadata": {},
   "outputs": [],
   "source": [
    "# 31"
   ]
  },
  {
   "cell_type": "code",
   "execution_count": null,
   "metadata": {},
   "outputs": [],
   "source": [
    "# 32"
   ]
  },
  {
   "cell_type": "code",
   "execution_count": null,
   "metadata": {},
   "outputs": [],
   "source": [
    "# 33"
   ]
  },
  {
   "cell_type": "code",
   "execution_count": 16,
   "metadata": {},
   "outputs": [
    {
     "name": "stdout",
     "output_type": "stream",
     "text": [
      "120\n"
     ]
    }
   ],
   "source": [
    "# 34\n",
    "a=(input('enter value'))\n",
    "b=ord(a)\n",
    "if (b%2==0):\n",
    "    print(b)"
   ]
  },
  {
   "cell_type": "code",
   "execution_count": null,
   "metadata": {},
   "outputs": [],
   "source": [
    "# 35"
   ]
  },
  {
   "cell_type": "code",
   "execution_count": null,
   "metadata": {},
   "outputs": [],
   "source": [
    "# 36"
   ]
  },
  {
   "cell_type": "code",
   "execution_count": null,
   "metadata": {},
   "outputs": [],
   "source": [
    "# 37"
   ]
  },
  {
   "cell_type": "code",
   "execution_count": null,
   "metadata": {},
   "outputs": [],
   "source": [
    "# 38\n",
    "a=()\n",
    "if type(a)==int or type(a)==complex or type(a)==float or type(a)==bool:\n",
    "    print('ok')"
   ]
  },
  {
   "cell_type": "code",
   "execution_count": null,
   "metadata": {},
   "outputs": [],
   "source": [
    "# 39\n",
    "\n"
   ]
  }
 ],
 "metadata": {
  "kernelspec": {
   "display_name": "Python 3",
   "language": "python",
   "name": "python3"
  },
  "language_info": {
   "codemirror_mode": {
    "name": "ipython",
    "version": 3
   },
   "file_extension": ".py",
   "mimetype": "text/x-python",
   "name": "python",
   "nbconvert_exporter": "python",
   "pygments_lexer": "ipython3",
   "version": "3.13.1"
  }
 },
 "nbformat": 4,
 "nbformat_minor": 2
}
