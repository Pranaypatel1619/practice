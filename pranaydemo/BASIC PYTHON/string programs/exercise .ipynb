{
 "cells": [
  {
   "cell_type": "code",
   "execution_count": 2,
   "metadata": {},
   "outputs": [
    {
     "name": "stdout",
     "output_type": "stream",
     "text": [
      "p\n",
      "y\n",
      "t\n",
      "h\n",
      "o\n",
      "n\n"
     ]
    }
   ],
   "source": [
    "# 1\n",
    "s=input()\n",
    "for i in s:\n",
    "    print(i)"
   ]
  },
  {
   "cell_type": "code",
   "execution_count": null,
   "metadata": {},
   "outputs": [
    {
     "name": "stdout",
     "output_type": "stream",
     "text": [
      "o\n",
      "n\n",
      " \n",
      "p\n"
     ]
    }
   ],
   "source": [
    "# 2 items present in given string b/w the range from m to n\n",
    "s=input()\n",
    "m=int(input())\n",
    "n=int(input())\n",
    "for i in range(len(s)):\n",
    "    if m<=i<=n:\n",
    "        print(s[i])"
   ]
  },
  {
   "cell_type": "code",
   "execution_count": 3,
   "metadata": {},
   "outputs": [
    {
     "name": "stdout",
     "output_type": "stream",
     "text": [
      "P\n",
      "O\n"
     ]
    }
   ],
   "source": [
    "# 3 upper case characters only\n",
    "s=input()\n",
    "for i in s:\n",
    "    if 'A'<=i<='Z':\n",
    "        print(i)"
   ]
  },
  {
   "cell_type": "code",
   "execution_count": 4,
   "metadata": {},
   "outputs": [
    {
     "name": "stdout",
     "output_type": "stream",
     "text": [
      "y\n",
      "t\n",
      "h\n",
      "o\n",
      "n\n"
     ]
    }
   ],
   "source": [
    "# 4 Lower case characters only\n",
    "s=input()\n",
    "for i in s:\n",
    "    if 'a'<=i<='z':\n",
    "        print(i)"
   ]
  },
  {
   "cell_type": "code",
   "execution_count": 1,
   "metadata": {},
   "outputs": [
    {
     "name": "stdout",
     "output_type": "stream",
     "text": [
      "112\n",
      "121\n",
      "116\n",
      "104\n",
      "111\n",
      "110\n"
     ]
    }
   ],
   "source": [
    "# 5 ascii numbers for characters given string\n",
    "s=input()\n",
    "for i in s:\n",
    "    \n",
    "    print(ord(i))"
   ]
  },
  {
   "cell_type": "code",
   "execution_count": 6,
   "metadata": {},
   "outputs": [
    {
     "name": "stdout",
     "output_type": "stream",
     "text": [
      "%\n",
      "$\n"
     ]
    }
   ],
   "source": [
    "# 6 special characters only\n",
    "s=input()\n",
    "for i in s:\n",
    "    if not( 'A'<=i<='Z' or 'a'<=i<='z' or '0'<=i<='9'):\n",
    "        print(i)"
   ]
  },
  {
   "cell_type": "code",
   "execution_count": 7,
   "metadata": {},
   "outputs": [
    {
     "name": "stdout",
     "output_type": "stream",
     "text": [
      "o\n"
     ]
    }
   ],
   "source": [
    "# 7 vowels in given string\n",
    "s=input()\n",
    "for i in s:\n",
    "    if i in 'AEIOUaeiou':\n",
    "        print(i)"
   ]
  },
  {
   "cell_type": "code",
   "execution_count": 8,
   "metadata": {},
   "outputs": [
    {
     "name": "stdout",
     "output_type": "stream",
     "text": [
      "P\n",
      "Y\n",
      "T\n",
      "H\n",
      "N\n"
     ]
    }
   ],
   "source": [
    "# 8 consonants in given string\n",
    "s=input()\n",
    "for i in s:\n",
    "    if i not  in 'AEIOUaeiou':\n",
    "        print(i)"
   ]
  },
  {
   "cell_type": "code",
   "execution_count": 19,
   "metadata": {},
   "outputs": [
    {
     "name": "stdout",
     "output_type": "stream",
     "text": [
      "nohtyP\n"
     ]
    }
   ],
   "source": [
    "# 9 reverse of characters \n",
    "s=input()\n",
    "rev=''\n",
    "for i in range(len(s)-1,-1,-1):\n",
    "    rev+=s[i]\n",
    "print(rev)\n",
    "    "
   ]
  },
  {
   "cell_type": "code",
   "execution_count": 11,
   "metadata": {},
   "outputs": [
    {
     "name": "stdout",
     "output_type": "stream",
     "text": [
      "P\n",
      "t\n",
      "o\n"
     ]
    }
   ],
   "source": [
    "# 10 even position characters\n",
    "s=input()\n",
    "for i in range(len(s)):\n",
    "    if i%2==0:\n",
    "        print(s[i])"
   ]
  },
  {
   "cell_type": "code",
   "execution_count": 12,
   "metadata": {},
   "outputs": [
    {
     "name": "stdout",
     "output_type": "stream",
     "text": [
      "y\n",
      "h\n",
      "n\n"
     ]
    }
   ],
   "source": [
    "# 10 odd position characters\n",
    "s=input()\n",
    "for i in range(len(s)):\n",
    "    if i%2!=0:\n",
    "        print(s[i])"
   ]
  },
  {
   "cell_type": "code",
   "execution_count": null,
   "metadata": {},
   "outputs": [
    {
     "name": "stdout",
     "output_type": "stream",
     "text": [
      "6\n"
     ]
    }
   ],
   "source": [
    "#11 count total no.of characters in given string with using length function\n",
    "s=input()\n",
    "c=0\n",
    "for i in range(len(s)):\n",
    "    c+=1\n",
    "print(c)"
   ]
  },
  {
   "cell_type": "code",
   "execution_count": 15,
   "metadata": {},
   "outputs": [
    {
     "name": "stdout",
     "output_type": "stream",
     "text": [
      "6\n"
     ]
    }
   ],
   "source": [
    "#12 count total no.of characters in given string without using length function\n",
    "s=input()\n",
    "c=0\n",
    "for i in s:\n",
    "    c+=1\n",
    "print(c)"
   ]
  },
  {
   "cell_type": "code",
   "execution_count": 20,
   "metadata": {},
   "outputs": [
    {
     "name": "stdout",
     "output_type": "stream",
     "text": [
      "7\n"
     ]
    }
   ],
   "source": [
    "# 13  count alphabets in given string\n",
    "s=input()\n",
    "c=0\n",
    "for i in s:\n",
    "    if 'a'<=i<='z' or 'A'<=i<='Z':\n",
    "        c+=1\n",
    "print(c)\n"
   ]
  },
  {
   "cell_type": "code",
   "execution_count": 21,
   "metadata": {},
   "outputs": [
    {
     "name": "stdout",
     "output_type": "stream",
     "text": [
      "3\n"
     ]
    }
   ],
   "source": [
    "# 14 count no.of uppercase in given string\n",
    "s=input()\n",
    "c=0\n",
    "for i in s:\n",
    "    if 'A'<=i<='Z':\n",
    "        c+=1\n",
    "print(c)"
   ]
  },
  {
   "cell_type": "code",
   "execution_count": 23,
   "metadata": {},
   "outputs": [
    {
     "name": "stdout",
     "output_type": "stream",
     "text": [
      "5\n"
     ]
    }
   ],
   "source": [
    "# 15 count no.of lower case\n",
    "s=input()\n",
    "c=0\n",
    "for i in s:\n",
    "    if 'a'<=i<='z' :\n",
    "        c+=1\n",
    "print(c)"
   ]
  },
  {
   "cell_type": "code",
   "execution_count": 22,
   "metadata": {},
   "outputs": [
    {
     "name": "stdout",
     "output_type": "stream",
     "text": [
      "3\n"
     ]
    }
   ],
   "source": [
    "# no of ascii numbers in given string\n",
    "s=input()\n",
    "c=0\n",
    "for i in s:\n",
    "    if '0'<=i<='9':\n",
    "        c+=1\n",
    "print(c)"
   ]
  },
  {
   "cell_type": "code",
   "execution_count": 24,
   "metadata": {},
   "outputs": [
    {
     "name": "stdout",
     "output_type": "stream",
     "text": [
      "4\n"
     ]
    }
   ],
   "source": [
    "# total no.of words in given string\n",
    "s=input()\n",
    "flag=False\n",
    "c=0\n",
    "for i in s:\n",
    "    if i!=' ':\n",
    "        if not flag:\n",
    "            c+=1\n",
    "            flag=True\n",
    "    else:\n",
    "        flag=False\n",
    "print(c)\n",
    "            "
   ]
  },
  {
   "cell_type": "code",
   "execution_count": 25,
   "metadata": {},
   "outputs": [
    {
     "name": "stdout",
     "output_type": "stream",
     "text": [
      "4\n"
     ]
    }
   ],
   "source": [
    "# total no.of spaces\n",
    "s=input()\n",
    "c=0\n",
    "for i in s:\n",
    "    if i==' ':\n",
    "        c+=1\n",
    "print(c)"
   ]
  },
  {
   "cell_type": "code",
   "execution_count": 26,
   "metadata": {},
   "outputs": [
    {
     "name": "stdout",
     "output_type": "stream",
     "text": [
      "3\n"
     ]
    }
   ],
   "source": [
    "# count no.of vowels in given string\n",
    "s=input()\n",
    "c=0\n",
    "for i in s:\n",
    "    if i in 'AEIOUaeiou':\n",
    "        c+=1\n",
    "print(c)"
   ]
  },
  {
   "cell_type": "code",
   "execution_count": 27,
   "metadata": {},
   "outputs": [
    {
     "name": "stdout",
     "output_type": "stream",
     "text": [
      "5\n"
     ]
    }
   ],
   "source": [
    "#  count consonants in given string\n",
    "s=input()\n",
    "c=0\n",
    "for i in s:\n",
    "    if i not in 'AEIOUaeiou':\n",
    "        c+=1\n",
    "print(c)"
   ]
  },
  {
   "cell_type": "code",
   "execution_count": null,
   "metadata": {},
   "outputs": [
    {
     "name": "stdout",
     "output_type": "stream",
     "text": [
      "0\n"
     ]
    }
   ],
   "source": [
    "# count of no.of new lines in given string  \n",
    "s=input()\n",
    "c=0\n",
    "for i in s:\n",
    "    if i=='\\n':\n",
    "        c+=1\n",
    "print(c)\n"
   ]
  },
  {
   "cell_type": "code",
   "execution_count": null,
   "metadata": {},
   "outputs": [],
   "source": [
    "# count no.of lines in given string\n",
    "s=input()\n",
    "c=0\n",
    "for i in s:\n",
    "    if i=='\\n':\n",
    "        c+=1\n",
    "print(c)\n"
   ]
  },
  {
   "cell_type": "code",
   "execution_count": 33,
   "metadata": {},
   "outputs": [
    {
     "name": "stdout",
     "output_type": "stream",
     "text": [
      "No of alphabets  6\n",
      "No of numbers  3\n",
      "No of special characters  3\n"
     ]
    }
   ],
   "source": [
    "# count no of alphabets,numbers,special characters\n",
    "s=input()\n",
    "a=0\n",
    "n=0\n",
    "sc=0\n",
    "for i in s:\n",
    "    if 'a'<=i<='z' or 'A'<=i<='Z':\n",
    "        a+=1\n",
    "    elif '0'<=i<='9':\n",
    "        n+=1\n",
    "    else:\n",
    "        sc+=1\n",
    "print(\"No of alphabets \",a)\n",
    "print(\"No of numbers \",n)\n",
    "print(\"No of special characters \",sc)\n"
   ]
  },
  {
   "cell_type": "code",
   "execution_count": null,
   "metadata": {},
   "outputs": [
    {
     "name": "stdout",
     "output_type": "stream",
     "text": [
      "2\n"
     ]
    }
   ],
   "source": [
    "# no of words in first line of doc string\n",
    "s='''hi \n",
    "hello'''\n",
    "c=0\n",
    "flag=False\n",
    "for i in s:\n",
    "    if i!='\\n':\n",
    "        if i!=' ':\n",
    "            if not flag:\n",
    "                c+=1\n",
    "                flag=True\n",
    "        else:\n",
    "            flag=False\n",
    "    else:\n",
    "        break\n",
    "print(c)\n",
    "        "
   ]
  },
  {
   "cell_type": "code",
   "execution_count": 1,
   "metadata": {},
   "outputs": [
    {
     "name": "stdout",
     "output_type": "stream",
     "text": [
      "0\n"
     ]
    }
   ],
   "source": [
    "# sum of digits in given string\n",
    "s=input()\n",
    "sum=0\n",
    "for i in s:\n",
    "    if '0'<=i<='9':\n",
    "        sum+=int(i)\n",
    "print(sum)\n"
   ]
  },
  {
   "cell_type": "code",
   "execution_count": 4,
   "metadata": {},
   "outputs": [
    {
     "name": "stdout",
     "output_type": "stream",
     "text": [
      "character not found\n"
     ]
    }
   ],
   "source": [
    "# first occurence of char in given  string\n",
    "s=input()\n",
    "k=input()\n",
    "for i in range(len(s)):\n",
    "    if s[i]==k:\n",
    "        print(i)\n",
    "        break\n",
    "if k not in s:\n",
    "    print(\"character not found\")\n"
   ]
  },
  {
   "cell_type": "code",
   "execution_count": null,
   "metadata": {},
   "outputs": [
    {
     "name": "stdout",
     "output_type": "stream",
     "text": [
      "6\n"
     ]
    }
   ],
   "source": [
    "# last occurence of char in string\n",
    "s=input()\n",
    "k=input()\n",
    "for i in range(len(s)-1,-1,-1):\n",
    "    if s[i]==k:\n",
    "        print(i)\n",
    "        break\n",
    "if k not in s:\n",
    "    print(\"character not found\")"
   ]
  },
  {
   "cell_type": "code",
   "execution_count": 5,
   "metadata": {},
   "outputs": [
    {
     "name": "stdout",
     "output_type": "stream",
     "text": [
      "No second occurence of given character\n"
     ]
    }
   ],
   "source": [
    "# first not occurence of char in given  string\n",
    "s=input()\n",
    "k=input()\n",
    "c=0\n",
    "for i in range(len(s)):\n",
    "    if s[i]==k:\n",
    "        c+=1\n",
    "        if c==2:\n",
    "            print(i)\n",
    "            break\n",
    "if c==1:\n",
    "    print(\"No second occurence of given character\")\n",
    "else:\n",
    "    print('Character not found')"
   ]
  },
  {
   "cell_type": "code",
   "execution_count": 10,
   "metadata": {},
   "outputs": [
    {
     "name": "stdout",
     "output_type": "stream",
     "text": [
      "No second last occurence of given character\n"
     ]
    }
   ],
   "source": [
    "# last not occurence of char in string\n",
    "s=input()\n",
    "k=input()\n",
    "c=0\n",
    "for i in range(len(s)-1,-1,-1):\n",
    "    if s[i]==k:\n",
    "        c+=1\n",
    "        if c==2:\n",
    "            print(i)\n",
    "            break\n",
    "if c==1:\n",
    "    print(\"No second last occurence of given character\")\n",
    "else:\n",
    "    print('Character not found')"
   ]
  },
  {
   "cell_type": "code",
   "execution_count": 11,
   "metadata": {},
   "outputs": [
    {
     "name": "stdout",
     "output_type": "stream",
     "text": [
      "Pythnok\n"
     ]
    }
   ],
   "source": [
    "# remove first occurence of character -->doubt\n",
    "s=input()\n",
    "k=input()\n",
    "res=''\n",
    "fo=0\n",
    "for i in range(len(s)):\n",
    "    if s[i]==k:\n",
    "        fo=i\n",
    "        break\n",
    "res=s[:fo]+s[fo+1:]\n",
    "print(res)\n",
    "if k not in s:\n",
    "    print(\"character not found\")\n"
   ]
  },
  {
   "cell_type": "code",
   "execution_count": null,
   "metadata": {},
   "outputs": [],
   "source": [
    "# remove last occurence\n",
    "s=input()\n",
    "k=input()\n",
    "lo=0\n",
    "res=''\n",
    "for i in range(len(s)-1,-1,-1):\n",
    "    if s[i]==k:\n",
    "        lo=i\n",
    "        break\n",
    "res=s[:lo]+s[lo+1:]\n",
    "print(res)\n",
    "if k not in s:\n",
    "    print(\"character not found\")"
   ]
  },
  {
   "cell_type": "code",
   "execution_count": 12,
   "metadata": {},
   "outputs": [
    {
     "name": "stdout",
     "output_type": "stream",
     "text": [
      "o : 4\n"
     ]
    }
   ],
   "source": [
    "# count occurence specific char\n",
    "s=input()\n",
    "k=input()\n",
    "c=0\n",
    "for i in s:\n",
    "    if i==k:\n",
    "        c+=1\n",
    "print(k,\":\",c)"
   ]
  },
  {
   "cell_type": "code",
   "execution_count": null,
   "metadata": {},
   "outputs": [
    {
     "name": "stdout",
     "output_type": "stream",
     "text": [
      "3\n"
     ]
    }
   ],
   "source": [
    "# count max occurence of char\n",
    "s=input()\n",
    "k=input()\n",
    "max_occur=0\n",
    "c=0\n",
    "for i in s:\n",
    "    if i==k:\n",
    "        c+=1\n",
    "    \n",
    "print(c)\n",
    "    "
   ]
  },
  {
   "cell_type": "code",
   "execution_count": null,
   "metadata": {},
   "outputs": [],
   "source": [
    "# min occurence of char\n"
   ]
  },
  {
   "cell_type": "code",
   "execution_count": 13,
   "metadata": {},
   "outputs": [
    {
     "name": "stdout",
     "output_type": "stream",
     "text": [
      "n : 3\n"
     ]
    }
   ],
   "source": [
    "# count of repeats of specific char\n",
    "s=input()\n",
    "k=input()\n",
    "c=0\n",
    "for i in s:\n",
    "    if i==k:\n",
    "        c+=1\n",
    "print(k,\":\",c)"
   ]
  },
  {
   "cell_type": "code",
   "execution_count": 15,
   "metadata": {},
   "outputs": [
    {
     "name": "stdout",
     "output_type": "stream",
     "text": [
      "m 4\n"
     ]
    }
   ],
   "source": [
    "# max repeated char\n",
    "s=input()\n",
    "mch=s[0]\n",
    "mc=0\n",
    "for i in s:\n",
    "    ch=i\n",
    "    c=0\n",
    "    for j in s:\n",
    "        if j==ch:\n",
    "            c+=1\n",
    "    if c>mc:\n",
    "        mc=c\n",
    "        mch=ch\n",
    "print(mch,mc)"
   ]
  },
  {
   "cell_type": "code",
   "execution_count": 17,
   "metadata": {},
   "outputs": [
    {
     "name": "stdout",
     "output_type": "stream",
     "text": [
      "y 1\n"
     ]
    }
   ],
   "source": [
    "# min repeated char\n",
    "s=input()\n",
    "mch=s[0]\n",
    "mc=len(s)\n",
    "for i in s:\n",
    "    ch=i\n",
    "    c=0\n",
    "    for j in s:\n",
    "        if j==ch:\n",
    "            c+=1\n",
    "    if c<mc:\n",
    "        mc=c\n",
    "        mch=ch\n",
    "print(mch,mc)"
   ]
  },
  {
   "cell_type": "code",
   "execution_count": 18,
   "metadata": {},
   "outputs": [
    {
     "name": "stdout",
     "output_type": "stream",
     "text": [
      "Pythiniracle\n"
     ]
    }
   ],
   "source": [
    "# replace specific char with new char\n",
    "s=input()\n",
    "k=input()\n",
    "new=input()\n",
    "res=''\n",
    "for i in s:\n",
    "    if i!=k:\n",
    "        res+=i\n",
    "    else:\n",
    "        res+=new\n",
    "\n",
    "print(res)"
   ]
  },
  {
   "cell_type": "code",
   "execution_count": 21,
   "metadata": {},
   "outputs": [
    {
     "name": "stdout",
     "output_type": "stream",
     "text": [
      "PYTHON\n"
     ]
    }
   ],
   "source": [
    "# convert lower case to upper case\n",
    "s=input()\n",
    "res=''\n",
    "for i in s:\n",
    "    if 'a'<=i<='z':\n",
    "        res+=chr(ord(i)-32)\n",
    "    else:\n",
    "        res+=i\n",
    "print(res)\n"
   ]
  },
  {
   "cell_type": "code",
   "execution_count": 22,
   "metadata": {},
   "outputs": [
    {
     "name": "stdout",
     "output_type": "stream",
     "text": [
      "python\n"
     ]
    }
   ],
   "source": [
    "# convert upper case to lower case\n",
    "s=input()\n",
    "res=''\n",
    "for i in s:\n",
    "    if 'A'<=i<='Z':\n",
    "        res+=chr(ord(i)+32)\n",
    "    else:\n",
    "        res+=i\n",
    "print(res)"
   ]
  },
  {
   "cell_type": "code",
   "execution_count": 25,
   "metadata": {},
   "outputs": [
    {
     "name": "stdout",
     "output_type": "stream",
     "text": [
      "PyThOn\n"
     ]
    }
   ],
   "source": [
    "# convert upper case to lower in even postions\n",
    "s=input()\n",
    "res=''\n",
    "for i in range(len(s)):\n",
    "    if i%2==0:\n",
    "        if 'a'<=s[i]<='z':\n",
    "            res+=chr(ord(s[i])-32)\n",
    "        else:\n",
    "            res+=s[i]\n",
    "    else:\n",
    "        res+=s[i]\n",
    "print(res)"
   ]
  },
  {
   "cell_type": "code",
   "execution_count": 26,
   "metadata": {},
   "outputs": [
    {
     "name": "stdout",
     "output_type": "stream",
     "text": [
      "PYtHoN\n"
     ]
    }
   ],
   "source": [
    "# convert upper case to lower in odd postions\n",
    "s=input()\n",
    "res=''\n",
    "for i in range(len(s)):\n",
    "    if i%2!=0:\n",
    "        if 'a'<=s[i]<='z':\n",
    "            res+=chr(ord(s[i])-32)\n",
    "        else:\n",
    "            res+=s[i]\n",
    "    else:\n",
    "        res+=s[i]\n",
    "print(res)"
   ]
  },
  {
   "cell_type": "code",
   "execution_count": 27,
   "metadata": {},
   "outputs": [
    {
     "name": "stdout",
     "output_type": "stream",
     "text": [
      "pYTHON***\n"
     ]
    }
   ],
   "source": [
    "# convert the uppercase letter to lowercase letter and lowercase\n",
    "# letter to uppercase letter,if the character is special symbol replace with\n",
    "# * for the given input string.\n",
    "s=input()\n",
    "res=''\n",
    "for i in s:\n",
    "    if 'a'<=i<='z':\n",
    "        res+=chr(ord(i)-32)\n",
    "    elif 'A'<=i<='Z':\n",
    "        res+=chr(ord(i)+32)\n",
    "    elif not ('a'<=i<='z' or 'A'<=i<='Z' or '0'<=i<='9' ):\n",
    "        res+='*'\n",
    "    else:\n",
    "        res+=i\n",
    "print(res)\n"
   ]
  },
  {
   "cell_type": "code",
   "execution_count": null,
   "metadata": {},
   "outputs": [
    {
     "name": "stdout",
     "output_type": "stream",
     "text": [
      "Adarsha 34Rd Urg\n"
     ]
    }
   ],
   "source": [
    "# convert title case in a given string.\n",
    "s=input()\n",
    "res=''\n",
    "flag=True\n",
    "for i in s:\n",
    "    if 'a'<=i<='z' and flag:\n",
    "        res+=chr(ord(i)-32)\n",
    "        flag=False\n",
    "    elif i==' ' or '0'<=i<='9':\n",
    "        flag=True\n",
    "        res+=i\n",
    "    else:\n",
    "        res+=i\n",
    "print(res)\n"
   ]
  },
  {
   "cell_type": "code",
   "execution_count": 15,
   "metadata": {},
   "outputs": [
    {
     "name": "stdout",
     "output_type": "stream",
     "text": [
      "adarsha_babu_rocky\n"
     ]
    }
   ],
   "source": [
    "# convert snake_case in a given string.\n",
    "s=input()\n",
    "res=''\n",
    "for i in s:\n",
    "    if 'A'<=i<='Z':\n",
    "        res+=chr(ord(i)+32)\n",
    "    elif i==' ':\n",
    "        res+='_'\n",
    "    else:\n",
    "        res+=i\n",
    "print(res)\n"
   ]
  },
  {
   "cell_type": "code",
   "execution_count": null,
   "metadata": {},
   "outputs": [],
   "source": [
    "# Toggle Characters Case in a String.\n",
    "s = input()\n",
    "res = \"\"\n",
    "for i in s:\n",
    "    if 'a' <= i <= 'z':\n",
    "        res += chr(ord(i) - 32)\n",
    "    elif 'A' <= i <= 'Z':\n",
    "        res += chr(ord(i) + 32)\n",
    "    else:\n",
    "        res += i\n",
    "\n",
    "print(res)\n"
   ]
  },
  {
   "cell_type": "code",
   "execution_count": 1,
   "metadata": {},
   "outputs": [
    {
     "name": "stdout",
     "output_type": "stream",
     "text": [
      "S6973Bsmd\n"
     ]
    }
   ],
   "source": [
    "# replace vowels into ascii values in a given string.\n",
    "s=input()\n",
    "res=''\n",
    "for i in s:\n",
    "    if i in 'AEIOUaeiou':\n",
    "        res+=str(ord(i))\n",
    "    else:\n",
    "        res+=i\n",
    "\n",
    "print(res)"
   ]
  },
  {
   "cell_type": "code",
   "execution_count": 2,
   "metadata": {},
   "outputs": [
    {
     "name": "stdout",
     "output_type": "stream",
     "text": [
      "A68E8284687270\n"
     ]
    }
   ],
   "source": [
    "# replace consonants into ascii values in a given string.\n",
    "s=input()\n",
    "res=''\n",
    "for i in s:\n",
    "    if i not  in 'AEIOUaeiou':\n",
    "        res+=str(ord(i))\n",
    "    else:\n",
    "        res+=i\n",
    "\n",
    "print(res)"
   ]
  },
  {
   "cell_type": "code",
   "execution_count": 9,
   "metadata": {},
   "outputs": [
    {
     "name": "stdout",
     "output_type": "stream",
     "text": [
      "w100g102d\n"
     ]
    }
   ],
   "source": [
    "# replace consonants into ascii values in odd position characters a given string.\n",
    "s=input()\n",
    "res=''\n",
    "for i in range(len(s)):\n",
    "    if i%2!=0:\n",
    "        if s[i] not  in 'AEIOUaeiou':\n",
    "            res+=str(ord(s[i]))\n",
    "        else:\n",
    "            res+=s[i]\n",
    "    else:\n",
    "        res+=s[i]\n",
    "print(res)"
   ]
  },
  {
   "cell_type": "code",
   "execution_count": null,
   "metadata": {},
   "outputs": [],
   "source": [
    "# replace consonants into ascii values in even position characters a given string.\n",
    "s=input()\n",
    "res=''\n",
    "for i in range(len(s)):\n",
    "    if i%2==0:\n",
    "        if s[i] not  in 'AEIOUaeiou':\n",
    "            res+=str(ord(s[i]))\n",
    "        else:\n",
    "            res+=s[i]\n",
    "    else:\n",
    "        res+=s[i]\n",
    "print(res)"
   ]
  },
  {
   "cell_type": "code",
   "execution_count": 10,
   "metadata": {},
   "outputs": [
    {
     "name": "stdout",
     "output_type": "stream",
     "text": [
      "ada-rsh\n"
     ]
    }
   ],
   "source": [
    "# WAP to Replace white Spaces with Hyphen in a String.\n",
    "s=input()\n",
    "res=''\n",
    "for i in s:\n",
    "    if i!=' ':\n",
    "        res+=i\n",
    "    else:\n",
    "        res+='-'\n",
    "print(res)"
   ]
  },
  {
   "cell_type": "code",
   "execution_count": null,
   "metadata": {},
   "outputs": [
    {
     "name": "stdout",
     "output_type": "stream",
     "text": [
      "Pto\n"
     ]
    }
   ],
   "source": [
    "# to remove odd position chars in given string\n",
    "# eg:python\n",
    "s=input()\n",
    "res=''\n",
    "for i in range(len(s)):\n",
    "    if i%2==0:\n",
    "        res+=s[i]\n",
    "    else:\n",
    "        continue\n",
    "print(res)"
   ]
  },
  {
   "cell_type": "code",
   "execution_count": 2,
   "metadata": {},
   "outputs": [
    {
     "name": "stdout",
     "output_type": "stream",
     "text": [
      "yhn\n"
     ]
    }
   ],
   "source": [
    "#  to remove odd position chars in given string\n",
    "s=input()\n",
    "res=''\n",
    "for i in range(len(s)):\n",
    "    if i%2!=0:\n",
    "        res+=s[i]\n",
    "    else:\n",
    "        continue\n",
    "print(res)"
   ]
  },
  {
   "cell_type": "code",
   "execution_count": 2,
   "metadata": {},
   "outputs": [
    {
     "name": "stdout",
     "output_type": "stream",
     "text": [
      "%^&457\n"
     ]
    }
   ],
   "source": [
    "#  to remove alphabets in given string\n",
    "s=input()\n",
    "res=''\n",
    "for i in s:\n",
    "    if not ('a'<=i<='z' or 'A'<=i<='Z'):\n",
    "        res+=i\n",
    "    else:\n",
    "        continue\n",
    "print(res)"
   ]
  },
  {
   "cell_type": "code",
   "execution_count": 3,
   "metadata": {},
   "outputs": [
    {
     "name": "stdout",
     "output_type": "stream",
     "text": [
      "Python456\n"
     ]
    }
   ],
   "source": [
    "#  to remove special chars in given string\n",
    "s=input()\n",
    "res=''\n",
    "for i in s:\n",
    "    if 'a'<=i<='z' or 'A'<=i<='Z' or '0'<=i<='9':\n",
    "        res+=i\n",
    "    else:\n",
    "        continue\n",
    "print(res)"
   ]
  },
  {
   "cell_type": "code",
   "execution_count": 4,
   "metadata": {},
   "outputs": [
    {
     "name": "stdout",
     "output_type": "stream",
     "text": [
      "Python\n"
     ]
    }
   ],
   "source": [
    "# remove ascii numbers in given string\n",
    "s=input()\n",
    "res=''\n",
    "for i in s:\n",
    "    if not ('0'<=i<='9'):\n",
    "        res+=i\n",
    "    else:\n",
    "        continue\n",
    "print(res)"
   ]
  },
  {
   "cell_type": "code",
   "execution_count": 5,
   "metadata": {},
   "outputs": [
    {
     "name": "stdout",
     "output_type": "stream",
     "text": [
      "Palindrome\n"
     ]
    }
   ],
   "source": [
    "# check given string  palindrome or not\n",
    "s=input()\n",
    "res=''\n",
    "for i in s:\n",
    "    res=i+res\n",
    "if s==res:\n",
    "    print('Palindrome')\n",
    "else:\n",
    "    print('Not a Palindrome')"
   ]
  },
  {
   "cell_type": "code",
   "execution_count": 6,
   "metadata": {},
   "outputs": [
    {
     "name": "stdout",
     "output_type": "stream",
     "text": [
      "Yes\n"
     ]
    }
   ],
   "source": [
    "# check whether the given string is lowercase or not.\n",
    "s=input()\n",
    "flag=True\n",
    "for i in s:\n",
    "    if 'A'<=i<='Z':\n",
    "        flag=False\n",
    "        break\n",
    "if flag:\n",
    "    print(\"Yes\")\n",
    "else:\n",
    "    print(\"No\")\n"
   ]
  },
  {
   "cell_type": "code",
   "execution_count": 7,
   "metadata": {},
   "outputs": [
    {
     "name": "stdout",
     "output_type": "stream",
     "text": [
      "No\n"
     ]
    }
   ],
   "source": [
    "# check given number is string or not\n",
    "s=eval(input())\n",
    "if type(s)==str:\n",
    "    print(\"Yes\")\n",
    "else:\n",
    "    print(\"No\")"
   ]
  },
  {
   "cell_type": "code",
   "execution_count": 17,
   "metadata": {},
   "outputs": [
    {
     "name": "stdout",
     "output_type": "stream",
     "text": [
      "eoo123aii\n"
     ]
    }
   ],
   "source": [
    "# \n",
    "s='hello world 123 haii'\n",
    "res=''\n",
    "for i in s:\n",
    "    if i in 'aeiou' or '0'<=i<='9':\n",
    "        res+=i\n",
    "print(res)"
   ]
  },
  {
   "cell_type": "code",
   "execution_count": 21,
   "metadata": {},
   "outputs": [
    {
     "name": "stdout",
     "output_type": "stream",
     "text": [
      "eo o 123 aii\n"
     ]
    }
   ],
   "source": [
    "s='hello world 123 haii'\n",
    "res=''\n",
    "for i in s:\n",
    "    if i in 'aeiou' or '0'<=i<='9':\n",
    "        res+=i\n",
    "    elif i==' ':\n",
    "        res+=i\n",
    "print(res)"
   ]
  },
  {
   "cell_type": "code",
   "execution_count": 22,
   "metadata": {},
   "outputs": [
    {
     "name": "stdout",
     "output_type": "stream",
     "text": [
      "eo o  aii\n"
     ]
    }
   ],
   "source": [
    "s='hello world 123 haii'\n",
    "res=''\n",
    "for i in s:\n",
    "    if i in 'aeiou' :\n",
    "        res+=i\n",
    "    elif i==' ':\n",
    "        res+=i\n",
    "print(res)"
   ]
  },
  {
   "cell_type": "code",
   "execution_count": 26,
   "metadata": {},
   "outputs": [
    {
     "name": "stdout",
     "output_type": "stream",
     "text": [
      "hll wrld 123 h\n"
     ]
    }
   ],
   "source": [
    "s='hello world 123 haii'\n",
    "res=''\n",
    "for i in s:\n",
    "    if i not in 'aeiou' :\n",
    "        res+=i\n",
    "\n",
    "print(res)"
   ]
  },
  {
   "cell_type": "code",
   "execution_count": 27,
   "metadata": {},
   "outputs": [
    {
     "name": "stdout",
     "output_type": "stream",
     "text": [
      "hll wrld\n",
      "eoo\n"
     ]
    }
   ],
   "source": [
    "s='hello world'\n",
    "res1=''\n",
    "res2=''\n",
    "for i in s:\n",
    "    if i in 'aeiou':\n",
    "        res2+=i\n",
    "    else:\n",
    "        res1+=i\n",
    "print(res1)\n",
    "print(res2)"
   ]
  },
  {
   "cell_type": "code",
   "execution_count": 8,
   "metadata": {},
   "outputs": [
    {
     "name": "stdout",
     "output_type": "stream",
     "text": [
      "hll wrld\n",
      "eoo\n",
      "12344\n"
     ]
    }
   ],
   "source": [
    "# i/p:’12hello3 4world4’\n",
    "# o/p:’hll wrld’\n",
    "# o/p:’eoo’\n",
    "# o/p:’12344’\n",
    "\n",
    "s='12hello3 4world4'\n",
    "res1=''\n",
    "res2=''\n",
    "res3=''\n",
    "for i in s:\n",
    "    if i in 'aeiou':\n",
    "        res2+=i\n",
    "    elif '0'<=i<='9':\n",
    "        res3+=i\n",
    "    else:\n",
    "        res1+=i\n",
    "print(res1)\n",
    "print(res2)\n",
    "print(res3)"
   ]
  },
  {
   "cell_type": "code",
   "execution_count": 9,
   "metadata": {},
   "outputs": [
    {
     "name": "stdout",
     "output_type": "stream",
     "text": [
      "hllwrld\n",
      "eoo\n",
      "12344\n",
      "(*$ $#*)\n"
     ]
    }
   ],
   "source": [
    "# i/p:’(*12hello3$ $4#world4*)’\n",
    "# o/p:’hllwrld’\n",
    "# o/p:’eoo’\n",
    "# o/p:’12344’\n",
    "# o/p:’(*$ $#*)\n",
    "s='(*12hello3$ $4#world4*)'\n",
    "res1=''\n",
    "res2=''\n",
    "res3=''\n",
    "res4=''\n",
    "for i in s:\n",
    "    if i in 'aeiou':\n",
    "        res2+=i\n",
    "    elif '0'<=i<='9':\n",
    "        res3+=i\n",
    "    elif not ('a'<=i<='z' or '0'<=i<='9'):\n",
    "        res4+=i\n",
    "    else:\n",
    "        res1+=i\n",
    "print(res1)\n",
    "print(res2)\n",
    "print(res3)\n",
    "print(res4)"
   ]
  },
  {
   "cell_type": "code",
   "execution_count": 10,
   "metadata": {},
   "outputs": [
    {
     "name": "stdout",
     "output_type": "stream",
     "text": [
      "(*$ $#*),12344,eoo,hllwrld\n"
     ]
    }
   ],
   "source": [
    "# i/p: ’(*12hello3$ $4#world4*)’\n",
    "# o/p: ')*#$ $*(,44321,ooe,dlrwllh'\n",
    "\n",
    "s='(*12hello3$ $4#world4*)'\n",
    "res1=''\n",
    "res2=''\n",
    "res3=''\n",
    "res4=''\n",
    "for i in s:\n",
    "    if i in 'aeiou':\n",
    "        res2+=i\n",
    "    elif '0'<=i<='9':\n",
    "        res3+=i\n",
    "    elif not ('a'<=i<='z' or '0'<=i<='9'):\n",
    "        res4+=i\n",
    "    else:\n",
    "        res1+=i\n",
    "print(res4,res3,res2,res1,sep=',')\n"
   ]
  },
  {
   "cell_type": "code",
   "execution_count": 11,
   "metadata": {},
   "outputs": [
    {
     "name": "stdout",
     "output_type": "stream",
     "text": [
      "hllwrld,eoo,12344,(*$ $#*)\n"
     ]
    }
   ],
   "source": [
    "# i/p: ’(*12hello3$ $4#world4*)’\n",
    "# o/p:’hllwrld,eoo,12344,(*$ $#*)’\n",
    "\n",
    "s='(*12hello3$ $4#world4*)'\n",
    "res1=''\n",
    "res2=''\n",
    "res3=''\n",
    "res4=''\n",
    "for i in s:\n",
    "    if i in 'aeiou':\n",
    "        res2+=i\n",
    "    elif '0'<=i<='9':\n",
    "        res3+=i\n",
    "    elif not ('a'<=i<='z' or '0'<=i<='9'):\n",
    "        res4+=i\n",
    "    else:\n",
    "        res1+=i\n",
    "print(res1,res2,res3,res4,sep=',')\n"
   ]
  },
  {
   "cell_type": "code",
   "execution_count": 12,
   "metadata": {},
   "outputs": [
    {
     "name": "stdout",
     "output_type": "stream",
     "text": [
      "hllwrld,(*$ $#*),eoo,12344\n"
     ]
    }
   ],
   "source": [
    "# i/p: ’(*12hello3$ $4#world4*)’\n",
    "# o/p:’hllwrld,)*#$ $*(’,eoo,44321’\n",
    "\n",
    "s='(*12hello3$ $4#world4*)'\n",
    "res1=''\n",
    "res2=''\n",
    "res3=''\n",
    "res4=''\n",
    "for i in s:\n",
    "    if i in 'aeiou':\n",
    "        res2+=i\n",
    "    elif '0'<=i<='9':\n",
    "        res3+=i\n",
    "    elif not ('a'<=i<='z' or '0'<=i<='9'):\n",
    "        res4+=i\n",
    "    else:\n",
    "        res1+=i\n",
    "print(res1,res4,res2,res3,sep=',')\n"
   ]
  },
  {
   "cell_type": "code",
   "execution_count": 15,
   "metadata": {},
   "outputs": [
    {
     "name": "stdout",
     "output_type": "stream",
     "text": [
      "dlrwllh)*#$ $*(ooe44321\n"
     ]
    }
   ],
   "source": [
    "# i/p: ’(*12hello3$ $4#world4*)’\n",
    "# o/p:’dlrwllh)*#$ $*(ooe44321’\n",
    "\n",
    "s='(*12hello3$ $4#world4*)'\n",
    "res1=''\n",
    "res2=''\n",
    "res3=''\n",
    "res4=''\n",
    "for i in s:\n",
    "    if i in 'aeiou':\n",
    "        res2+=i\n",
    "    elif '0'<=i<='9':\n",
    "        res3+=i\n",
    "    elif not ('a'<=i<='z' or '0'<=i<='9'):\n",
    "        res4+=i\n",
    "    else:\n",
    "        res1+=i\n",
    "\n",
    "out1=''\n",
    "out2=''\n",
    "out3=''\n",
    "out4=''\n",
    "for i in res1:\n",
    "    out1=i+out1\n",
    "for i in res2:\n",
    "    out2=i+out2\n",
    "for i in res3:\n",
    "    out3=i+out3\n",
    "for i in res4:\n",
    "    out4=i+out4\n",
    "    \n",
    "print(out1,out4,out2,out3,sep='')"
   ]
  },
  {
   "cell_type": "code",
   "execution_count": null,
   "metadata": {},
   "outputs": [],
   "source": []
  },
  {
   "cell_type": "code",
   "execution_count": 29,
   "metadata": {},
   "outputs": [
    {
     "name": "stdout",
     "output_type": "stream",
     "text": [
      "nythoP\n"
     ]
    }
   ],
   "source": [
    "#WAP to Form a New String where the First Character and the Last Character\n",
    "# have been Exchanged\n",
    "s = \"Python\"\n",
    "if len(s) <= 1:\n",
    "    print(s)\n",
    "else:\n",
    "    res = s[-1]\n",
    "    for i in range(1, len(s) - 1):\n",
    "        res += s[i]\n",
    "    res += s[0]\n",
    "    print(res)\n"
   ]
  },
  {
   "cell_type": "code",
   "execution_count": 37,
   "metadata": {},
   "outputs": [
    {
     "name": "stdout",
     "output_type": "stream",
     "text": [
      "ppuY oediv secivres\n"
     ]
    }
   ],
   "source": [
    "s = \"Yupp video services\"\n",
    "words = []\n",
    "word = \"\"\n",
    "for i in s + \" \":\n",
    "    if i != \" \":\n",
    "        word += i\n",
    "    else:\n",
    "        words+=[word]\n",
    "        word = \"\"\n",
    "for i in range(len(words)):\n",
    "    rev = \"\"\n",
    "    for j in words[i]:\n",
    "        rev = j + rev\n",
    "    words[i] = rev\n",
    "res = \"\"\n",
    "for w in words:\n",
    "    if res != \"\":\n",
    "        res += \" \"\n",
    "    res += w\n",
    "print(res)\n"
   ]
  },
  {
   "cell_type": "code",
   "execution_count": 4,
   "metadata": {},
   "outputs": [
    {
     "name": "stdout",
     "output_type": "stream",
     "text": [
      "[1, 2, 3, 4, 5, 8]\n"
     ]
    }
   ],
   "source": [
    "# Write a program to remove the duplicates in a given list.\n",
    "lst=eval(input())\n",
    "res = []\n",
    "for i in lst:\n",
    "    if i not in res:\n",
    "        res+=[i]\n",
    "print(res)\n"
   ]
  },
  {
   "cell_type": "code",
   "execution_count": null,
   "metadata": {},
   "outputs": [
    {
     "name": "stdout",
     "output_type": "stream",
     "text": [
      "oftheday\n"
     ]
    }
   ],
   "source": [
    "# longest substring without repeating characters\n",
    "s = \"javaconceptoftheday\"\n",
    "i = 0\n",
    "j = 0\n",
    "v = []\n",
    "res = \"\"\n",
    "max_length = 0\n",
    "while j < len(s):\n",
    "    ch = s[j]\n",
    "    while ch in v:\n",
    "        v=v[1:]\n",
    "        i += 1\n",
    "    v+=[ch]\n",
    "    if len(v) > max_length:\n",
    "        max_length = len(v)\n",
    "        res = \"\".join(v)\n",
    "    j += 1\n",
    "print(res)\n"
   ]
  },
  {
   "cell_type": "code",
   "execution_count": 36,
   "metadata": {},
   "outputs": [
    {
     "name": "stdout",
     "output_type": "stream",
     "text": [
      "{'python': 1, 'is': 1, 'a': 1, 'programming': 1, 'language': 1}\n"
     ]
    }
   ],
   "source": [
    "sentence = \"python is a programming language\"\n",
    "words = []\n",
    "word = \"\"\n",
    "for i in sentence + \" \":\n",
    "    if i != \" \":\n",
    "        word += i\n",
    "    else:\n",
    "        words+=[word]\n",
    "        word = \"\"\n",
    "word_count = {}\n",
    "for i in words:\n",
    "    word_count[i]=1\n",
    "print(word_count)\n"
   ]
  },
  {
   "cell_type": "code",
   "execution_count": null,
   "metadata": {},
   "outputs": [],
   "source": [
    "# WAPto reverse alternate words of a given string starting with the first\n",
    "# word and the swap first and last char of the remaining words.\n",
    "# For example, if “Java Concept for The Day” is input string then output\n",
    "# should be “avaJ toncepc rof eht yaD”  "
   ]
  }
 ],
 "metadata": {
  "kernelspec": {
   "display_name": "Python 3",
   "language": "python",
   "name": "python3"
  },
  "language_info": {
   "codemirror_mode": {
    "name": "ipython",
    "version": 3
   },
   "file_extension": ".py",
   "mimetype": "text/x-python",
   "name": "python",
   "nbconvert_exporter": "python",
   "pygments_lexer": "ipython3",
   "version": "3.13.1"
  }
 },
 "nbformat": 4,
 "nbformat_minor": 2
}
