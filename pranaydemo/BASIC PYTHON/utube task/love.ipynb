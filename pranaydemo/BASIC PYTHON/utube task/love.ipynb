{
 "cells": [
  {
   "cell_type": "code",
   "execution_count": 2,
   "metadata": {},
   "outputs": [
    {
     "name": "stdout",
     "output_type": "stream",
     "text": [
      "your love percentage is 96\n"
     ]
    }
   ],
   "source": [
    "name1=input(\"enter name\")\n",
    "name2=input(\"enter name\")\n",
    "names=name1+name2\n",
    "lowercase=names.lower()\n",
    "t=lowercase.count('t')\n",
    "r=lowercase.count('r')\n",
    "u=lowercase.count('u')\n",
    "e=lowercase.count('e')\n",
    "l=lowercase.count('l')\n",
    "o=lowercase.count('o')\n",
    "v=lowercase.count('v')\n",
    "e=lowercase.count('e')\n",
    "true=t+r+u+e\n",
    "love=l+o+v+e\n",
    "lovecalculator=str(true)+str(love)\n",
    "print(f\"your love percentage is {lovecalculator}\")"
   ]
  }
 ],
 "metadata": {
  "kernelspec": {
   "display_name": "Python 3",
   "language": "python",
   "name": "python3"
  },
  "language_info": {
   "codemirror_mode": {
    "name": "ipython",
    "version": 3
   },
   "file_extension": ".py",
   "mimetype": "text/x-python",
   "name": "python",
   "nbconvert_exporter": "python",
   "pygments_lexer": "ipython3",
   "version": "3.13.1"
  }
 },
 "nbformat": 4,
 "nbformat_minor": 2
}
