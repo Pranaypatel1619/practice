{
 "cells": [
  {
   "cell_type": "code",
   "execution_count": 1,
   "metadata": {},
   "outputs": [
    {
     "name": "stdout",
     "output_type": "stream",
     "text": [
      "19\n",
      "0\n",
      "1\n",
      "1619\n"
     ]
    },
    {
     "ename": "ValueError",
     "evalue": "invalid literal for int() with base 10: '16.19'",
     "output_type": "error",
     "traceback": [
      "\u001b[0;31m---------------------------------------------------------------------------\u001b[0m",
      "\u001b[0;31mValueError\u001b[0m                                Traceback (most recent call last)",
      "Cell \u001b[0;32mIn[1], line 26\u001b[0m\n\u001b[1;32m     24\u001b[0m \u001b[38;5;28mprint\u001b[39m(\u001b[38;5;28mint\u001b[39m(st2)) \n\u001b[1;32m     25\u001b[0m st3\u001b[38;5;241m=\u001b[39m\u001b[38;5;124m'\u001b[39m\u001b[38;5;124m16.19\u001b[39m\u001b[38;5;124m'\u001b[39m\n\u001b[0;32m---> 26\u001b[0m \u001b[38;5;28mprint\u001b[39m(\u001b[38;5;28;43mint\u001b[39;49m\u001b[43m(\u001b[49m\u001b[43mst3\u001b[49m\u001b[43m)\u001b[49m)\n\u001b[1;32m     28\u001b[0m \u001b[38;5;66;03m# with list\u001b[39;00m\n\u001b[1;32m     29\u001b[0m \u001b[38;5;66;03m# l=[100,200,'java']\u001b[39;00m\n\u001b[1;32m     30\u001b[0m \u001b[38;5;66;03m# print(int(l)) -->type error\u001b[39;00m\n\u001b[0;32m   (...)\u001b[0m\n\u001b[1;32m     42\u001b[0m     \u001b[38;5;66;03m# 102:'pyt' }\u001b[39;00m\n\u001b[1;32m     43\u001b[0m \u001b[38;5;66;03m# print(int(dit)) -->type error\u001b[39;00m\n",
      "\u001b[0;31mValueError\u001b[0m: invalid literal for int() with base 10: '16.19'"
     ]
    }
   ],
   "source": [
    "#typecasting with intger\n",
    "\n",
    "# with float\n",
    "f=19.16\n",
    "print(int(f))\n",
    "\n",
    "# with complex\n",
    "# c=16+19j\n",
    "# print(int(c))  --->complex to int not possible\n",
    "\n",
    "# with bool\n",
    "b=False\n",
    "print(int(b))\n",
    "b=True\n",
    "print(int(b))\n",
    "\n",
    "\n",
    "# with string \n",
    "# st='python'\n",
    "# print(int(st)) \n",
    "# st1='P'\n",
    "# print(int(st1)) -->value error\n",
    "st2='1619'\n",
    "print(int(st2)) \n",
    "st3='16.19'\n",
    "print(int(st3))\n",
    "\n",
    "# with list\n",
    "# l=[100,200,'java']\n",
    "# print(int(l)) -->type error\n",
    "\n",
    "# with set\n",
    "# s={100,200,'java'}\n",
    "# print(int(s)) -->type error\n",
    "\n",
    "#with tuple\n",
    "# t={100,6+7j}\n",
    "# print(int(t)) -->type error\n",
    "\n",
    "#with distonary\n",
    "# dit={101:'java',\n",
    "    # 102:'pyt' }\n",
    "# print(int(dit)) -->type error"
   ]
  },
  {
   "cell_type": "code",
   "execution_count": null,
   "metadata": {},
   "outputs": [
    {
     "ename": "SyntaxError",
     "evalue": "expected ':' (2875516097.py, line 7)",
     "output_type": "error",
     "traceback": [
      "\u001b[0;36m  Cell \u001b[0;32mIn[8], line 7\u001b[0;36m\u001b[0m\n\u001b[0;31m    with complex\u001b[0m\n\u001b[0m                ^\u001b[0m\n\u001b[0;31mSyntaxError\u001b[0m\u001b[0;31m:\u001b[0m expected ':'\n"
     ]
    }
   ],
   "source": [
    "#typecasting with float\n",
    "\n",
    "# with int\n",
    "int=1619\n",
    "print(float(int))\n",
    "\n",
    "#with complex\n",
    "#c=16+19j\n",
    "#print(float(c)) --->complex to int not possible\n",
    "\n",
    "# with bool\n",
    "b=False\n",
    "print(float(b))\n",
    "b=True\n",
    "print(float(b))\n",
    "\n",
    "# with string \n",
    "st='python'\n",
    "# print(float(st)) -->ValueError\n",
    "st1='P'\n",
    "# print(float(st1)) -->ValueError\n",
    "st2='1619'\n",
    "print(float(st2)) \n",
    "st3='16.19'\n",
    "print(float(st3))\n",
    "\n",
    "# with list\n",
    "l=[100,200,'java']\n",
    "# print(float(l)) -->type error\n",
    "\n",
    "# with set\n",
    "s={100,200,'java'}\n",
    "# print(float(s)) -->type error\n",
    "\n",
    "#with tuple\n",
    "t={100,6+7j}\n",
    "# print(float(t))  -->type error\n",
    "\n",
    "#with distonary\n",
    "dit={101:'java',\n",
    "    102:'pyt' }\n",
    "# print(float(dit))  -->type error\n",
    "\n"
   ]
  },
  {
   "cell_type": "code",
   "execution_count": 3,
   "metadata": {},
   "outputs": [
    {
     "name": "stdout",
     "output_type": "stream",
     "text": [
      "True\n",
      "True\n",
      "True\n",
      "True\n",
      "True\n",
      "True\n",
      "True\n",
      "True\n",
      "True\n",
      "True\n",
      "True\n"
     ]
    }
   ],
   "source": [
    "#typecasting with bool\n",
    "\n",
    "# with int\n",
    "int=1619\n",
    "print(bool(int))\n",
    "\n",
    "# with float\n",
    "f=19.16\n",
    "print(bool(f))\n",
    "\n",
    "#with complex\n",
    "c=16+19j\n",
    "print(bool(c)) \n",
    "\n",
    "# with string \n",
    "st='python'\n",
    "print(bool(st)) \n",
    "st1='P'\n",
    "print(bool(st1)) \n",
    "st2='1619'\n",
    "print(bool(st2)) \n",
    "st3='16.19'\n",
    "print(bool(st3))    \n",
    "\n",
    "# with list\n",
    "l=[100,200,'java']\n",
    "print(bool(l))   \n",
    "\n",
    "# with set\n",
    "s={100,200,'java'}\n",
    "print(bool(s))    \n",
    "\n",
    "#with tuple\n",
    "t={100,6+7j}\n",
    "print(bool(t))      \n",
    "\n",
    "#with distonary\n",
    "dit={101:'java',\n",
    "    102:'pyt' }\n",
    "print(bool(dit))    \n"
   ]
  },
  {
   "cell_type": "code",
   "execution_count": 4,
   "metadata": {},
   "outputs": [
    {
     "name": "stdout",
     "output_type": "stream",
     "text": [
      "(1619+0j)\n",
      "(19.16+0j)\n",
      "0j\n",
      "(1+0j)\n",
      "(1619+0j)\n",
      "(16.19+0j)\n"
     ]
    }
   ],
   "source": [
    "#typecasting with complex\n",
    "# with int\n",
    "int=1619\n",
    "print(complex(int))\n",
    "\n",
    "# with float\n",
    "f=19.16\n",
    "print(complex(f))\n",
    "\n",
    "# with bool\n",
    "b=False\n",
    "print(complex(b))\n",
    "b=True\n",
    "print(complex(b))\n",
    "\n",
    "# with string \n",
    "st='python'\n",
    "# print(complex(st)) -->value error\n",
    "st1='P'\n",
    "# print(complex(st1))  -->value error\n",
    "st2='1619'\n",
    "print(complex(st2)) \n",
    "st3='16.19'\n",
    "print(complex(st3))  \n",
    "\n",
    "# with list\n",
    "l=[100,200,'java']\n",
    "# print(complex(l))    --->TypeError\n",
    "\n",
    "# with set\n",
    "s={100,200,'java'}\n",
    "# print(complex(s))    --->TypeError\n",
    "\n",
    "#with tuple\n",
    "t={100,6+7j}\n",
    "# print(complex(t))   \n",
    "\n",
    "#with distonary\n",
    "dit={101:'java',\n",
    "    102:'pyt' }\n",
    "# print(complex(dit))    --->TypeError   \n",
    "\n"
   ]
  },
  {
   "cell_type": "code",
   "execution_count": null,
   "metadata": {},
   "outputs": [
    {
     "ename": "SyntaxError",
     "evalue": "expected ':' (188203752.py, line 17)",
     "output_type": "error",
     "traceback": [
      "\u001b[0;36m  Cell \u001b[0;32mIn[5], line 17\u001b[0;36m\u001b[0m\n\u001b[0;31m    with complex\u001b[0m\n\u001b[0m                ^\u001b[0m\n\u001b[0;31mSyntaxError\u001b[0m\u001b[0;31m:\u001b[0m expected ':'\n"
     ]
    }
   ],
   "source": [
    "#typecasting with string\n",
    "\n",
    "# with int\n",
    "int=1619\n",
    "print(str(int))\n",
    "\n",
    "# with float\n",
    "f=19.16\n",
    "print(str(f))\n",
    "\n",
    "# with bool\n",
    "b=False\n",
    "print(str(b))\n",
    "b=True\n",
    "print(str(b))\n",
    "\n",
    "# with complex\n",
    "c=16+19j \n",
    "print(str(c))  \n",
    "\n",
    "# with list\n",
    "l=[100,200,'java']\n",
    "print(str(l))      \n",
    "\n",
    "# with set\n",
    "s={100,200,'java'}\n",
    "print(str(s))     \n",
    "\n",
    "#with tuple\n",
    "t={100,6+7j}\n",
    "print(str(t))    \n",
    "\n",
    "#with distonary\n",
    "dit={101:'java',\n",
    "    102:'pyt' }\n",
    "print(str(dit))      "
   ]
  },
  {
   "cell_type": "code",
   "execution_count": 7,
   "metadata": {},
   "outputs": [
    {
     "name": "stdout",
     "output_type": "stream",
     "text": [
      "(122+0j)\n"
     ]
    },
    {
     "ename": "TypeError",
     "evalue": "'int' object is not callable",
     "output_type": "error",
     "traceback": [
      "\u001b[0;31m---------------------------------------------------------------------------\u001b[0m",
      "\u001b[0;31mTypeError\u001b[0m                                 Traceback (most recent call last)",
      "Cell \u001b[0;32mIn[7], line 5\u001b[0m\n\u001b[1;32m      2\u001b[0m \u001b[38;5;28mprint\u001b[39m(\u001b[38;5;28mcomplex\u001b[39m(a))\n\u001b[1;32m      4\u001b[0m b\u001b[38;5;241m=\u001b[39m\u001b[38;5;241m2\u001b[39m\u001b[38;5;241m+\u001b[39m\u001b[38;5;241m3\u001b[39mj\n\u001b[0;32m----> 5\u001b[0m \u001b[38;5;28mprint\u001b[39m(\u001b[38;5;28;43mint\u001b[39;49m\u001b[43m(\u001b[49m\u001b[43mb\u001b[49m\u001b[43m)\u001b[49m)\n",
      "\u001b[0;31mTypeError\u001b[0m: 'int' object is not callable"
     ]
    }
   ],
   "source": [
    "a=122\n",
    "print(complex(a))\n",
    "\n",
    "b=2+3j\n",
    "print(int(b))"
   ]
  }
 ],
 "metadata": {
  "kernelspec": {
   "display_name": "Python 3",
   "language": "python",
   "name": "python3"
  },
  "language_info": {
   "codemirror_mode": {
    "name": "ipython",
    "version": 3
   },
   "file_extension": ".py",
   "mimetype": "text/x-python",
   "name": "python",
   "nbconvert_exporter": "python",
   "pygments_lexer": "ipython3",
   "version": "3.13.1"
  }
 },
 "nbformat": 4,
 "nbformat_minor": 2
}
