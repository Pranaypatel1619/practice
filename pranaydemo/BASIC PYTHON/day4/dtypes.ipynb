{
 "cells": [
  {
   "cell_type": "code",
   "execution_count": 5,
   "metadata": {},
   "outputs": [
    {
     "name": "stdout",
     "output_type": "stream",
     "text": [
      "[10, 20, 20, 16, 19]\n",
      "<class 'list'>\n"
     ]
    }
   ],
   "source": [
    "a=input(\"Enter an integer values with spaces\")\n",
    "lst=list(map(int,a.split(' ')))\n",
    "print(lst)\n",
    "print(type(lst))"
   ]
  },
  {
   "cell_type": "code",
   "execution_count": 8,
   "metadata": {},
   "outputs": [
    {
     "name": "stdout",
     "output_type": "stream",
     "text": [
      "['python', 'java', 'css', 'html']\n",
      "<class 'list'>\n"
     ]
    }
   ],
   "source": [
    "a=input(\"enter space seperate string\")\n",
    "lststr=list(a.split(' '))\n",
    "print(lststr)\n",
    "print(type(lststr))"
   ]
  },
  {
   "cell_type": "code",
   "execution_count": 6,
   "metadata": {},
   "outputs": [
    {
     "name": "stdout",
     "output_type": "stream",
     "text": [
      "True\n",
      "<class 'bool'>\n"
     ]
    }
   ],
   "source": [
    "a=input(\"Enter an integer values with spaces\")\n",
    "lst=bool(map(int,a.split(' ')))\n",
    "print(lst)\n",
    "print(type(lst))"
   ]
  }
 ],
 "metadata": {
  "kernelspec": {
   "display_name": "Python 3",
   "language": "python",
   "name": "python3"
  },
  "language_info": {
   "codemirror_mode": {
    "name": "ipython",
    "version": 3
   },
   "file_extension": ".py",
   "mimetype": "text/x-python",
   "name": "python",
   "nbconvert_exporter": "python",
   "pygments_lexer": "ipython3",
   "version": "3.13.1"
  }
 },
 "nbformat": 4,
 "nbformat_minor": 2
}
