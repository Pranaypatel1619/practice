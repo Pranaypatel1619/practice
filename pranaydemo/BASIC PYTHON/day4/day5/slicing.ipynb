{
 "cells": [
  {
   "cell_type": "code",
   "execution_count": 36,
   "metadata": {},
   "outputs": [
    {
     "name": "stdout",
     "output_type": "stream",
     "text": [
      "['python', 'rust']\n",
      "rb\n",
      "rb\n",
      "ry\n",
      "ry\n",
      "dos\n",
      "dos\n",
      "si,b\n",
      "si,b\n",
      "jv\n",
      "jv\n"
     ]
    }
   ],
   "source": [
    "d={'ln':['python','java','ruby','rust'],\n",
    "     'fw':['django,flask','spring,hibernate']}\n",
    "print(d['ln'][::3])\n",
    "print(d['ln'][2][:3:2])\n",
    "print(d['ln'][-2][-4:-1:2])\n",
    "print(d['ln'][2][::3])\n",
    "print(d['ln'][-2][-4::3])\n",
    "print(d['fw'][0][:11:5])\n",
    "print(d['fw'][-2][-12:-1:5])\n",
    "print(d['fw'][1][:10:3])\n",
    "print(d['fw'][-1][:-6:3])\n",
    "print(d['ln'][1][:4:2])\n",
    "print(d['ln'][-3][-4:-1:2])"
   ]
  },
  {
   "cell_type": "code",
   "execution_count": 13,
   "metadata": {},
   "outputs": [
    {
     "name": "stdout",
     "output_type": "stream",
     "text": [
      "gda\n",
      "trp\n",
      "1,1\n",
      "[4, 3, 2, 1]\n",
      "tp\n",
      "('pqrst', '11,12')\n",
      "[4, 1]\n"
     ]
    }
   ],
   "source": [
    "l=[1,2,3,4,'abcdefgh',{11},(\"11,12\",'pqrst')]\n",
    "print(l[4][6::-3])\n",
    "print(l[6][1][4::-2])\n",
    "print(l[6][0][3:0:-1])\n",
    "print(l[3::-1])\n",
    "print(l[6][1][4::-4])\n",
    "print(l[6][1::-1])\n",
    "print(l[3::-3])"
   ]
  }
 ],
 "metadata": {
  "kernelspec": {
   "display_name": "Python 3",
   "language": "python",
   "name": "python3"
  },
  "language_info": {
   "codemirror_mode": {
    "name": "ipython",
    "version": 3
   },
   "file_extension": ".py",
   "mimetype": "text/x-python",
   "name": "python",
   "nbconvert_exporter": "python",
   "pygments_lexer": "ipython3",
   "version": "3.13.1"
  }
 },
 "nbformat": 4,
 "nbformat_minor": 2
}
