{
 "cells": [
  {
   "cell_type": "code",
   "execution_count": null,
   "metadata": {},
   "outputs": [
    {
     "name": "stdout",
     "output_type": "stream",
     "text": [
      "ef\n",
      "ef\n",
      ",,\n",
      ",,\n",
      "['false', (2+8j), 12.8, 10]\n",
      "['false', (2+8j), 12.8, 10]\n",
      "(4, 2)\n",
      "(4, 2)\n",
      "fe\n",
      "fe\n",
      "elppa\n",
      "elppa\n"
     ]
    },
    {
     "ename": "TypeError",
     "evalue": "'set' object is not subscriptable",
     "output_type": "error",
     "traceback": [
      "\u001b[0;31m---------------------------------------------------------------------------\u001b[0m",
      "\u001b[0;31mTypeError\u001b[0m                                 Traceback (most recent call last)",
      "Cell \u001b[0;32mIn[70], line 15\u001b[0m\n\u001b[1;32m     13\u001b[0m \u001b[38;5;28mprint\u001b[39m(l[\u001b[38;5;241m5\u001b[39m][\u001b[38;5;241m0\u001b[39m][::\u001b[38;5;241m-\u001b[39m\u001b[38;5;241m1\u001b[39m])\n\u001b[1;32m     14\u001b[0m \u001b[38;5;28mprint\u001b[39m(l[\u001b[38;5;241m-\u001b[39m\u001b[38;5;241m3\u001b[39m][\u001b[38;5;241m-\u001b[39m\u001b[38;5;241m2\u001b[39m][::\u001b[38;5;241m-\u001b[39m\u001b[38;5;241m1\u001b[39m])\n\u001b[0;32m---> 15\u001b[0m \u001b[38;5;28mprint\u001b[39m(\u001b[43ml\u001b[49m\u001b[43m[\u001b[49m\u001b[38;5;241;43m-\u001b[39;49m\u001b[38;5;241;43m2\u001b[39;49m\u001b[43m]\u001b[49m\u001b[43m[\u001b[49m\u001b[43m:\u001b[49m\u001b[43m:\u001b[49m\u001b[38;5;241;43m9\u001b[39;49m\u001b[43m]\u001b[49m)\n",
      "\u001b[0;31mTypeError\u001b[0m: 'set' object is not subscriptable"
     ]
    }
   ],
   "source": [
    "l=[10,12.8,2+8j,'false','12,13,14,15',['apple','breakfast'],{11,12,13},(1,2,3,4)]\n",
    "\n",
    "print(l[3][::-4])\n",
    "print(l[-5][::-4])\n",
    "print(l[4][5:1:-3])\n",
    "print(l[-4][-6:-10:-3])\n",
    "print(l[3::-1])\n",
    "print(l[-5::-1])\n",
    "print(l[7][3::-2])\n",
    "print(l[-1][-1::-2])\n",
    "print(l[5][1][5:1:-3])\n",
    "print(l[-3][-1][-4:-8:-3])\n",
    "print(l[5][0][::-1])\n",
    "print(l[-3][-2][::-1])\n"
   ]
  }
 ],
 "metadata": {
  "kernelspec": {
   "display_name": "Python 3",
   "language": "python",
   "name": "python3"
  },
  "language_info": {
   "codemirror_mode": {
    "name": "ipython",
    "version": 3
   },
   "file_extension": ".py",
   "mimetype": "text/x-python",
   "name": "python",
   "nbconvert_exporter": "python",
   "pygments_lexer": "ipython3",
   "version": "3.13.1"
  }
 },
 "nbformat": 4,
 "nbformat_minor": 2
}
