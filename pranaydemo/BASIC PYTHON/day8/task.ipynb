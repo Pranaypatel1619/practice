{
 "cells": [
  {
   "cell_type": "code",
   "execution_count": 46,
   "metadata": {},
   "outputs": [
    {
     "name": "stdout",
     "output_type": "stream",
     "text": [
      "20\n",
      "8\n",
      "2\n",
      "-25\n",
      "3.3333333333333335\n",
      "16\n",
      "3\n",
      "15\n",
      "True\n",
      "True\n",
      "True\n",
      "True\n",
      "True\n",
      "False\n",
      "True\n",
      "True\n",
      "False\n",
      "False\n",
      "True\n",
      "True\n",
      "True\n",
      "True\n",
      "False\n",
      "False\n",
      "True\n",
      "False\n",
      "True\n",
      "False\n",
      "(1, 2, 1, 2)\n",
      "True\n",
      "False\n"
     ]
    }
   ],
   "source": [
    "print(10+5*2)\n",
    "10//3\n",
    "print(2**3)\n",
    "print(17%5)\n",
    "print(-5**2)\n",
    "print(10/3)\n",
    "print(7*2+3-1)\n",
    "print(5%2*3)\n",
    "print(4+3*2**2-1)\n",
    "print(10>5)\n",
    "print(3==3.0)\n",
    "print(10<20>15)\n",
    "print(5>=5.0)\n",
    "print(10<=10<20)\n",
    "print(10!=10.0)\n",
    "print(3.0==3)\n",
    "print(False==0)\n",
    "print('apple'>'banana')\n",
    "print('hello'=='Hello')\n",
    "print(5==5.0)\n",
    "print('apple'<'apricot')\n",
    "print('python'>'java')\n",
    "print('hello'!='Hello')\n",
    "print('Mango'>'mango')\n",
    "print('zebra'<'apple')\n",
    "#print(\"10\">5)\n",
    "lst=[10,20,30]\n",
    "print(lst[1]==20)\n",
    "a=[1,2,3]\n",
    "b=[1,2,3]\n",
    "print(a is b)\n",
    "print([1,2,3]<[1,2,4])\n",
    "print((1,2,3)==[1,2,3])\n",
    "print((1,2)*2)\n",
    "set1={1,2,3}\n",
    "set2={3,2,1}\n",
    "print(set1==set2)\n",
    "print(set1<set2)\n",
    "\n"
   ]
  }
 ],
 "metadata": {
  "kernelspec": {
   "display_name": "Python 3",
   "language": "python",
   "name": "python3"
  },
  "language_info": {
   "codemirror_mode": {
    "name": "ipython",
    "version": 3
   },
   "file_extension": ".py",
   "mimetype": "text/x-python",
   "name": "python",
   "nbconvert_exporter": "python",
   "pygments_lexer": "ipython3",
   "version": "3.13.1"
  }
 },
 "nbformat": 4,
 "nbformat_minor": 2
}
