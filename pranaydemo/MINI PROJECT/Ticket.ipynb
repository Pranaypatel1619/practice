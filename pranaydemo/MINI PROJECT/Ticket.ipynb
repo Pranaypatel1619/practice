{
 "cells": [
  {
   "cell_type": "code",
   "execution_count": null,
   "id": "c78f69ab",
   "metadata": {},
   "outputs": [
    {
     "ename": "ModuleNotFoundError",
     "evalue": "No module named 'Bank'",
     "output_type": "error",
     "traceback": [
      "\u001b[0;31m---------------------------------------------------------------------------\u001b[0m",
      "\u001b[0;31mModuleNotFoundError\u001b[0m                       Traceback (most recent call last)",
      "Cell \u001b[0;32mIn[4], line 1\u001b[0m\n\u001b[0;32m----> 1\u001b[0m \u001b[38;5;28;01mfrom\u001b[39;00m\u001b[38;5;250m \u001b[39m\u001b[38;5;21;01mBank\u001b[39;00m\u001b[38;5;250m \u001b[39m\u001b[38;5;28;01mimport\u001b[39;00m b1, BankAccount\n\u001b[1;32m      2\u001b[0m \u001b[38;5;28;01mclass\u001b[39;00m\u001b[38;5;250m \u001b[39m\u001b[38;5;21;01mTicketBooking\u001b[39;00m:\n\u001b[1;32m      3\u001b[0m     movie_name\u001b[38;5;241m=\u001b[39m\u001b[38;5;124m\"\u001b[39m\u001b[38;5;124mHIT3\u001b[39m\u001b[38;5;124m\"\u001b[39m\n",
      "\u001b[0;31mModuleNotFoundError\u001b[0m: No module named 'Bank'"
     ]
    }
   ],
   "source": [
    "from BankAccount import b1, BankAccount\n",
    "class TicketBooking:\n",
    "    movie_name=\"HIT3\"\n",
    "    seats={\"gold\":[100,100],\"silver\":[150,75],\"platinum\":[50,150]}\n",
    "\n",
    "    def __init__(self, name,age,b1):\n",
    "        self.name=name\n",
    "        self.age=age\n",
    "        self.bank=b1\n",
    "\n",
    "    @classmethod\n",
    "    def display_info(cls):\n",
    "        print(f\"You are booking {cls.movie_name} movie tickets\")\n",
    "        for i in cls.seats:\n",
    "            print(f\"the seat type is {i} and number of seats available in {i} is {cls.seats[i][0]} and price of each ticket is {cls.seats[i][1]}\")\n",
    "\n",
    "    def book(self):\n",
    "        TicketBooking.display_info()\n",
    "        seat_type = input(\"Enter 'gold' for Gold seats, 'silver' for Silver seats and 'platinum' for Platinum seats: \")\n",
    "        if seat_type.lower() in TicketBooking.seats.keys():\n",
    "            print(f\"The available seats are {TicketBooking.seats[seat_type][0]} and price is {TicketBooking.seats[seat_type][1]}\")\n",
    "            number_of_seats=int(input(\"Enter the number of seats you want to book : \"))\n",
    "            if number_of_seats<=TicketBooking.seats[seat_type][0]:\n",
    "                price=TicketBooking.seats[seat_type][1]\n",
    "                total_price= TicketBooking.total_amount(number_of_seats,price)\n",
    "\n",
    "                print(f\"The amount is {total_price}\")\n",
    "                pay=input(\"enter y to pay and n to quit: \")\n",
    "                if pay.lower()=='y':\n",
    "                    TicketBooking.pay_now(self,total_price)\n",
    "                else:\n",
    "                    print(\"Thank you\")\n",
    "            else:\n",
    "                print(\"Enter the available number of seats\")\n",
    "                self.book()\n",
    "        else:\n",
    "            print(\"Enter the available type of seats\")\n",
    "            self.book()\n",
    "    @staticmethod\n",
    "    def total_amount(seats,price):\n",
    "        return seats*price\n",
    "    @staticmethod\n",
    "    def pay_now(self,amount):\n",
    "        amount_to_pay=int(input(\"Enter the amount: \"))\n",
    "        if amount_to_pay==amount:\n",
    "            payment=amount_to_pay\n",
    "            b1.withdraw(payment)\n",
    "            b1.calculate_balance(0,payment)\n",
    "\n",
    "            print(\"Booking successful\")\n",
    "        else:\n",
    "            print(\"Enter the valid amount\")\n",
    "\n",
    "\n",
    "t1=TicketBooking('ABC',23,BankAccount)\n",
    "t1.book()"
   ]
  }
 ],
 "metadata": {
  "kernelspec": {
   "display_name": "Python 3",
   "language": "python",
   "name": "python3"
  },
  "language_info": {
   "codemirror_mode": {
    "name": "ipython",
    "version": 3
   },
   "file_extension": ".py",
   "mimetype": "text/x-python",
   "name": "python",
   "nbconvert_exporter": "python",
   "pygments_lexer": "ipython3",
   "version": "3.13.1"
  }
 },
 "nbformat": 4,
 "nbformat_minor": 5
}
